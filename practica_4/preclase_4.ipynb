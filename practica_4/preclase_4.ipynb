{
 "cells": [
  {
   "cell_type": "markdown",
   "id": "239de582",
   "metadata": {},
   "source": [
    "# Material pre clase 4 - Funciones\n",
    "\n",
    "El objetivo principal de esta clase es estudiar la definición, implementación y organización de funciones en Python. Para ello, se debe tener un claro entendimiento tanto de las bases del lenguaje como del marco conceptual de cajas negras que utilizamos hasta ahora para analizar funciones. Más específicamente, los temas que vamos a ver son:\n",
    "\n",
    "- Como definir funciones\n",
    "- Como llamar funciones\n",
    "- Argumentos de entrada\n",
    "    - Argumentos obligatorios\n",
    "    - Argumentos opcionales\n",
    "    - Argumentos por defecto\n",
    "- Argumentos de salida\n",
    "- Documentación\n",
    "- Diseño de funciones\n",
    "- Recursividad\n"
   ]
  },
  {
   "cell_type": "markdown",
   "id": "569ce1f7",
   "metadata": {},
   "source": [
    "## Definiendo funciones\n",
    "\n",
    "Las funciones comprenden un bloque de código que implementa cierta funcionalidad. Dividir el código en funciones nos permite ordernar el código, hacerlo mas legible, reusarlo, y agilizar algunos procesos.\n",
    "\n",
    "Para comprender la idea detrás de las funciones suele ser útil recurrir al concepto de **caja negra**. Este hace referencia a un bloque que, dada un cierto numero de entradas, aplica procesamientos y genera un conjunto determinado de salidas. \n",
    "\n",
    "<img src=\"imagenes/funciones_1.png\" alt=\"Drawing\"/>\n",
    "\n",
    "Cuando pensemos en el diagrama de flujo de un programa, podemos utilizar este concepto para modularizar procesamientos dentro del programa, y de esa forma poder organizar el desarrollo del código, haciéndolo robusto frente a cambios inconsistentes y al trabajo conjunto de varias personas, permitiéndonos crear herramientas de código reutilizables y de fácil depuración. \n",
    "\n",
    "Para definir una función hacemos uso de la palabra reservada **def**. Luego de la palabra **def** debemos incluir el nombre de la función, seguido de los parámetros de entrada entre paréntesis. Finalmente, esta sentencia inicial se finaliza con el caracter **:** luego del cual debe comenzar el bloque indentado que conforma el cuerpo de la función. El final del indentado me indica el final de la función.\n",
    "\n",
    "Dentro del bloque identado, lo primero siempre debe ser el *docstring* o documentación de la función. Este consiste en un comentario de párrafo en el cual se debe explicar por completo y a detalle que proceso realiza la función y cómo se debe utilizar. Es probablemente la parte mas importante de la función, pues la gran mayoría de veces que usemos una función nos vamos a guiar por su documentación, mientras que del código solo nos preocupamos una sola vez, cuando creamos la función (o cuando arreglamos algun bug). Hablaremos de docstrings mas adelante en esta misma clase.\n",
    "\n",
    "Luego de la documentación, siguen las sentencias de código que realizan los procesos de la función.\n",
    "\n",
    "Por útilmo, la función puede tener variables de salida, las cuales se indican utilizando la palabra reservada **return**. Esta palabra reservada indica el final de la función, y luego de la misma se especifican las salidas de la función. \n",
    "\n",
    "<img src=\"imagenes/funciones_2.png\" alt=\"Drawing\"/>\n",
    "\n",
    "vamos a crear, a modo de ejemplo, la función de la imagen llamada \"calculate_average\" que reciba como argumentos de entrada dos numeros cualesquiera, compute el promedio entre ambos, y devuelva como salida el promedio calculado:"
   ]
  },
  {
   "cell_type": "code",
   "execution_count": 4,
   "id": "d434443e",
   "metadata": {},
   "outputs": [],
   "source": [
    "def calculate_average(var_1, var_2):\n",
    "    \"\"\"\n",
    "    Calculate the average between 2 numeric \n",
    "    input variables.\n",
    "    \"\"\"\n",
    "    avg = (var_1 + var_2) / 2\n",
    "    return avg"
   ]
  },
  {
   "cell_type": "markdown",
   "id": "f6e78974",
   "metadata": {},
   "source": [
    "## Llamando funciones\n",
    "\n",
    "El primer requisito para poder llamar una función es que esa función exista dentro del entorno de ejecución, es decir, que se encuentre definida. Al igual que las variables, si quiero utilizar una función que no defini, el intérprete no va a poder ejecutar la sentencia y obtendremos un error de variable no definida"
   ]
  },
  {
   "cell_type": "code",
   "execution_count": 2,
   "id": "dae2938d",
   "metadata": {},
   "outputs": [
    {
     "ename": "NameError",
     "evalue": "name 'calculate_averagee' is not defined",
     "output_type": "error",
     "traceback": [
      "\u001b[0;31m---------------------------------------------------------------------------\u001b[0m",
      "\u001b[0;31mNameError\u001b[0m                                 Traceback (most recent call last)",
      "\u001b[0;32m/tmp/ipykernel_225106/1656367553.py\u001b[0m in \u001b[0;36m<cell line: 1>\u001b[0;34m()\u001b[0m\n\u001b[0;32m----> 1\u001b[0;31m \u001b[0mcalculate_averagee\u001b[0m \u001b[0;31m# doble \"e\" para forzar un error\u001b[0m\u001b[0;34m\u001b[0m\u001b[0;34m\u001b[0m\u001b[0m\n\u001b[0m",
      "\u001b[0;31mNameError\u001b[0m: name 'calculate_averagee' is not defined"
     ]
    }
   ],
   "source": [
    "calculate_averagee # doble \"e\" para forzar un error"
   ]
  },
  {
   "cell_type": "markdown",
   "id": "f2321080",
   "metadata": {},
   "source": [
    "Una vez que definimos la función, como en la primer celda de código de este Notebook, para llamar a dicha función tenemos que simplemente escribir el nombre de la función, seguido de los paréntesis **()**, ubicando los argumentos de entrada necesario entre ellos. Por ejemplo, llamemos a la función que creamos con los valores 8 y 9 "
   ]
  },
  {
   "cell_type": "code",
   "execution_count": 3,
   "id": "067f806a",
   "metadata": {},
   "outputs": [
    {
     "data": {
      "text/plain": [
       "8.5"
      ]
     },
     "execution_count": 3,
     "metadata": {},
     "output_type": "execute_result"
    }
   ],
   "source": [
    "calculate_average(8,9)"
   ]
  },
  {
   "cell_type": "markdown",
   "id": "20d64e3a",
   "metadata": {},
   "source": [
    "De esta forma, una vez que definimos la función dentro del intérprete, podemos utilizarla cuanto querramos"
   ]
  },
  {
   "cell_type": "code",
   "execution_count": 6,
   "id": "b0d94e33",
   "metadata": {},
   "outputs": [
    {
     "data": {
      "text/plain": [
       "9.99995"
      ]
     },
     "execution_count": 6,
     "metadata": {},
     "output_type": "execute_result"
    }
   ],
   "source": [
    "calculate_average(9.9999,10)"
   ]
  },
  {
   "cell_type": "markdown",
   "id": "458255f8",
   "metadata": {},
   "source": [
    "## Argumentos de entrada\n",
    "### Argumentos posicionales\n",
    "\n",
    "Los términos \"argumentos\", \"parámetros\" o \"variables\" de entrada se utilizan indistintamente para referirse a las entradas de una función. \n",
    "\n",
    "Como vimos, los argumentos se detallan luego del nombre de la función cuando la definimos. Uno puede incluir tantos argumentos de entrada como necesite, separándolos por coma. Por ejemplo, puedo redefinir mi función para que reciba ahora 3 variables"
   ]
  },
  {
   "cell_type": "code",
   "execution_count": 30,
   "id": "49da916c",
   "metadata": {},
   "outputs": [],
   "source": [
    "def calculate_average(var_1, var_2, var_3):\n",
    "    \"\"\"\n",
    "    Calculate the average between 2 numeric \n",
    "    input variables.\n",
    "    \"\"\"\n",
    "    avg = (var_1 + var_2 + var_3) / 3\n",
    "    return avg"
   ]
  },
  {
   "cell_type": "code",
   "execution_count": 8,
   "id": "7a2da77c",
   "metadata": {},
   "outputs": [
    {
     "data": {
      "text/plain": [
       "2.0"
      ]
     },
     "execution_count": 8,
     "metadata": {},
     "output_type": "execute_result"
    }
   ],
   "source": [
    "calculate_average(1,2,3)"
   ]
  },
  {
   "cell_type": "markdown",
   "id": "dc11ce63",
   "metadata": {},
   "source": [
    "Cuando definimos los argumentos de esta manera, la función debe ser llamada con el número correcto de argumentos. Si la definición de la función tiene 3 argumentos de entrada, cuando hago una llamada la función *va a esperar* ser llamada con 3 argumentos, de lo contrario resulta en un error. "
   ]
  },
  {
   "cell_type": "code",
   "execution_count": 9,
   "id": "0cd1225b",
   "metadata": {},
   "outputs": [
    {
     "ename": "TypeError",
     "evalue": "calculate_average() missing 1 required positional argument: 'var_3'",
     "output_type": "error",
     "traceback": [
      "\u001b[0;31m---------------------------------------------------------------------------\u001b[0m",
      "\u001b[0;31mTypeError\u001b[0m                                 Traceback (most recent call last)",
      "\u001b[0;32m/tmp/ipykernel_225106/2002883786.py\u001b[0m in \u001b[0;36m<cell line: 1>\u001b[0;34m()\u001b[0m\n\u001b[0;32m----> 1\u001b[0;31m \u001b[0mcalculate_average\u001b[0m\u001b[0;34m(\u001b[0m\u001b[0;36m1\u001b[0m\u001b[0;34m,\u001b[0m\u001b[0;36m2\u001b[0m\u001b[0;34m)\u001b[0m\u001b[0;34m\u001b[0m\u001b[0;34m\u001b[0m\u001b[0m\n\u001b[0m",
      "\u001b[0;31mTypeError\u001b[0m: calculate_average() missing 1 required positional argument: 'var_3'"
     ]
    }
   ],
   "source": [
    "calculate_average(1,2)"
   ]
  },
  {
   "cell_type": "markdown",
   "id": "c7594e45",
   "metadata": {},
   "source": [
    "Es por esto que estos argumentos reciben el nombre de **argumentos posicionales obligatorios**, ya que para utilizar la función estamos obligados a definirlos, y los mismos se definen en un determinado orden. \n",
    "\n",
    "Es decir, con el siguiente llamado ```calculate_average(1,2,3)```, las variables dentro de la función valen: \n",
    "```\n",
    "    var_1 --> 1\n",
    "    var_2 --> 2\n",
    "    var_3 --> 3\n",
    "```\n",
    "a diferencia, por ejemplo, del llamado ```calculate_average(3,1,2)``` en donde las variables dentro de la función valdrían:\n",
    "\n",
    "```\n",
    "    var_1 --> 3\n",
    "    var_2 --> 1\n",
    "    var_3 --> 2\n",
    "```"
   ]
  },
  {
   "cell_type": "markdown",
   "id": "bb6547f6",
   "metadata": {},
   "source": [
    "### Argumentos arbitrarios\n",
    "\n",
    "Puede ocurrir que yo no sepa exactamente cuantos parámetros de entrada va a requerir mi función. Por ejemplo, yendo a un caso real, supongamos que quiero definir una función que me calcule el promedio de las notas de TP para todos los estudiantes de la cátedra. Este cuatrimestre cuento con 12 estudiantes, por lo cual debería tener 12 variables de entrada, una por cada estudiante. Ahora, si defino esta función con 12 variables de entrada, si o si voy a tener que ingresar 12 notas para usarla. Esto es una característica que limita el alcance de mi función, solo sirve para cursos que tengan 12 estudiantes. Si el cuatrimestre que viene tengo 10 estudiantes, no voy a poder usar esta función de manera directa. Tendría que volver a definir una función que tenga 10 variables de entrada, lo que generaría una nueva función muy limitada y prácticamente no reutilizable. Para estos casos, puedo definir una función que reciba un *número variable de argumentos de entrada*.\n",
    "\n",
    "Para coseguir esto, agrego un simbolo \\* antes del nombre del parámetro de entrada en la definición de la función. De esta forma, la función va a agrupar los parámetros dentro de una tupla, a través de la cual puedo luego acceder a sus valores a partir de índices. \n",
    "\n",
    "En las documentaciones, los argumentos arbitrarios suelen indicarse con el término **\\*args**\n",
    "\n",
    "Por ejemplo"
   ]
  },
  {
   "cell_type": "code",
   "execution_count": 31,
   "id": "6cf47b7a",
   "metadata": {},
   "outputs": [],
   "source": [
    "def print_variable_inputs(*input_vars):\n",
    "    i = 0\n",
    "    for var in input_vars:\n",
    "        print(f\"this is the variable with index {i}, and its value is: {var}\")\n",
    "        i += 1\n",
    "    return None"
   ]
  },
  {
   "cell_type": "code",
   "execution_count": 32,
   "id": "9dad1f3f",
   "metadata": {},
   "outputs": [
    {
     "name": "stdout",
     "output_type": "stream",
     "text": [
      "this is the variable with index 0, and its value is: Hola!\n"
     ]
    }
   ],
   "source": [
    "print_variable_inputs(\"Hola!\")"
   ]
  },
  {
   "cell_type": "code",
   "execution_count": 33,
   "id": "9075ccfb",
   "metadata": {},
   "outputs": [
    {
     "name": "stdout",
     "output_type": "stream",
     "text": [
      "this is the variable with index 0, and its value is: Hola!\n",
      "this is the variable with index 1, and its value is: muchas\n",
      "this is the variable with index 2, and its value is: Variables!\n",
      "this is the variable with index 3, and its value is: 912\n"
     ]
    }
   ],
   "source": [
    "print_variable_inputs(\"Hola!\", \"muchas\", \"Variables!\", 912)"
   ]
  },
  {
   "cell_type": "markdown",
   "id": "8bd1c58b",
   "metadata": {},
   "source": [
    "Con respecto a esta función, podemos hacer dos cambios importantes. En primer lugar, esta forma de implementar un contador es poco eficiente. Cuando el contador se relaciona directamente con la variable que estamos iterando (en este caso la tupla *input_vars*) podemos usar la función inegrada **enumerate**. Se recomienda primero leer su documentación, pero básicamente lo que hace esta función es permitirnos recorrer el iterable obteniendo tanto la variable como el índice de la misma, ahorrandonos de esta forma el contador. Por último, se puede dejar la sentencia **return** sin ninguna variable de salida, lo que equivale a tener como salida un \"None\". Entonces, la función quedaría:"
   ]
  },
  {
   "cell_type": "code",
   "execution_count": 15,
   "id": "5f759158",
   "metadata": {},
   "outputs": [],
   "source": [
    "def print_variable_inputs(*input_vars):\n",
    "    for i, var in enumerate(input_vars):\n",
    "        print(f\"this is the variable with index {i}, and its value is: {var}\")\n",
    "    return "
   ]
  },
  {
   "cell_type": "code",
   "execution_count": 16,
   "id": "cde52f03",
   "metadata": {},
   "outputs": [
    {
     "name": "stdout",
     "output_type": "stream",
     "text": [
      "this is the variable with index 0, and its value is: Hola!\n",
      "this is the variable with index 1, and its value is: muchas\n",
      "this is the variable with index 2, and its value is: Variables!\n",
      "this is the variable with index 3, and its value is: 912\n"
     ]
    }
   ],
   "source": [
    "print_variable_inputs(\"Hola!\", \"muchas\", \"Variables!\", 912)"
   ]
  },
  {
   "cell_type": "markdown",
   "id": "8cdf1dd6",
   "metadata": {},
   "source": [
    "Ahora, puedo aplicar este concepto de número arbitrario de variables de entrada para el ejemplo de la función que calculaba promedios. Anteriormente, definimos esta función para 2 valores de manera explícita. Ahora, podriamos pensar en una implementación que compute el promedio de valores sin importar con cuantos valores de entrada llame a la función. Intenten dar con esa implementación antes de ver la solución de las proximas celdas, se deja un espacio en blanco intencionalmente:"
   ]
  },
  {
   "cell_type": "markdown",
   "id": "50aaf92a",
   "metadata": {},
   "source": [
    "\n",
    ".\n",
    "\n",
    ".\n",
    "\n",
    ".\n",
    "\n",
    ".\n",
    "\n",
    ".\n",
    "\n",
    ".\n",
    "\n",
    ".\n",
    "\n",
    ".\n",
    "\n",
    ".\n",
    "\n",
    ".\n",
    "\n",
    "."
   ]
  },
  {
   "cell_type": "code",
   "execution_count": 17,
   "id": "f63f82b3",
   "metadata": {},
   "outputs": [],
   "source": [
    "def calculate_average(*input_vars):\n",
    "    \"\"\"\n",
    "    Calculate the average between numeric \n",
    "    input variables.\n",
    "    \"\"\"\n",
    "    acum = 0\n",
    "    for var in input_vars:\n",
    "        acum += var\n",
    "    \n",
    "    avg = acum / len(input_vars)\n",
    "    return avg"
   ]
  },
  {
   "cell_type": "code",
   "execution_count": 24,
   "id": "605db73c",
   "metadata": {},
   "outputs": [
    {
     "data": {
      "text/plain": [
       "10.0"
      ]
     },
     "execution_count": 24,
     "metadata": {},
     "output_type": "execute_result"
    }
   ],
   "source": [
    "calculate_average(10)"
   ]
  },
  {
   "cell_type": "code",
   "execution_count": 25,
   "id": "1438bf5a",
   "metadata": {},
   "outputs": [
    {
     "data": {
      "text/plain": [
       "9.5"
      ]
     },
     "execution_count": 25,
     "metadata": {},
     "output_type": "execute_result"
    }
   ],
   "source": [
    "calculate_average(10, 9)"
   ]
  },
  {
   "cell_type": "code",
   "execution_count": 26,
   "id": "7feb7e6b",
   "metadata": {},
   "outputs": [
    {
     "data": {
      "text/plain": [
       "7.5"
      ]
     },
     "execution_count": 26,
     "metadata": {},
     "output_type": "execute_result"
    }
   ],
   "source": [
    "calculate_average(10, 9, 8, 7, 6, 5)"
   ]
  },
  {
   "cell_type": "markdown",
   "id": "f16be334",
   "metadata": {},
   "source": [
    "Esta implementación busca ser lo mas primitiva posible, utilizando las herramientas nativas de python que vimos con fines educativos. Siempre que encuentren una implementación de algún proceso que quieren realizar dentro de una librería, lo mejor es utilizar esa implementación por sobre la nuestra. Por eso, luego de pensar y diseñar las funciones que necesito, el siguiente paso debería ser siempre investigar que cosas me puedo ahorrar implementar por mi cuenta, y que cosas no. En este caso, Numpy cuenta con una función que calcula el promedio de manera mucho mas eficiente "
   ]
  },
  {
   "cell_type": "code",
   "execution_count": 29,
   "id": "6a56c906",
   "metadata": {},
   "outputs": [
    {
     "data": {
      "text/plain": [
       "7.5"
      ]
     },
     "execution_count": 29,
     "metadata": {},
     "output_type": "execute_result"
    }
   ],
   "source": [
    "import numpy as np\n",
    "\n",
    "np.mean([10, 9, 8, 7, 6, 5])"
   ]
  },
  {
   "cell_type": "markdown",
   "id": "13537e31",
   "metadata": {},
   "source": [
    "## Argumentos por palabra clave (keyword args)\n",
    "\n",
    "Los argumentos por palabra clave nos permiten desentendernos del orden en el que ingresamos los argumentos a la hora de llamar una función. Para hacerlo, seguimos la sintaxis ```key = value``` en donde la key pasa a ser el nombre de variable que elegimos en la definición de la función, y value pasa a ser el valor que le queremos dar a esa variable en el llamado de la función. Por ejemplo, si se define la siguiente función"
   ]
  },
  {
   "cell_type": "code",
   "execution_count": 43,
   "id": "0e81a12c",
   "metadata": {},
   "outputs": [],
   "source": [
    "def print_date(day, month, year):\n",
    "    print(f\"Today is {day}/{month}/{year}\")"
   ]
  },
  {
   "cell_type": "code",
   "execution_count": 49,
   "id": "92609c91",
   "metadata": {},
   "outputs": [
    {
     "name": "stdout",
     "output_type": "stream",
     "text": [
      "Today is 13/10/12\n",
      "Today is 23/13/10\n"
     ]
    }
   ],
   "source": [
    "print_date(13, 10, 12) # cual es la correcta?\n",
    "print_date(23, 13, 10)"
   ]
  },
  {
   "cell_type": "markdown",
   "id": "bb48759b",
   "metadata": {},
   "source": [
    "Uno puede olvidarse rapidamente si primero debe ingresar el dia y luego el mes, o al revés. Para evitar confusiones, podriamos pasar argumentos por palabras clave. De esta forma, sin importar el orden en que pase los argumentos, siempre voy a tener el mismo resultado ya que estoy definiendo cada variable de entrada explícitamente. "
   ]
  },
  {
   "cell_type": "code",
   "execution_count": 51,
   "id": "6177f102",
   "metadata": {},
   "outputs": [
    {
     "name": "stdout",
     "output_type": "stream",
     "text": [
      "Today is 13/10/12\n"
     ]
    }
   ],
   "source": [
    "print_date(day=13, month=10, year=12)"
   ]
  },
  {
   "cell_type": "code",
   "execution_count": 53,
   "id": "febd334e",
   "metadata": {},
   "outputs": [
    {
     "name": "stdout",
     "output_type": "stream",
     "text": [
      "Today is 13/10/12\n"
     ]
    }
   ],
   "source": [
    "print_date(year=12, day=13, month=10)"
   ]
  },
  {
   "cell_type": "code",
   "execution_count": 54,
   "id": "aad5a141",
   "metadata": {},
   "outputs": [
    {
     "name": "stdout",
     "output_type": "stream",
     "text": [
      "Today is 13/10/12\n"
     ]
    }
   ],
   "source": [
    "print_date(month=10, year=12, day=13)"
   ]
  },
  {
   "cell_type": "markdown",
   "id": "6d09c4c7",
   "metadata": {},
   "source": [
    "Al igual que antes, puede haber una aplicación para la cual necesito definir un número arbitrario de parámetros que serán pasados por palabra clave. Es decir, un número variable de keyword-arguments. Para ello, podemos agregar el símbolo \\** delante del parámetro de entrada, de forma tal que la función reciba un diccionario de argumentos, al cual puede acceder como a cualquier otro diccionario. Usualmente, en la documentación de funciones este tipo de parámetros arbitrarios se definen con el nombre ****kwargs**."
   ]
  },
  {
   "cell_type": "code",
   "execution_count": 55,
   "id": "f1d9d244",
   "metadata": {},
   "outputs": [],
   "source": [
    "def print_date(year, day, month, **kwargs):\n",
    "    print(f\"Today is {day}/{month}/{year}\")\n",
    "    print(f\"And the weather is {kwargs['weather']}\")"
   ]
  },
  {
   "cell_type": "code",
   "execution_count": 59,
   "id": "6fc0961d",
   "metadata": {},
   "outputs": [
    {
     "name": "stdout",
     "output_type": "stream",
     "text": [
      "Today is 10/12/13\n",
      "And the weather is rainy\n"
     ]
    }
   ],
   "source": [
    "print_date(13,10,12, weather='rainy', country='arg')"
   ]
  },
  {
   "cell_type": "markdown",
   "id": "aa8c7ac1",
   "metadata": {},
   "source": [
    "## Argumentos por defecto\n",
    "\n",
    "Los argumentos por defecto se definen junto con la función, indicándose el valor que tomaria una variable de entrada en el caso de no ser explícitamente definida en el llamado. Por ejemplo:"
   ]
  },
  {
   "cell_type": "code",
   "execution_count": 60,
   "id": "679c3e2e",
   "metadata": {},
   "outputs": [],
   "source": [
    "def print_fs(fs=16000):\n",
    "    print(f\"The sample frequency is {fs} Hz/s\")"
   ]
  },
  {
   "cell_type": "code",
   "execution_count": 61,
   "id": "72481049",
   "metadata": {},
   "outputs": [
    {
     "name": "stdout",
     "output_type": "stream",
     "text": [
      "The sample frequency is 44100 Hz/s\n"
     ]
    }
   ],
   "source": [
    "print_fs(44100)"
   ]
  },
  {
   "cell_type": "code",
   "execution_count": 62,
   "id": "3d205569",
   "metadata": {},
   "outputs": [
    {
     "name": "stdout",
     "output_type": "stream",
     "text": [
      "The sample frequency is 16000 Hz/s\n"
     ]
    }
   ],
   "source": [
    "print_fs()"
   ]
  },
  {
   "cell_type": "code",
   "execution_count": 63,
   "id": "0ca17a53",
   "metadata": {},
   "outputs": [
    {
     "name": "stdout",
     "output_type": "stream",
     "text": [
      "The sample frequency is 48000 Hz/s\n"
     ]
    }
   ],
   "source": [
    "print_fs(48000)"
   ]
  },
  {
   "cell_type": "markdown",
   "id": "74233ddd",
   "metadata": {},
   "source": [
    "## Argumentos de salida\n",
    "\n",
    "Como vimos, los valores de salida se especifican luego de la palabra reservada **return**, que además delimita el fin de la función. Por esto, debemos prestar atención en que la sentencia que devuelve los valores de salida sea la última sentencia de la función. Si definimos algo luego de esta sentencia que pretendemos que se ejecute cuando llamamos a la función, esto no va a ocurrir ya que luego de la linea de return la función se da por terminada. Usualmente, los valores de salida se reciben o guardan en variables. Por ejemplo"
   ]
  },
  {
   "cell_type": "code",
   "execution_count": 64,
   "id": "b021fdfe",
   "metadata": {},
   "outputs": [],
   "source": [
    "def square(x):\n",
    "    squared = x*x\n",
    "    return squared"
   ]
  },
  {
   "cell_type": "code",
   "execution_count": 65,
   "id": "52e01a82",
   "metadata": {},
   "outputs": [
    {
     "data": {
      "text/plain": [
       "4"
      ]
     },
     "execution_count": 65,
     "metadata": {},
     "output_type": "execute_result"
    }
   ],
   "source": [
    "square(2)"
   ]
  },
  {
   "cell_type": "code",
   "execution_count": 66,
   "id": "fd43e7f5",
   "metadata": {},
   "outputs": [
    {
     "name": "stdout",
     "output_type": "stream",
     "text": [
      "4\n"
     ]
    }
   ],
   "source": [
    "val = square(2)\n",
    "print(val)"
   ]
  },
  {
   "cell_type": "markdown",
   "id": "e12a03f0",
   "metadata": {},
   "source": [
    "Puedo definir varias salidas, y utilizar el concepto de desempaquetado para almacenarlas en variables separadas."
   ]
  },
  {
   "cell_type": "code",
   "execution_count": 68,
   "id": "40c81ac3",
   "metadata": {},
   "outputs": [],
   "source": [
    "def square(x):\n",
    "    squared = x*x\n",
    "    squared_squared = squared * squared\n",
    "    return squared, squared_squared"
   ]
  },
  {
   "cell_type": "code",
   "execution_count": 69,
   "id": "a94e6699",
   "metadata": {},
   "outputs": [
    {
     "data": {
      "text/plain": [
       "(4, 16)"
      ]
     },
     "execution_count": 69,
     "metadata": {},
     "output_type": "execute_result"
    }
   ],
   "source": [
    "square(2)"
   ]
  },
  {
   "cell_type": "code",
   "execution_count": 70,
   "id": "25436a93",
   "metadata": {},
   "outputs": [],
   "source": [
    "val_1, val_2 = square(2)"
   ]
  },
  {
   "cell_type": "code",
   "execution_count": 71,
   "id": "6c0c2594",
   "metadata": {},
   "outputs": [
    {
     "name": "stdout",
     "output_type": "stream",
     "text": [
      "4\n"
     ]
    }
   ],
   "source": [
    "print(val_1)"
   ]
  },
  {
   "cell_type": "code",
   "execution_count": 72,
   "id": "fd6602fc",
   "metadata": {},
   "outputs": [
    {
     "name": "stdout",
     "output_type": "stream",
     "text": [
      "16\n"
     ]
    }
   ],
   "source": [
    "print(val_2)"
   ]
  },
  {
   "cell_type": "markdown",
   "id": "c8c41a60",
   "metadata": {},
   "source": [
    "## Funciones vacías\n",
    "\n",
    "Las definiciones de funciones no pueden estar vacias. Muchas veces queremos definir solo el nombre de la función y sus entradas, cuando estamos construyendo el esquema de nuestro código. Para poder trabajar haciendo esto sin generar un error en la ejecución, podemos usar la sentencia **pass** como un texto provisorio o *placeholder* para lo que luego será la definición final de una función. "
   ]
  },
  {
   "cell_type": "code",
   "execution_count": 76,
   "id": "486488a3",
   "metadata": {},
   "outputs": [
    {
     "ename": "IndentationError",
     "evalue": "expected an indented block (3149068436.py, line 2)",
     "output_type": "error",
     "traceback": [
      "\u001b[0;36m  File \u001b[0;32m\"/tmp/ipykernel_225106/3149068436.py\"\u001b[0;36m, line \u001b[0;32m2\u001b[0m\n\u001b[0;31m    \u001b[0m\n\u001b[0m    ^\u001b[0m\n\u001b[0;31mIndentationError\u001b[0m\u001b[0;31m:\u001b[0m expected an indented block\n"
     ]
    }
   ],
   "source": [
    "def possible_function(arg1, arg2):\n",
    "    "
   ]
  },
  {
   "cell_type": "code",
   "execution_count": 77,
   "id": "aa112933",
   "metadata": {},
   "outputs": [],
   "source": [
    "def possible_function(arg1, arg2):\n",
    "    pass"
   ]
  },
  {
   "cell_type": "markdown",
   "id": "2ce4ad86",
   "metadata": {},
   "source": [
    "# Documentación\n",
    "\n",
    "\n",
    "La documentación, como dijimos, es la parte mas importante de una función. La misma debe contener toda la información necesaria para poder utilizar correctamente la función, despejando todo tipo de ambiguedades. Como regla general, cualquier forma equivocada de utilizar una función debe estar explícitamente informada en su documentación. \n",
    "\n",
    "Comúnmente, ciertas bibliotecas comparten determinados formatos para redactar la documentación de sus módulos y funciones. En general, la documentación debe contar con 3 partes principales:\n",
    "\n",
    "- Descripción general de la función: Es un parrafo inicial en donde se comenta a grandes rasgos cual es el fin de la función, y también puede nombrar características destacables de su implementación o su funcionamiento, o hacer aclaraciones sobre cuestiones pertinentes a versiones o relaciones con otras funciones.\n",
    "- Argumentos de entrada: comúnmente se coloca un subtitulo debajo del cual se listan los argumentos de entrada. Para cada argumento se especifica su nombre, el tipo de dato que se acepta, y una breve descripción de lo que representa su valor. Se aclará aqui también cualquier funcionamiento particular que pueda adquirir la función en base a la definición o no definición de cada argumento.\n",
    "- Argumentos de salida: al igual que los argumentos de entrada, se coloca un subtitulo y se listan describiendo las mismas características. \n",
    "    \n",
    "Toda esta información debe estar en inglés, y será corregida con la misma rigurosidad que las sentencias de código. Un ejemplo de una documentación posible para la primera función que definimos podria ser:\n",
    "\n",
    "<img src=\"imagenes/funciones_3.png\" alt=\"Drawing\"/>\n",
    "\n"
   ]
  },
  {
   "cell_type": "code",
   "execution_count": null,
   "id": "d05cbc2a",
   "metadata": {},
   "outputs": [],
   "source": [
    "## Diseño de funciones\n"
   ]
  },
  {
   "cell_type": "code",
   "execution_count": null,
   "id": "47b62d9f",
   "metadata": {},
   "outputs": [],
   "source": []
  },
  {
   "cell_type": "code",
   "execution_count": null,
   "id": "af73240e",
   "metadata": {},
   "outputs": [],
   "source": []
  },
  {
   "cell_type": "code",
   "execution_count": null,
   "id": "c1fffafd",
   "metadata": {},
   "outputs": [],
   "source": [
    "diseño\n",
    "\n",
    "- limitaciones \n",
    "- generalizacion\n",
    "- autodocumentacion\n",
    "- modularización\n",
    "- reutilizabilidad"
   ]
  },
  {
   "cell_type": "code",
   "execution_count": null,
   "id": "95a69538",
   "metadata": {},
   "outputs": [],
   "source": []
  },
  {
   "cell_type": "code",
   "execution_count": null,
   "id": "e94cea4b",
   "metadata": {},
   "outputs": [],
   "source": []
  },
  {
   "cell_type": "markdown",
   "id": "7c2f6d6e",
   "metadata": {},
   "source": [
    "## Bonustrack\n",
    "\n",
    "Podemos crear una función, que dentro de su bloque de código se llame a si misma. Esto es, una función llamando a una función que resulta ser ella misma, y por ende volverá a llamar a una función que sera ella misma de nuevo que a su vez llamara.... Como vemos, a priori esta idea nos devuelve un numero infinito de llamadas a una función.\n",
    "\n",
    "Debemos ser bastante cuidadosos cuando definimos una función recursiva, ya que facilmente podemos terminar con una función que nunca termina, es decir, que se ejecuta infinitamente. También puede ocurrir que termine, pero que antes de eso necesite ocupar mas memoria o capacidad de cómputo de la que tenemos disponibles, generardo que nuestro sistema colapse. \n",
    "\n",
    "Existen problemas de computo que tienen resoluciones muy bellas a partir de funciones recursivas. Sin embargo, el uso y diseño de este tipo de funciones es un apartado que requiere de un largo estudio y análisis matemático y computacional, cuestiones que escapan a este curso. Por ahora, nos basta con saber que este tipo de funciones existen, que muchas veces ofrecen soluciones de baja complejidad computacional y que se puede estudiar y aprender a diseñar este tipo de soluciones."
   ]
  },
  {
   "cell_type": "code",
   "execution_count": null,
   "id": "b5722b76",
   "metadata": {},
   "outputs": [],
   "source": []
  }
 ],
 "metadata": {
  "kernelspec": {
   "display_name": "Python 3 (ipykernel)",
   "language": "python",
   "name": "python3"
  },
  "language_info": {
   "codemirror_mode": {
    "name": "ipython",
    "version": 3
   },
   "file_extension": ".py",
   "mimetype": "text/x-python",
   "name": "python",
   "nbconvert_exporter": "python",
   "pygments_lexer": "ipython3",
   "version": "3.9.12"
  }
 },
 "nbformat": 4,
 "nbformat_minor": 5
}
