{
 "cells": [
  {
   "cell_type": "markdown",
   "id": "d06414be",
   "metadata": {},
   "source": [
    "# Guia 4 - Funciones\n",
    "**Aclaración**: Esta guia se compone de ejercicios que en su gran mayoría consisten en definir y utilizar funciones. Al momento de la corrección, se va a intentar utilizar las funciones definidas en base a su documentación. Si la documentación es incorrecta, por mas que el funcionamiento del código sea correcto, el punto sera considerado como incorrecto. "
   ]
  },
  {
   "cell_type": "markdown",
   "id": "ae7c0451",
   "metadata": {},
   "source": [
    "★☆☆☆☆ - 4.01) Crear una función que sea capaz de generar señales senoidales. Considere que parámetros de entrada y salida son convenientes (criterios de diseño)."
   ]
  },
  {
   "cell_type": "code",
   "execution_count": 3,
   "id": "f2836ba8",
   "metadata": {},
   "outputs": [],
   "source": [
    "import numpy as np\n",
    "import matplotlib.pyplot as plt"
   ]
  },
  {
   "cell_type": "code",
   "execution_count": 4,
   "id": "eeee4859",
   "metadata": {},
   "outputs": [],
   "source": [
    "def sin_gen(omega, n_samples, phase=0):\n",
    "    \"\"\"\n",
    "    Generate a sine wave signal.\n",
    "\n",
    "    Parameters:\n",
    "    -----------\n",
    "    omega : float\n",
    "        The frequency of the sine wave in radians per sample (default is 0).\n",
    "    n_samples : int\n",
    "        The number of samples in the signal (default is 0).\n",
    "    phase : float, optional\n",
    "        The phase shift of the sine wave in radians (default is 0).\n",
    "\n",
    "    Returns:\n",
    "    --------\n",
    "    samples : ndarray\n",
    "        The time samples for the generated signal.\n",
    "    signal : ndarray\n",
    "        The generated sine wave signal.\n",
    "    \"\"\"\n",
    "    samples = np.range(0, n_samples, 1)\n",
    "    signal = np.sin(omega*t+phase)\n",
    "    return samples, signal"
   ]
  },
  {
   "cell_type": "markdown",
   "id": "6497528e",
   "metadata": {},
   "source": [
    "★☆☆☆☆ - 4.02) Crear una función que funcione como rectificador de onda completa para señales senoidales discretas, como las generadas en el punto anterior. Es decir, se debe poder ingresar una señal senoidal cualquiera y obtener a la salida  la señal rectificada. "
   ]
  },
  {
   "cell_type": "code",
   "execution_count": 5,
   "id": "2ff9fe35",
   "metadata": {},
   "outputs": [],
   "source": [
    "def signal_rectifier(amp=0):\n",
    "    \"\"\"\n",
    "    Rectify the input signal by taking the absolute value of its amplitude.\n",
    "\n",
    "    Parameters:\n",
    "    -----------\n",
    "    amp: float\n",
    "        Amplitude of the input signal. Default is 0.\n",
    "\n",
    "    Returns:\n",
    "    --------\n",
    "    rectified: float\n",
    "        Absolute value of the input amplitude, representing the rectified signal.\n",
    "    \"\"\"\n",
    "    rectified = abs(amp)\n",
    "    return rectified"
   ]
  },
  {
   "cell_type": "markdown",
   "id": "6c4cc9c9",
   "metadata": {},
   "source": [
    "★☆☆☆☆ - 4.03) Crear una función que sea capaz de plotear un numero **variable** de señales. La misma debe permitir hacer gráficos sobre un mismo par de ejes, o sobre ejes separados. Por ejemplo, si tengo 4 señales, tengo que poder indicarle que grafique las primeras 2 en un mismo par de ejes, y las otras 2 en ejes separados, lo que resultaría en una figura con 3 ejes. Use las funciones del punto 1 y 2 para generar 4 señales distinta cualesquiera y plotearlas con la función utilizada en este punto.  "
   ]
  },
  {
   "cell_type": "code",
   "execution_count": 63,
   "id": "96c6e1e9",
   "metadata": {},
   "outputs": [
    {
     "ename": "TypeError",
     "evalue": "'Axes' object is not subscriptable",
     "output_type": "error",
     "traceback": [
      "\u001b[1;31m---------------------------------------------------------------------------\u001b[0m",
      "\u001b[1;31mTypeError\u001b[0m                                 Traceback (most recent call last)",
      "Cell \u001b[1;32mIn[63], line 19\u001b[0m\n\u001b[0;32m     16\u001b[0m             \u001b[38;5;28;01mif\u001b[39;00m sig_place[j] \u001b[38;5;241m==\u001b[39m i:\n\u001b[0;32m     17\u001b[0m                 axs[i]\u001b[38;5;241m.\u001b[39mplot(n, sig_list[j])\n\u001b[1;32m---> 19\u001b[0m \u001b[43msig_plot\u001b[49m\u001b[43m(\u001b[49m\u001b[43msig_list\u001b[49m\u001b[43m,\u001b[49m\u001b[43m \u001b[49m\u001b[43msig_place\u001b[49m\u001b[43m,\u001b[49m\u001b[43m \u001b[49m\u001b[43mn_axs\u001b[49m\u001b[43m)\u001b[49m\n",
      "Cell \u001b[1;32mIn[63], line 17\u001b[0m, in \u001b[0;36msig_plot\u001b[1;34m(sig_list, sig_place, n_axes)\u001b[0m\n\u001b[0;32m     15\u001b[0m \u001b[38;5;28;01mfor\u001b[39;00m j \u001b[38;5;129;01min\u001b[39;00m \u001b[38;5;28mrange\u001b[39m(\u001b[38;5;28mlen\u001b[39m(sig_list)):\n\u001b[0;32m     16\u001b[0m     \u001b[38;5;28;01mif\u001b[39;00m sig_place[j] \u001b[38;5;241m==\u001b[39m i:\n\u001b[1;32m---> 17\u001b[0m         \u001b[43maxs\u001b[49m\u001b[43m[\u001b[49m\u001b[43mi\u001b[49m\u001b[43m]\u001b[49m\u001b[38;5;241m.\u001b[39mplot(n, sig_list[j])\n",
      "\u001b[1;31mTypeError\u001b[0m: 'Axes' object is not subscriptable"
     ]
    },
    {
     "data": {
      "image/png": "[encoded data removed]",
      "text/plain": [
       "<Figure size 1000x500 with 1 Axes>"
      ]
     },
     "metadata": {},
     "output_type": "display_data"
    }
   ],
   "source": [
    "sig_01, n = sin_gen(0.6*np.pi, 100)\n",
    "sig_02, n = sin_gen(0.2*np.pi, 100)\n",
    "sig_03 = signal_rectifier(sig_02)\n",
    "sig_04 = 5*sig_03\n",
    "\n",
    "sig_list = [sig_01, sig_02, sig_03, sig_04]\n",
    "sig_place = [0, 0, 0, 0]\n",
    "n_axs = 1\n",
    "\n",
    "def sig_plot(sig_list, sig_place, n_axes):\n",
    "    \n",
    "    fig, axs = plt.subplots(n_axs, 1, figsize=(10,5))\n",
    "\n",
    "    for i in range(n_axs):\n",
    "        for j in range(len(sig_list)):\n",
    "            if sig_place[j] == i:\n",
    "                axs[i].plot(n, sig_list[j])\n",
    "\n",
    "sig_plot(sig_list, sig_place, n_axs)"
   ]
  },
  {
   "cell_type": "markdown",
   "id": "46ed6325",
   "metadata": {},
   "source": [
    "★☆☆☆☆ - 4.04) Genere una función que calcule el nivel de presión sonora equivalente (Leq) a partir de un vector de niveles de presión sonora instantáneos."
   ]
  },
  {
   "cell_type": "code",
   "execution_count": null,
   "id": "675958ca",
   "metadata": {},
   "outputs": [],
   "source": []
  },
  {
   "cell_type": "markdown",
   "id": "0b0fe4cb",
   "metadata": {},
   "source": [
    "★☆☆☆☆ - 4.05) Escribir una función que tome una señal de audio y la normalice, es decir, ajusta el nivel de la señal de audio para que el valor pico sea 1. Implementarla con el audio \"sax.wav\" y compruebe gráficamente su funcionamiento.\n"
   ]
  },
  {
   "cell_type": "code",
   "execution_count": null,
   "id": "6bb74f85",
   "metadata": {},
   "outputs": [],
   "source": []
  },
  {
   "cell_type": "markdown",
   "id": "ddcd8a43",
   "metadata": {},
   "source": [
    "★★☆☆☆ - 4.06) Defina una función que tome una señal de audio normalizada y le agregue ruido gaussiano de amplitud variable por el usuario. Implementarla con el audio \"sax.wav\" y reproducir la señal para escuchar el efecto producido por la función."
   ]
  },
  {
   "cell_type": "code",
   "execution_count": null,
   "id": "8c23668e",
   "metadata": {},
   "outputs": [],
   "source": []
  },
  {
   "cell_type": "markdown",
   "id": "cfab65ae",
   "metadata": {},
   "source": [
    "★☆☆☆☆ - 4.07) Crear una función que genere y plotee señales exponenciales discretas. Las mismas se definen como:\n",
    "\n",
    "\\begin{equation}\n",
    "    x[n] = C\\alpha^{n}\n",
    "\\end{equation}\n",
    "\n",
    "o, lo que es equivalente\n",
    "\n",
    "\\begin{equation}\n",
    "    x[n] = Ce^{\\beta n}\n",
    "\\end{equation}\n",
    "\n",
    "donde \n",
    "\n",
    "\\begin{equation}\n",
    "    \\alpha = e^{\\beta}\n",
    "\\end{equation}\n",
    "\n",
    "La misma debe recibir como argumentos a $C$, $\\beta$, el número de muestras a generar. Estos requerimientos son mínimos, se pueden agregar más de ser necesarios (por ejemplo, para facilitar el proceso de ploteo).\n",
    "\n",
    "Utilize esta función para generar y plotear señales exponenciales. Investigue y concluya que ocurre en los siguientes casos:\n",
    "- $|\\alpha| > 1$\n",
    "- $|\\alpha| < 1$\n",
    "- $\\alpha$ es positiva\n",
    "- $\\alpha$ es negativa\n",
    "- $\\alpha = 1$\n",
    "- $\\alpha = -1$"
   ]
  },
  {
   "cell_type": "code",
   "execution_count": null,
   "id": "62b1903b",
   "metadata": {},
   "outputs": [],
   "source": []
  },
  {
   "cell_type": "markdown",
   "id": "c47c2eda",
   "metadata": {},
   "source": [
    "★★☆☆☆ - 4.08) Crear una función que sea capaz de generar escalones unitarios discretos. Luego, utilizar esta función para formar el triangulo que se muestra a continuación, de base 7 (7 muestras) y alto 3 a partir de sumar escalones. Se debe lograr **solo** a partir de la suma de escalones. \n",
    "\n",
    "<img src=\"imagenes/escalon.png\" alt=\"Drawing\"/>\n"
   ]
  },
  {
   "cell_type": "markdown",
   "id": "7beb5b55",
   "metadata": {},
   "source": [
    "★★★☆☆ - 4.09) Definir una función que automatice el ejercicio anterior, y pueda generar cualquier triángulo (cualquier base y cualquier altura) a partir de la suma y resta de escalones. "
   ]
  },
  {
   "cell_type": "markdown",
   "id": "bbe8b48b",
   "metadata": {},
   "source": [
    "★★☆☆☆ - 4.10) Crear una función que aplique un efecto *eco* como el visto en clase, pero automatizandola para que pueda recibir como argumento el número de ecos a realizar y la amplitud relativa de cada uno. "
   ]
  },
  {
   "cell_type": "code",
   "execution_count": null,
   "id": "487ac42d",
   "metadata": {},
   "outputs": [],
   "source": []
  },
  {
   "cell_type": "markdown",
   "id": "6fc39aeb",
   "metadata": {},
   "source": [
    "★★★☆☆ - 4.11) Crear una función que aplique un [filtro de media móvil](https://es.wikipedia.org/wiki/Media_m%C3%B3vil) sobre un array. Probarla cargando una señal de habla cualquiera, y pasandola por la función. Pruebe distintos tamaños de ventana, y escuche los resultado. Elabore alguna conclusión al respecto. "
   ]
  },
  {
   "cell_type": "code",
   "execution_count": null,
   "id": "94c6ee00",
   "metadata": {},
   "outputs": [],
   "source": []
  },
  {
   "cell_type": "markdown",
   "id": "497d8ddd",
   "metadata": {},
   "source": [
    "★★★☆☆ - 4.12) Crear una función que sea capaz de aplicar una distorsión por alinealidad en amplitud (distorsión armónica). La entrada mínima debe ser la señal a distorsionar, y la salida minima debe ser la señal distorsionada. Compruebe el funcionamiento reproduciendo las salidas de la función."
   ]
  },
  {
   "cell_type": "code",
   "execution_count": null,
   "id": "7d571ad5",
   "metadata": {},
   "outputs": [],
   "source": []
  }
 ],
 "metadata": {
  "kernelspec": {
   "display_name": "Python 3 (ipykernel)",
   "language": "python",
   "name": "python3"
  },
  "language_info": {
   "codemirror_mode": {
    "name": "ipython",
    "version": 3
   },
   "file_extension": ".py",
   "mimetype": "text/x-python",
   "name": "python",
   "nbconvert_exporter": "python",
   "pygments_lexer": "ipython3",
   "version": "3.9.16"
  }
 },
 "nbformat": 4,
 "nbformat_minor": 5
}
