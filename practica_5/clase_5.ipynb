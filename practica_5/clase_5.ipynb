{
 "cells": [
  {
   "cell_type": "markdown",
   "id": "d39e4236",
   "metadata": {},
   "source": [
    "## Debugging\n",
    "\n",
    "- [Python Debugger (pdb)](https://docs.python.org/3/library/pdb.html)\n",
    "- Asserts\n",
    "- Chequeo de variables --> **isinstance()**\n",
    "- *Raise errors*\n",
    "- *Try-except*"
   ]
  },
  {
   "cell_type": "code",
   "execution_count": 29,
   "id": "9dc003bd",
   "metadata": {},
   "outputs": [],
   "source": [
    "import numpy as np\n",
    "import matplotlib.pyplot as plt\n",
    "\n",
    "def gen_sin(omega, phi, n_samples):\n",
    "    samples = np.arange(0, n_samples, 1)\n",
    "    signal = np.sin(omega*samples + phi)\n",
    "    return samples, signal"
   ]
  },
  {
   "cell_type": "code",
   "execution_count": 30,
   "id": "0c675b21",
   "metadata": {},
   "outputs": [
    {
     "ename": "ValueError",
     "evalue": "che tenes un eawdawdawdrror",
     "output_type": "error",
     "traceback": [
      "\u001b[0;31m---------------------------------------------------------------------------\u001b[0m",
      "\u001b[0;31mValueError\u001b[0m                                Traceback (most recent call last)",
      "\u001b[0;32m<ipython-input-30-4f6f880896de>\u001b[0m in \u001b[0;36m<module>\u001b[0;34m\u001b[0m\n\u001b[0;32m----> 1\u001b[0;31m \u001b[0mgen_sin\u001b[0m\u001b[0;34m(\u001b[0m\u001b[0;36m2\u001b[0m\u001b[0;34m,\u001b[0m\u001b[0;36m0\u001b[0m\u001b[0;34m,\u001b[0m\u001b[0;36m10.3\u001b[0m\u001b[0;34m)\u001b[0m\u001b[0;34m\u001b[0m\u001b[0;34m\u001b[0m\u001b[0m\n\u001b[0m",
      "\u001b[0;32m<ipython-input-29-cd0d6d41148d>\u001b[0m in \u001b[0;36mgen_sin\u001b[0;34m(omega, phi, n_samples)\u001b[0m\n\u001b[1;32m      5\u001b[0m \u001b[0;34m\u001b[0m\u001b[0m\n\u001b[1;32m      6\u001b[0m     \u001b[0;32mif\u001b[0m \u001b[0;32mnot\u001b[0m \u001b[0misinstance\u001b[0m\u001b[0;34m(\u001b[0m\u001b[0mn_samples\u001b[0m\u001b[0;34m,\u001b[0m \u001b[0mint\u001b[0m\u001b[0;34m)\u001b[0m\u001b[0;34m:\u001b[0m\u001b[0;34m\u001b[0m\u001b[0;34m\u001b[0m\u001b[0m\n\u001b[0;32m----> 7\u001b[0;31m         \u001b[0;32mraise\u001b[0m \u001b[0mValueError\u001b[0m\u001b[0;34m(\u001b[0m\u001b[0;34m\"che tenes un eawdawdawdrror\"\u001b[0m\u001b[0;34m)\u001b[0m\u001b[0;34m\u001b[0m\u001b[0;34m\u001b[0m\u001b[0m\n\u001b[0m\u001b[1;32m      8\u001b[0m     \u001b[0msamples\u001b[0m \u001b[0;34m=\u001b[0m \u001b[0mnp\u001b[0m\u001b[0;34m.\u001b[0m\u001b[0marange\u001b[0m\u001b[0;34m(\u001b[0m\u001b[0;36m0\u001b[0m\u001b[0;34m,\u001b[0m \u001b[0mn_samples\u001b[0m\u001b[0;34m,\u001b[0m \u001b[0;36m1\u001b[0m\u001b[0;34m)\u001b[0m\u001b[0;34m\u001b[0m\u001b[0;34m\u001b[0m\u001b[0m\n\u001b[1;32m      9\u001b[0m     \u001b[0msignal\u001b[0m \u001b[0;34m=\u001b[0m \u001b[0mnp\u001b[0m\u001b[0;34m.\u001b[0m\u001b[0msin\u001b[0m\u001b[0;34m(\u001b[0m\u001b[0momega\u001b[0m\u001b[0;34m*\u001b[0m\u001b[0msamples\u001b[0m \u001b[0;34m+\u001b[0m \u001b[0mphi\u001b[0m\u001b[0;34m)\u001b[0m\u001b[0;34m\u001b[0m\u001b[0;34m\u001b[0m\u001b[0m\n",
      "\u001b[0;31mValueError\u001b[0m: che tenes un eawdawdawdrror"
     ]
    }
   ],
   "source": [
    "gen_sin(2,0,10.3)"
   ]
  },
  {
   "cell_type": "code",
   "execution_count": 26,
   "id": "746c88fc",
   "metadata": {},
   "outputs": [
    {
     "ename": "TypeError",
     "evalue": "arange() requires stop to be specified.",
     "output_type": "error",
     "traceback": [
      "\u001b[0;31m---------------------------------------------------------------------------\u001b[0m",
      "\u001b[0;31mTypeError\u001b[0m                                 Traceback (most recent call last)",
      "\u001b[0;32m<ipython-input-26-600623f072f6>\u001b[0m in \u001b[0;36m<module>\u001b[0;34m\u001b[0m\n\u001b[0;32m----> 1\u001b[0;31m \u001b[0mnp\u001b[0m\u001b[0;34m.\u001b[0m\u001b[0marange\u001b[0m\u001b[0;34m(\u001b[0m\u001b[0;34m)\u001b[0m\u001b[0;34m\u001b[0m\u001b[0;34m\u001b[0m\u001b[0m\n\u001b[0m",
      "\u001b[0;31mTypeError\u001b[0m: arange() requires stop to be specified."
     ]
    }
   ],
   "source": [
    "np.arange()"
   ]
  },
  {
   "cell_type": "markdown",
   "id": "91c5212e",
   "metadata": {},
   "source": [
    "# Lectura y escritura de archivos"
   ]
  },
  {
   "cell_type": "markdown",
   "id": "805574ce",
   "metadata": {},
   "source": [
    "- Extensión del archivo\n",
    "- Dirección\n",
    "    - Absoluta\n",
    "    - Relativa\n",
    "- Tamaño, permisos, etc..\n",
    "\n",
    "Dependiendo el tipo de archivo...\n",
    "\n",
    "- Archivos de audio --> *SoundFile*, *Librosa*, etc\n",
    "- Arrays --> *Numpy*\n",
    "- Datos con estructura de tablas --> *Pandas*\n",
    "- Archivos en general --> Función integrada **open()**\n",
    "\n",
    "Dependiendo del SO...\n",
    "- La manera de escribir una dirección puede cambiar"
   ]
  },
  {
   "cell_type": "code",
   "execution_count": 31,
   "id": "64343f91",
   "metadata": {},
   "outputs": [],
   "source": [
    "import os"
   ]
  },
  {
   "cell_type": "code",
   "execution_count": 33,
   "id": "9cdd64dc",
   "metadata": {},
   "outputs": [],
   "source": [
    "filename = \"sax.wav\"\n",
    "folder = \"audio\""
   ]
  },
  {
   "cell_type": "code",
   "execution_count": 35,
   "id": "e8b82ab1",
   "metadata": {},
   "outputs": [
    {
     "data": {
      "text/plain": [
       "'audio/sax.wav'"
      ]
     },
     "execution_count": 35,
     "metadata": {},
     "output_type": "execute_result"
    }
   ],
   "source": [
    "os.path.join(folder, filename)"
   ]
  },
  {
   "cell_type": "markdown",
   "id": "b13213cc",
   "metadata": {},
   "source": [
    "# Modulos\n",
    "\n",
    "- Agrupar funciones siguendo un criterio funcional\n",
    "- Dar estructura a un proyecto\n",
    "- Distribuir código\n",
    "- Uso de la variable \\__name__"
   ]
  },
  {
   "cell_type": "code",
   "execution_count": 6,
   "id": "c3c85464",
   "metadata": {},
   "outputs": [],
   "source": [
    "import numpy as np\n"
   ]
  },
  {
   "cell_type": "code",
   "execution_count": 1,
   "id": "81a9468d",
   "metadata": {},
   "outputs": [
    {
     "data": {
      "text/plain": [
       "['/home/martin/sys/practicas/practica_5',\n",
       " '/home/martin/anaconda3/lib/python38.zip',\n",
       " '/home/martin/anaconda3/lib/python3.8',\n",
       " '/home/martin/anaconda3/lib/python3.8/lib-dynload',\n",
       " '',\n",
       " '/home/martin/anaconda3/lib/python3.8/site-packages',\n",
       " '/home/martin/anaconda3/lib/python3.8/site-packages/SRMRpy-1.0-py3.8.egg',\n",
       " '/home/martin/anaconda3/lib/python3.8/site-packages/locket-0.2.1-py3.8.egg',\n",
       " '/home/martin/anaconda3/lib/python3.8/site-packages/IPython/extensions',\n",
       " '/home/martin/.ipython']"
      ]
     },
     "execution_count": 1,
     "metadata": {},
     "output_type": "execute_result"
    }
   ],
   "source": [
    "import sys\n",
    "sys.path"
   ]
  },
  {
   "cell_type": "code",
   "execution_count": 2,
   "id": "758c3a16",
   "metadata": {},
   "outputs": [
    {
     "data": {
      "text/plain": [
       "'./test/gen.py'"
      ]
     },
     "execution_count": 2,
     "metadata": {},
     "output_type": "execute_result"
    }
   ],
   "source": [
    "'./test/gen.py'"
   ]
  },
  {
   "cell_type": "code",
   "execution_count": 3,
   "id": "7d17faea",
   "metadata": {},
   "outputs": [],
   "source": [
    "import sys\n",
    "sys.path.append(\"./test\")\n",
    "import gen"
   ]
  },
  {
   "cell_type": "code",
   "execution_count": 5,
   "id": "0834bda7",
   "metadata": {},
   "outputs": [
    {
     "name": "stdout",
     "output_type": "stream",
     "text": [
      "generando seno...\n"
     ]
    }
   ],
   "source": [
    "gen.generar_seno()"
   ]
  },
  {
   "cell_type": "code",
   "execution_count": 12,
   "id": "0cf7e6a7",
   "metadata": {},
   "outputs": [
    {
     "data": {
      "text/plain": [
       "['/home/martin/sys/practicas/practica_5',\n",
       " '/home/martin/anaconda3/lib/python38.zip',\n",
       " '/home/martin/anaconda3/lib/python3.8',\n",
       " '/home/martin/anaconda3/lib/python3.8/lib-dynload',\n",
       " '',\n",
       " '/home/martin/anaconda3/lib/python3.8/site-packages',\n",
       " '/home/martin/anaconda3/lib/python3.8/site-packages/SRMRpy-1.0-py3.8.egg',\n",
       " '/home/martin/anaconda3/lib/python3.8/site-packages/locket-0.2.1-py3.8.egg',\n",
       " '/home/martin/anaconda3/lib/python3.8/site-packages/IPython/extensions',\n",
       " '/home/martin/.ipython']"
      ]
     },
     "execution_count": 12,
     "metadata": {},
     "output_type": "execute_result"
    }
   ],
   "source": [
    "sys.path"
   ]
  },
  {
   "cell_type": "code",
   "execution_count": 1,
   "id": "0322c6be",
   "metadata": {},
   "outputs": [],
   "source": [
    "import gen"
   ]
  },
  {
   "cell_type": "code",
   "execution_count": 2,
   "id": "9a6cd216",
   "metadata": {},
   "outputs": [
    {
     "name": "stdout",
     "output_type": "stream",
     "text": [
      "generando seno...\n"
     ]
    }
   ],
   "source": [
    "gen.generar_seno()"
   ]
  },
  {
   "cell_type": "code",
   "execution_count": null,
   "id": "22827e05",
   "metadata": {},
   "outputs": [],
   "source": []
  }
 ],
 "metadata": {
  "kernelspec": {
   "display_name": "Python 3",
   "language": "python",
   "name": "python3"
  },
  "language_info": {
   "codemirror_mode": {
    "name": "ipython",
    "version": 3
   },
   "file_extension": ".py",
   "mimetype": "text/x-python",
   "name": "python",
   "nbconvert_exporter": "python",
   "pygments_lexer": "ipython3",
   "version": "3.8.8"
  }
 },
 "nbformat": 4,
 "nbformat_minor": 5
}
