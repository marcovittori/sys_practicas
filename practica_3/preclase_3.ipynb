{
 "cells": [
  {
   "cell_type": "markdown",
   "id": "dc656c1e",
   "metadata": {},
   "source": [
    "# Material pre clase 3 - Numpy y Matplotlib\n",
    "\n",
    "El objetivo principal de esta clase es interiorizarnos con las bibliotecas Numpy y Matplotlib, que nos seran de gran utilidad para trabajar con señales y sistemas. Además, vamos a recopilar algunas herramientas de código un poco mas avanzadas que van a ser de mucha utilidad para el desarrollo de scripts y para trabajar con estas bibliotecas.\n",
    "Los temas específicos que veremos son:\n",
    "\n",
    "- Comentarios. Espacios. Formato y normas PEP8.\n",
    "- Formateo de cadenas\n",
    "- Bibliotecas/Librerias\n",
    "- Numpy. Funciones. Arrays. \n",
    "- Matplotlib. APIs. "
   ]
  },
  {
   "cell_type": "code",
   "execution_count": 3,
   "id": "9f2fb533",
   "metadata": {},
   "outputs": [],
   "source": [
    "import numpy as np"
   ]
  },
  {
   "cell_type": "markdown",
   "id": "0ba508a4",
   "metadata": {},
   "source": [
    "## Comentarios\n",
    "\n",
    "Los comentarios son aquellas líneas de texto presente en el código que son ignoradas por el interprete de Python a la hora de la ejecución. La función de estas líneas no tiene nada que ver con la ejecución del programa, sino que cumplen el rol de asistir y brindar información o *documentación* al código que escribimos. Primero, veamos que existen dos tipos de comentarios:\n",
    "\n",
    "- Los **comentarios de línea** que, como su nombre indica, ocupan una línea del archivo, para los cuales utilizamos el simbolo \"#\". Es decir, una línea de nuestro script que comienza con \"#\" será ignorada por el intérprete. Este tipo de comentario es útil cuando queremos hacer una aclaración corta.\n",
    "\n",
    "- Los **comentarios de párrafo** los utilizamos cuando queremos comentar algo mas extenso, ocupando varias líneas. Para esto utilizamos comillas triples \"\"\" o ''' (de apertura y de cierre). Todas las líneas que queden encerradas entre las comillas triples seran consideradas comentarios, y por lo tanto, ignoradas por el interprete de Python. Este tipo de comentarios se usa exclusivamente para la documentación de funciones y otras estructuras de código. \n",
    "\n",
    "Veamos como lucen ambos tipos de comentario"
   ]
  },
  {
   "cell_type": "code",
   "execution_count": 1,
   "id": "3b5ae883",
   "metadata": {},
   "outputs": [],
   "source": [
    "# Este es un comentario de linea"
   ]
  },
  {
   "cell_type": "code",
   "execution_count": 2,
   "id": "6039e4e9",
   "metadata": {},
   "outputs": [
    {
     "data": {
      "text/plain": [
       "'Este es un comentario de párrafo'"
      ]
     },
     "execution_count": 2,
     "metadata": {},
     "output_type": "execute_result"
    }
   ],
   "source": [
    "\"\"\"Este es un comentario de párrafo\"\"\""
   ]
  },
  {
   "cell_type": "markdown",
   "id": "4495fb60",
   "metadata": {},
   "source": [
    "De los comentarios de parrafos hablaremos mas adelante cuando entremos mas en detalle en la definción de las funciones. Por ahora, el único lugar donde podremos encontrarnos este tipo de comentarios es al inicio de algún script. Por defecto, cuando creamos un archivo en Spyder, la IDE suele dejarnos un comentario de párrafo con alguna información, como la fecha y el autor del archivo. Usualmente, es común encontrar comentarios de párrafo encabezando los scripts. Allí, usualmente se da una explicación breve de lo que sucede dentro de ese archivo, información de licencias de uso o alguna advertencia pertinente. Por ahora vamos a utilizar más los comentarios de línea. \n",
    "\n",
    "Los comentarios de línea son una herramienta fundamental para mejorar la interpretabilidad del código. Es necesario desarrollar un **criterio** a cerca de qué cosas convienen ser comentadas y qué cosas no, donde se debe sumar un comentario y donde no, y de que forma realizarlo. Este criterio se irá formando a medida que vayamos escribiendo código y sobre todo a medida que vayamos leyendo código de gente mas experimentada. Sin embargo, se pueden dar algunos lineamientos a seguir a la hora de incluir comentarios.\n",
    "\n",
    "- Deben ser breves. La idea del comentario de linea es que alcance con comentar una sola línea, de corta extensión. Si el comentario es muy extenso, lo correcto sería que forme parte de la documentación del código. En tal caso, esa información debe estar en otro lugar y no como comentario. \n",
    "- Solo comentar aclaraciones **necesarias**. Es decir, si defino una variable que se llama promedio_tps, no hace falta sumar un comentario diciendo que allí se almacena el resultado de hacer el promedio de los trabajos prácticos, ya que eso queda claro a partir del nombre de la variable. Muchas veces se dice que un código bien escrito (ordenado, estructurado, con nombres de variables significativos) no requiere comentarios para poder entenderse. Esto no siempre es cierto, pero es a lo que debemos apuntar. Cuando menos comentarios sean necesarios para entender nuestro código, mejor. \n",
    "- Tratar de hacer los comentarios en el mismo idioma que estamos programando. En este curso, alentamos y exigimos el uso del idioma inglés para todo el material de código, por ende los comentarios también deben trabajarse en este idioma. Esto se decide en pos de acomodarse a las buenas prácticas de programación generales.\n",
    "- Considerar que los comentarios, si bien no se ejecutan, son parte del código. Es decir, a la hora de presentar un código o de darlo por terminado, debemos tener en cuenta que no queden comentarios residuales o que en su momento eran comentarios \"temporales\". Durante el desarrollo es correcto comentar líneas de código para hacer pruebas sin correr el riesgo de perder nada, pero una vez entregado un material o al compartirlo con otra persona, solo deben permanecer los comentarios necesarios. Subir o publicar código con sentencias comentadas es, en general, un error. \n",
    "\n",
    "El criterio que se maneje a la hora de incluir comentarios en las versiones finales del código que se entregue, será un aspecto a evaluar en este curso."
   ]
  },
  {
   "cell_type": "markdown",
   "id": "62f18482",
   "metadata": {},
   "source": [
    "## Espaciado\n",
    "\n",
    "Otro aspecto muy importante a la hora de escribir código que sea fácilmente interpretable es respetar el buen uso de los espacios. Como vimos en las clases, los espacios e indentaciones son parte del lenguaje Python, y el intérprete utiliza estos caracteres para determinar como ejecutar el código. Mas allá de aquellos espacios e indentados necesarios por sintaxis, también hay espacios que pueden o no estar presentes. Colocarlos o no, dependerá por lo general de los criterios y buenas prácticas de programación. En general, vamos a dar algunos lineamientos:\n",
    "\n",
    "- No se debe dejar espacio entre el nombre de una función y los paréntesis cuando hacemos un llamado. Por ejemplo:\n",
    "```python\n",
    "    print (\"Hola!\") #incorrecto\n",
    "    print(\"Hola!\")  #correcto\n",
    "```\n",
    "- Cuando tenemos que especificar valores o elementos separados por coma, lo correcto es poner un espacio delante de cada coma. Por ejemplo:\n",
    "```python\n",
    "    mi_lista = [1,2,3,4,5]     #incorrecto\n",
    "    mi_lista = [1, 2, 3, 4, 5] #correcto\n",
    "```\n",
    "- Cuando utilizamos un operador, debemos poner un espacio a ambos lados del mismo. Por ejemplo:\n",
    "```python\n",
    "    mi_variable=123 #incorrecto\n",
    "    mi_variable = 123 #correcto\n",
    "    \n",
    "    if mi_variable==123:   #incorrecto\n",
    "        print(\"es igual!\")\n",
    "        \n",
    "    if mi_variable == 123: #correcto\n",
    "        print(\"es igual!\")\n",
    "```\n",
    "- Los **saltos de línea** son un elemento de espaciado que tienen un gran impacto visual, por ende no es conveniente abusar de ellos. Por lo general se usa un salto de línea cuando es realmente necesario distinguir dos bloques de código. Por ejemplo, cuando se hacen dos procesos muy distintos, es una buena idea marcar el fin de uno y comienzo del otro con un salto de línea. Cuando se define una estructura como una función, es correcto separarla del resto del código con dos saltos de linea, para diferenciarse del salto común que usamos para separar sentencias. Una distancia de tres saltos de línea se reserva para separar estructuras a su vez mas generales, como cuando defino una clase. Por ahora, esto escapa a los alcances de este curso, por lo que en lo general usaremos saltos de línea simples o dobles. Abusar de los saltos de línea es algo incorrecto, que entorprece la interpretabilidad del código, y por mas que no traiga problemas a la hora de la ejecución será considerado como una falla en el código. Distinguir cuando es conveniente un salto de linea y cuando no, es otra cuestión que se internaliza con la práctica y la lectura de código de terceros. "
   ]
  },
  {
   "cell_type": "markdown",
   "id": "085f58eb",
   "metadata": {},
   "source": [
    "### PEP 8  - $\\textit{A Foolish Consistency is the Hobgoblin of Little Minds}$\n",
    "\n",
    "Todas las convenciones de estilo a la hora de escribir código en Python estan establecidas y especificadas en una \n",
    "guia denominada [PEP 8](https://peps.python.org/pep-0008/). No pretendemos que cumplan todas estas guias al pie de letra todo el tiempo, sino más bien que las tengan en cuenta y que las puedan ir incorporando con el tiempo. La motivación máxima de esto es que la gran mayoría del tiempo que pasamos desarrollando código nos encontramos **leyendo código**, en contraste con el poco tiempo que pasamos escribiendo. Entonces, prestar atención a aquellas cosas que nos van a facilitar la lectura del código es algo que debemos considerar con mucha importancia. "
   ]
  },
  {
   "cell_type": "markdown",
   "id": "fd2af22c",
   "metadata": {},
   "source": [
    "## Formateo de cadenas \n",
    "\n",
    "Hasta ahora vimos el tipo de dato **str** que corresponde a cadenas. A la hora de imprimir estas cadenas, por ejemplo con la función **print**, usualmente vamos a querer tomar acciones como hacer un salto de línea o dejar espacios de tabulación. Para indicar estas acciones se utilizan *caracteres de escape*, los cuales consisten del caracter \"\\\\\" seguido de el caracter especial que querramos insertar. El ejemplo clásico es el salto de línea:"
   ]
  },
  {
   "cell_type": "code",
   "execution_count": 3,
   "id": "3481a960",
   "metadata": {},
   "outputs": [
    {
     "name": "stdout",
     "output_type": "stream",
     "text": [
      "Esto es una linea \n",
      " Esto es otra linea\n"
     ]
    }
   ],
   "source": [
    "print(\"Esto es una linea \\n Esto es otra linea\")"
   ]
  },
  {
   "cell_type": "markdown",
   "id": "b5aab602",
   "metadata": {},
   "source": [
    "Como vemos, para imprimir un salto de linea utilizamos el caracter especial \"\\n\". Este caracter ocupa el mismo rol que cualquier otro, ya sea una letra o un espacion en blanco. En el ejemplo, al caracter de salto de línea le sigue un espacio en blanco, y es por eso que la línea de abajo parece no estar alineada con la de arriba, por que comienza con un espacio en blanco. Puedo corregir esto eliminando ese espacio en blanco luego del caracter de salto de línea:"
   ]
  },
  {
   "cell_type": "code",
   "execution_count": 4,
   "id": "08a730a0",
   "metadata": {},
   "outputs": [
    {
     "name": "stdout",
     "output_type": "stream",
     "text": [
      "Esto es una linea \n",
      "Esto es otra linea\n"
     ]
    }
   ],
   "source": [
    "print(\"Esto es una linea \\nEsto es otra linea\")"
   ]
  },
  {
   "cell_type": "markdown",
   "id": "5efb1a1e",
   "metadata": {},
   "source": [
    "De esta misma forma, existen otros caracteres especiales que nos permiten realizar otras acciones similares. Una lista de estos caracteres se puede encontrar en [esta sección de la documentación de Python](https://docs.python.org/3/reference/lexical_analysis.html#strings) "
   ]
  },
  {
   "cell_type": "markdown",
   "id": "e5a329cb",
   "metadata": {},
   "source": [
    " Usualmente, nos va a interesar involucrar variables u otros datos a la hora de crear estas cadenas. Para ello existen las cadenas con formato, o *f-strings*.\n",
    "\n",
    "Como vimos, la sintaxis para definir una cadena consistia en utilizar comillas (dobles o simples) al inicio y fin de la cadena. Para convertirla en una cadena con formato, solo tenemos que agregar una *f* al inicio de la definición.\n",
    "\n",
    "```python\n",
    "\"Esto es una cadena común\"\n",
    "f\"Esto es una cadena con formato\"\n",
    "```\n",
    "\n",
    "Crear una cadena con formato nos permite, por ejemplo, mostrar variables dentro de estas cadenas. Para hacerlo, tengo que especificar el valor de la variable entre llaves \"{}\", y al ejecutar el código todos los nombres de variables serán reemplazados con sus respectivos valores. Veamos un ejemplo para comprender la sintaxis:"
   ]
  },
  {
   "cell_type": "code",
   "execution_count": 5,
   "id": "3ad99906",
   "metadata": {},
   "outputs": [
    {
     "name": "stdout",
     "output_type": "stream",
     "text": [
      "Mi nombre es Martin y mi apellido es Meza\n"
     ]
    }
   ],
   "source": [
    "nombre = \"Martin\"\n",
    "apellido = \"Meza\"\n",
    "print(f\"Mi nombre es {nombre} y mi apellido es {apellido}\")"
   ]
  },
  {
   "cell_type": "markdown",
   "id": "90151f2b",
   "metadata": {},
   "source": [
    "Esto me permite automatizar la generación de las cadenas en base al valor que tomen las variables con las que estoy trabajando. Es útil para mostrar información o bien para crear variables de manera eficiente. \n",
    "\n",
    "Veamos un ejemplo. Quiero imprimir los pares key:value de un diccionario en el cual guardo nombres de usuarios con sus contraseñas "
   ]
  },
  {
   "cell_type": "code",
   "execution_count": 6,
   "id": "ff4c176d",
   "metadata": {},
   "outputs": [
    {
     "name": "stdout",
     "output_type": "stream",
     "text": [
      "El usuario admin tiene la contraseña 123\n",
      "El usuario Lucia_98 tiene la contraseña abcd_123\n",
      "El usuario Juan tiene la contraseña wqwe3\n"
     ]
    }
   ],
   "source": [
    "logins = {\"admin\" : \"123\", \"Lucia_98\" : \"abcd_123\", \"Juan\" : \"wqwe3\"}\n",
    "for user, password in logins.items():\n",
    "    print(f\"El usuario {user} tiene la contraseña {password}\")"
   ]
  },
  {
   "cell_type": "markdown",
   "id": "3816b438",
   "metadata": {},
   "source": [
    "## Bibliotecas\n",
    "\n",
    "El tema principal de esta clase son las bibliotecas de Python. La primera aclaración pertinente es notar que muchas veces en la jerga se utiliza el término *Librería* indistinguidamente del termino Biblioteca. Este término proviene de una mala traducción del término en inglés *Library*. Para los fines prácticos que nos conciernen, vamos a tomar como válidos ambos términos. \n",
    "\n",
    "Aclarado esto, ¿Qué es una biblioteca de Python?\n",
    "Al igual que una biblioteca en el mundo real es una colección de libros ordenados temáticamente, en el mundo de la programación una librería o bibioteca es un conjunto de archivos que estan pensados para ser utilizados en la resolución de problemas específicos. Estos archivos se componen principalmente de código y documentación. \n",
    "En python, las librearías reunen módulos relacionados entre sí, los cuales contienen código (por ahora podemos pensar que contienen funciones) que pueden ser utilizados para desarrollar programas. De esta manera, la programación se vuelve mas sencilla y estandarizada, ya que no tenemos que volver a escribir el mismo código cada vez que necesitemos ejecutar la misma tarea. Ahora, ¿Cómo hacemos para usar esas bibliotecas en Python?\n",
    "\n",
    "### Biblioteca estándar de Python\n",
    "Como vimos, hasta este punto no nos preocupamos por cargar bibliotecas ni nada similar, sin embargo hemos estado utilizando definiciones y funciones como por ejemplo **print** o **type**. Estas funciones, al igual que todas las funciones en Python, esta definidas en código en algún lugar de la memoria. Por defecto, Python trae consigo una biblioteca genérica en donde contiene las definiciones de estas y otras funciones, entre otras herramientas de código. Esta es la biblioteca estándar de Python, y la misma contiene módulos que ya vienen embebidos dentro del lenguaje. Es decir, para utilizar las herramientas de código de estos modulos, no necesito preocuparme por cargar esta biblioteca pues ya viene con el lenguaje. Por esto, las funciones como **print** o **type** reciben el nombre de *funciones integradas* o *funciones nativas* de Python. En otras palabras, todo este tiempo hemos estado utilizando la biblioteca estándar de Python. Para ver que otras herramientas y definiciones que contiene este módulo, puedo recurrir a su [documentación oficial](https://docs.python.org/3/library/functions.html#abs)\n",
    "\n",
    "Ahora bien, hay otros módulos contenidos dentro de esta biblioteca estándar de Python pero que no se cargan automáticamente en el intérprete. Por lo general, estos módulos contienen funcionalidades que nos permiten interactuar con las entradas y salidas del sistema, o nos permiten realizar operaciones específicas. Un ejemplo de esto es el módulo matemático. Veamoslo como ejemplo. \n",
    "\n",
    "Supongamos que tengo una variable que contiene el valor 25.0, y quiero calcular su raiz cuadrada "
   ]
  },
  {
   "cell_type": "code",
   "execution_count": 7,
   "id": "346485f1",
   "metadata": {},
   "outputs": [],
   "source": [
    "my_var = 25"
   ]
  },
  {
   "cell_type": "markdown",
   "id": "c1c380ca",
   "metadata": {},
   "source": [
    "Como vimos, existen operadores numéricos para las operaciones aritméticas elementales, como suma resta multiplcación y división, pero no tengo ninguno que me permita calcular la raiz cuadrada. Entonces, que puedo hacer?\n",
    "\n",
    "Existen [numerosos algoritmos que son capaces de calcular la raiz cuadrada de un valor a partir de estas operaciones aritméticas elementales](https://en.wikipedia.org/wiki/Methods_of_computing_square_roots). Sin embargo, implementar estos algoritmos no es algo trivial ni sencillo. Es en estos casos en donde las bibliotecas entran en acción. Si tengo un problema que quiero resolver, que probablemente muchas personas quieran resolver, en lugar de que todos inventemos nuestras propias implementaciones de los algoritmos para calcular raices cuadradas, es más conveniente que un grupo de gente **muy capacitada** haga una implementación del algoritmo, la revise, y luego lo distribuya para que todo aquel que necesite calcular una raiz cuadrada pueda usar esa implementación. Esto es exactamente lo que hacemos al utilizar librerias: utilizar código creado y testeado por personas con mucha experiencia en un determinado campo de aplicación. Si bien nosotros podemos crear nuestra propia implementación, es muy poco probable que sea mas eficiente y segura que una implementación distribuida dentro de una librería. Para el caso de la raiz cuadrada, tenemos una implementación del algoritmo dentro del modulo **math** perteneciente a la librería estándar. Como forma parte de la libreria estándar, no necesito descargar ningún archivo nuevo, ya que los archivos correspondientes en donde estan las definiciones de este módulo se instalan junto con Python. Entonces, lo que tengo que hacer es simplemente **importar** el modulo. Para hacerlo, tenemos que utilizar la palabra reservada **import**."
   ]
  },
  {
   "cell_type": "code",
   "execution_count": 8,
   "id": "8050aecb",
   "metadata": {},
   "outputs": [],
   "source": [
    "import math"
   ]
  },
  {
   "cell_type": "markdown",
   "id": "c966729a",
   "metadata": {},
   "source": [
    "Con esta sentencia, le indicamos al interprete que vamos a utilizar las definiciones existentes dentro del módulo **math**. Dentro de este modulo existe una función llamada **sqrt**, la cual recibe como entrada un número y devuelve a su salida el resultado de computar la raiz cuadrada de ese número. Intentemos usarla al igual que usabamos, por ejemplo, las funciones *print* y *type*"
   ]
  },
  {
   "cell_type": "code",
   "execution_count": 9,
   "id": "caac98f7",
   "metadata": {},
   "outputs": [
    {
     "ename": "NameError",
     "evalue": "name 'sqrt' is not defined",
     "output_type": "error",
     "traceback": [
      "\u001b[0;31m---------------------------------------------------------------------------\u001b[0m",
      "\u001b[0;31mNameError\u001b[0m                                 Traceback (most recent call last)",
      "\u001b[0;32m<ipython-input-9-34ed9aacce58>\u001b[0m in \u001b[0;36m<module>\u001b[0;34m\u001b[0m\n\u001b[0;32m----> 1\u001b[0;31m \u001b[0msqrt\u001b[0m\u001b[0;34m(\u001b[0m\u001b[0mmy_var\u001b[0m\u001b[0;34m)\u001b[0m\u001b[0;34m\u001b[0m\u001b[0;34m\u001b[0m\u001b[0m\n\u001b[0m",
      "\u001b[0;31mNameError\u001b[0m: name 'sqrt' is not defined"
     ]
    }
   ],
   "source": [
    "sqrt(my_var)"
   ]
  },
  {
   "cell_type": "markdown",
   "id": "5c62e59b",
   "metadata": {},
   "source": [
    "Como vemos, tenemos un mensaje de error que nos dice que **sqrt** no está definido. Lo que ocurre es que, al utilizar el nombre de la función, el intérprete de Python busca dentro de las definiciones nativas que trae por defecto. Dijimos que entre estas definiciones nativas se encontraban *print* y *type*, por eso podemos usarlas directamente. Como la función que quiero usar ahora esta dentro de un módulo tengo que indicarle al intérprete de Python que no la busque dentro de las definiciones que trae por defecto, sino que la busque dentro de las definiciones del módulo *math*. Para hacer esto, uso la siguiente sintaxis:"
   ]
  },
  {
   "cell_type": "code",
   "execution_count": 10,
   "id": "e33da826",
   "metadata": {},
   "outputs": [
    {
     "data": {
      "text/plain": [
       "5.0"
      ]
     },
     "execution_count": 10,
     "metadata": {},
     "output_type": "execute_result"
    }
   ],
   "source": [
    "math.sqrt(my_var)"
   ]
  },
  {
   "cell_type": "markdown",
   "id": "a4396ae5",
   "metadata": {},
   "source": [
    "De esa forma, primero escribo el nombre de la librería o módulo que importé, luego agrego un punto, y luego escribo el nombre de la función de esta librería que quiero ocupar. Esta sintaxis se respeta de igual manera para cualquier biblioteca. \n",
    "\n",
    "Ahora bien, cada vez que quiera usar la función **sqrt** de la biblioteca **math** voy a tener que escribir \"math.sqrt\". En este caso no es un problema, ya que el nombre de la libreria es breve. Sin embargo, vamos a trabajar con librerías que tienen nombres más extensos, y tener que escribir el nombre completo cada vez que las quiero usar se vuelve tedioso. Para ello, la sintaxis nos permite definir un *alias*. El alias es una manera alternativa de nombrar al bloque de código que estoy importando, y en general se usa para dar un nombre mas breve. El alias debe definirse a la hora de importar el módulo, y si se define un alias debe usarse ese alias y no el nombre de la biblioteca o módulo a la hora de llamar a la función. Por ejemplo, supongamos que el nombre \"math\" me parece innecesariamente largo, y preferiria llamarlo solo \"m\" para poder escribir `m.sqrt(my_var)` en lugar de `math.sqrt(my_var)` para calcular la raiz cuadrada. Para ello, debería importar la libreria math de la siguiente manera"
   ]
  },
  {
   "cell_type": "code",
   "execution_count": 11,
   "id": "d3da6d2e",
   "metadata": {},
   "outputs": [],
   "source": [
    "import math as m"
   ]
  },
  {
   "cell_type": "markdown",
   "id": "c879ac6d",
   "metadata": {},
   "source": [
    "Como vemos, la palabra reservada `as` se utiliza para definir el alias. Del lado izquierdo va el nombre que queremos reemplazar, y del lado derecho va el reemplazo. Comprobemos que funciona"
   ]
  },
  {
   "cell_type": "code",
   "execution_count": 12,
   "id": "98f23ecb",
   "metadata": {},
   "outputs": [
    {
     "data": {
      "text/plain": [
       "5.0"
      ]
     },
     "execution_count": 12,
     "metadata": {},
     "output_type": "execute_result"
    }
   ],
   "source": [
    "m.sqrt(my_var)"
   ]
  },
  {
   "cell_type": "markdown",
   "id": "14cfadc7",
   "metadata": {},
   "source": [
    "Que pasa si uso otro alias? "
   ]
  },
  {
   "cell_type": "code",
   "execution_count": 13,
   "id": "29c4f264",
   "metadata": {},
   "outputs": [],
   "source": [
    "import math as un_nuevo_alias_bastante_mas_largo"
   ]
  },
  {
   "cell_type": "code",
   "execution_count": 14,
   "id": "aba90bce",
   "metadata": {},
   "outputs": [
    {
     "data": {
      "text/plain": [
       "5.0"
      ]
     },
     "execution_count": 14,
     "metadata": {},
     "output_type": "execute_result"
    }
   ],
   "source": [
    "un_nuevo_alias_bastante_mas_largo.sqrt(my_var)"
   ]
  },
  {
   "cell_type": "markdown",
   "id": "0c18e7f5",
   "metadata": {},
   "source": [
    "Como vemos, podemos definir cualquier alias y siempre que respetemos la sintaxis va a funcionar. Sin embargo, los alias para cada librería se definen por convención, y utilizar un alias que no se utiliza en la comunidad es una mala práctica de programación y a fines de este curso será considerado un error, a pesar de que para el interprete no sea un error. La manera mas simple de averiguar que alias utilizar para una determinada librería es, como siempre, leer su documentación (ejemplos de uso). "
   ]
  },
  {
   "cell_type": "markdown",
   "id": "348fc478",
   "metadata": {},
   "source": [
    "## [Numpy](https://numpy.org/doc/1.23/numpy-user.pdf)\n",
    "\n",
    "Existen otras bibliotecas y módulos ademas de aquellos que se distribuyen con Python, pensadas para aplicaciones específicas. Ese es el caso de la biblioteca **Numpy**. La misma consiste en un conjunto de herramientas pensadas para el desarrollo de computación científica. En nuestro caso, nos interesa principalmente porque nos permite trabajar con **arrays**, un nuevo tipo de dato que nos será util para representar señales, vectores y matrices, y hacer operaciones matemáticas con ellos. Además de esto, nos brindará funciones optimizadas que nos permitiran realizar procesamientos complejos de manera eficiente. Como Numpy es una biblioteca externa, debemos instalarla. La instalación consiste en descargar un conjunto de archivos y ubicarlos en un lugar específico en donde puedan ser encontrados por el interprete de Python a la hora de hacer la importación. Este proceso esta expuesto a varias posibles fuentes de error, ya sea en la integridad o versión de los archivos que se descargan como en el manejo de rutas y directorios de acuerdo al interprete de Python que estamos utilizando. Para solucionar estas complicaciones existen programas que se encargan de gestionar estos paquetes o librerias. La gestión incluye la descarga, actualización, eliminación y control de versiones. En nuestro caso, la suite Anaconda nos provee del gestor de paquetes llamado **pip**. Entonces, para descargar e instalar la biblioteca Numpy, bastaría con abrir una terminal, activar nuestro environment de anaconda, e ingresar el comando ```pip install numpy```. El proceso para instalar otras bibliotecas es muy similar, y se encuenta detallado dentro de su documentación. Pip se encargará de encontrar los arhcivos necesarios en algún servidor web, descargarlos, y ubicarlos en el lugar correcto. Sin embargo, la suite Anaconda por defecto descarga un conjunto de paquetes y librerías externos a Python, entre los cuales se encuentra Numpy. Es decir, que si realizamos la instalación del paquete completo de Anaconda correctamente, ya deberíamos contar con una instalación de Numpy y no haria falta correr el comando con pip. Para comprobar que tenemos el paquete Numpy instalado, provemos importarlo e imprimir en pantalla la versión con la que contamos"
   ]
  },
  {
   "cell_type": "code",
   "execution_count": 15,
   "id": "be2b81e4",
   "metadata": {},
   "outputs": [
    {
     "name": "stdout",
     "output_type": "stream",
     "text": [
      "1.22.4\n"
     ]
    }
   ],
   "source": [
    "import numpy\n",
    "print(numpy.__version__)"
   ]
  },
  {
   "cell_type": "markdown",
   "id": "4eb4959f",
   "metadata": {},
   "source": [
    "por lo general, para trabajar con numpy se utiliza el alias \"np\", entonces siempre vamos a importar esta librería de la siguiente manera: "
   ]
  },
  {
   "cell_type": "code",
   "execution_count": 16,
   "id": "1fc2cda7",
   "metadata": {},
   "outputs": [],
   "source": [
    "import numpy as np"
   ]
  },
  {
   "cell_type": "markdown",
   "id": "483f6476",
   "metadata": {},
   "source": [
    "Esta librería, al igual que la libreria ```math``` también nos provee de algunas funciones matemáticas como por ejemplo la de raiz cuadrada. En este caso, seria:"
   ]
  },
  {
   "cell_type": "code",
   "execution_count": 17,
   "id": "44084b74",
   "metadata": {},
   "outputs": [
    {
     "data": {
      "text/plain": [
       "5.0"
      ]
     },
     "execution_count": 17,
     "metadata": {},
     "output_type": "execute_result"
    }
   ],
   "source": [
    "np.sqrt(my_var)"
   ]
  },
  {
   "cell_type": "markdown",
   "id": "780d05ad",
   "metadata": {},
   "source": [
    "### Numpy arrays\n",
    "\n",
    "Como dijimos, nos interesa trabajar con esta biblioteca principalmente porque nos permite operar con un nuevo tipo de dato: el tipo array (```numpy.ndarray```). Este nos permite encapsular vectores n-dimensionales de *un mismo tipo de dato* en una representación que resulta optima para realizar procesamientos de manera eficiente. Algunas características importantes de los arrays son:\n",
    "\n",
    "- Tienen un tamaño fijo definido al momento de su creación. Cambiar el tamaño de un array produce crear un nuevo array y eliminar el original.\n",
    "- Sus elementos tienen que ser todos del mismo tipo de dato.\n",
    "- Las operaciones matemáticas se ejecutan mas eficientemente utilizando arrays que utilizando los tipos de datos nativos de python como por ejemplo listas.\n",
    "- Muchas otras librerias ajenas a Numpy definen funciones que manejan variables de tipo ```ndarray```, debido a que es el estándar en la industria\n",
    "\n",
    "Usualmente, los arrays son **matrices** (recuerden que un vector se puede pensar como una matriz columna o fila, es decir, como una matriz de dimensión 1) que se componen de algún tipo de dato numérico (entreos, reales). Las mismas estan indexadas siguiendo la misma lógica de índices enteros no negativos que vimos para listas y tuplas.\n",
    "Veamoslo en código\n",
    "\n",
    "\n",
    "#### Creando arrays a partir de otros tipos de datos (listas, enteros, reales)\n",
    "\n",
    "Para crear un array usamos la función **array** de Numpy. Como **siempre** que usemos una función por primera vez, deberíamos revisar de antemano su [documentación](https://numpy.org/doc/stable/reference/generated/numpy.array.html). Leer documentación es la única manera de aprender a utilizar una librería. También es la única manera de aprender a leer documentación. Si ingresan al anterior link, verán que se trata de un documento bastante extenso, con múchisima más información de la que necesito en este momento. Aprender a ubicar la información que realmente necesito ahora, y discernir cual es la información que de momento puedo ignorar, es algo que se aprende visitando muchas paginas de documentación. Como verán, la documentación de funciones de un mismo módulo o biblioteca respetan un mismo formato, por lo cual familiarizarse con ese formato nos va a ayudar a leer la documentación de manera mas eficiente.\n",
    "\n",
    "Vamos a recurrir primero a la manera mas intuitiva de crear un array, que es a partir de una lista."
   ]
  },
  {
   "cell_type": "code",
   "execution_count": 18,
   "id": "5dd06aa2",
   "metadata": {},
   "outputs": [],
   "source": [
    "mi_array = np.array([1,2,3])"
   ]
  },
  {
   "cell_type": "markdown",
   "id": "c9feab2c",
   "metadata": {},
   "source": [
    "Como vemos estoy creando el array a partir de usar la funcion ```array``` de Numpy, y pasándole como argumento una lista. Por ahora puedo ignorar el resto de argumentos. En lugar de pasarle una lista definida, podría pasarle una variable que contenga una lista"
   ]
  },
  {
   "cell_type": "code",
   "execution_count": 19,
   "id": "203701cc",
   "metadata": {},
   "outputs": [],
   "source": [
    "mi_lista = [1,2,3]\n",
    "mi_array = np.array(mi_lista)"
   ]
  },
  {
   "cell_type": "code",
   "execution_count": 20,
   "id": "1992bd90",
   "metadata": {},
   "outputs": [
    {
     "data": {
      "text/plain": [
       "list"
      ]
     },
     "execution_count": 20,
     "metadata": {},
     "output_type": "execute_result"
    }
   ],
   "source": [
    "type(mi_lista)"
   ]
  },
  {
   "cell_type": "code",
   "execution_count": 21,
   "id": "8a11dd47",
   "metadata": {},
   "outputs": [
    {
     "data": {
      "text/plain": [
       "numpy.ndarray"
      ]
     },
     "execution_count": 21,
     "metadata": {},
     "output_type": "execute_result"
    }
   ],
   "source": [
    "type(mi_array)"
   ]
  },
  {
   "cell_type": "code",
   "execution_count": 22,
   "id": "2d72d7bc",
   "metadata": {},
   "outputs": [
    {
     "data": {
      "text/plain": [
       "array([1, 2, 3])"
      ]
     },
     "execution_count": 22,
     "metadata": {},
     "output_type": "execute_result"
    }
   ],
   "source": [
    "mi_array"
   ]
  },
  {
   "cell_type": "markdown",
   "id": "e7cb4897",
   "metadata": {},
   "source": [
    "Como siempre, es buena practica intentar romper alguna de las características de este tipo de dato para ver como luce el mensaje de error. Por ejemplo, intentemos definir un array con diferentes tipos de datos."
   ]
  },
  {
   "cell_type": "code",
   "execution_count": 23,
   "id": "e49d4701",
   "metadata": {},
   "outputs": [],
   "source": [
    "error_array = np.array([1, \"dos\", 3])"
   ]
  },
  {
   "cell_type": "markdown",
   "id": "48b5b511",
   "metadata": {},
   "source": [
    "A primera vista, esto parece ir en contra de la definición. Definimos el array con dos enteros y una cadena, y la sentencia se ejecuto sin errores. Para ver que esta pasando, inspeccionemos el array que creamos"
   ]
  },
  {
   "cell_type": "code",
   "execution_count": 24,
   "id": "a63a88f5",
   "metadata": {},
   "outputs": [
    {
     "data": {
      "text/plain": [
       "array(['1', 'dos', '3'], dtype='<U21')"
      ]
     },
     "execution_count": 24,
     "metadata": {},
     "output_type": "execute_result"
    }
   ],
   "source": [
    "error_array"
   ]
  },
  {
   "cell_type": "markdown",
   "id": "c20a1fb1",
   "metadata": {},
   "source": [
    "Como vemos, no respeto cada tipo de dato, sino que convirtio los tres elementos a un mismo tipo de dato. Que tipo de dato? Veamos: "
   ]
  },
  {
   "cell_type": "code",
   "execution_count": 25,
   "id": "ea981419",
   "metadata": {},
   "outputs": [
    {
     "data": {
      "text/plain": [
       "numpy.str_"
      ]
     },
     "execution_count": 25,
     "metadata": {},
     "output_type": "execute_result"
    }
   ],
   "source": [
    "type(error_array[0])"
   ]
  },
  {
   "cell_type": "markdown",
   "id": "e8b8b9e1",
   "metadata": {},
   "source": [
    "Este tipo de dato es similar al tipo de dato **str** que vimos, pero usando una definición propia de Numpy. A fines prácticos, podemos pensarlas como equivalentes. De igual manera, Numpy contiene definiciones equivalentes para números enteros y números reales (```numpy.int32```,```numpy.int64```, ```numpy.float32```, ```numpy.float64```)\n",
    "\n",
    "También podemos crear arrays a partir de escalares"
   ]
  },
  {
   "cell_type": "code",
   "execution_count": 26,
   "id": "8589126e",
   "metadata": {},
   "outputs": [],
   "source": [
    "escalar_array = np.array(1)"
   ]
  },
  {
   "cell_type": "code",
   "execution_count": 27,
   "id": "2135cde3",
   "metadata": {},
   "outputs": [
    {
     "data": {
      "text/plain": [
       "array(1)"
      ]
     },
     "execution_count": 27,
     "metadata": {},
     "output_type": "execute_result"
    }
   ],
   "source": [
    "escalar_array"
   ]
  },
  {
   "cell_type": "code",
   "execution_count": 28,
   "id": "038ba986",
   "metadata": {},
   "outputs": [
    {
     "data": {
      "text/plain": [
       "numpy.ndarray"
      ]
     },
     "execution_count": 28,
     "metadata": {},
     "output_type": "execute_result"
    }
   ],
   "source": [
    "type(escalar_array)"
   ]
  },
  {
   "cell_type": "code",
   "execution_count": 29,
   "id": "7568425f",
   "metadata": {},
   "outputs": [],
   "source": [
    "escalar_array = np.array(1.5)"
   ]
  },
  {
   "cell_type": "code",
   "execution_count": 30,
   "id": "97313a69",
   "metadata": {},
   "outputs": [
    {
     "data": {
      "text/plain": [
       "array(1.5)"
      ]
     },
     "execution_count": 30,
     "metadata": {},
     "output_type": "execute_result"
    }
   ],
   "source": [
    "escalar_array"
   ]
  },
  {
   "cell_type": "code",
   "execution_count": 31,
   "id": "65c09799",
   "metadata": {},
   "outputs": [
    {
     "data": {
      "text/plain": [
       "numpy.ndarray"
      ]
     },
     "execution_count": 31,
     "metadata": {},
     "output_type": "execute_result"
    }
   ],
   "source": [
    "type(escalar_array)"
   ]
  },
  {
   "cell_type": "markdown",
   "id": "b30625db",
   "metadata": {},
   "source": [
    "#### Cantidad de elementos y forma de un array\n",
    "\n",
    "Con las listas, deciamos que su tamaño venia definido por la cantidad de elementos que almacenaba. Para saber la cantidad de elementos que hay dentro de una lista podemos usar la función integrada **len** que recibe como entrada una lista y nos da como salida la cantidad de elementos que tiene esta lista:"
   ]
  },
  {
   "cell_type": "code",
   "execution_count": 32,
   "id": "2f92e9f3",
   "metadata": {},
   "outputs": [
    {
     "data": {
      "text/plain": [
       "3"
      ]
     },
     "execution_count": 32,
     "metadata": {},
     "output_type": "execute_result"
    }
   ],
   "source": [
    "len(mi_lista)"
   ]
  },
  {
   "cell_type": "markdown",
   "id": "4020b226",
   "metadata": {},
   "source": [
    "Sin embargo, cuando hablamos de arrays, no solo nos interesa saber cuantos elementos contiene, sino que también nos interesa conocer las dimensiones del mismo. Como dijimos antes, los arrays son matrices. Entonces, una matriz columna de 4 elementos tiene la misma cantidad de elementos que una matriz de $2x2$, por lo cual necesitamos conocer la forma de un array para poder caracterizarlo. Para conocer la cantidad de elementos de un array utilizamos el atributo **size** y para conocer la forma de la matriz que representa, usamos el atributo **shape**."
   ]
  },
  {
   "cell_type": "code",
   "execution_count": 33,
   "id": "2c7d313f",
   "metadata": {},
   "outputs": [
    {
     "data": {
      "text/plain": [
       "3"
      ]
     },
     "execution_count": 33,
     "metadata": {},
     "output_type": "execute_result"
    }
   ],
   "source": [
    "mi_array.size"
   ]
  },
  {
   "cell_type": "markdown",
   "id": "de0d295a",
   "metadata": {},
   "source": [
    "es un array de 3 elementos. Como vemos, el atributo size me indica directamente cuantos elementos tiene el array"
   ]
  },
  {
   "cell_type": "code",
   "execution_count": 34,
   "id": "6ae85a91",
   "metadata": {},
   "outputs": [
    {
     "data": {
      "text/plain": [
       "(3,)"
      ]
     },
     "execution_count": 34,
     "metadata": {},
     "output_type": "execute_result"
    }
   ],
   "source": [
    "mi_array.shape"
   ]
  },
  {
   "cell_type": "markdown",
   "id": "090b6e32",
   "metadata": {},
   "source": [
    "El atributo shape me devuelve una tupla. La cantidad de elementos dentro de la tupla refiere a la cantidad de ejes o *axes* que tiene el array, y el valor de cada elemento me indica la cantidad de elementos en ese eje. En este caso, tengo un solo eje, en el cual tengo 3 elementos. Si por ejemplo, el array fuera una matriz de $2x3$ (2 filas, 3 columnas) tendría 2 ejes con 2 elementos en el primero (2 filas) y 3 elementos en el segundo (3 columnas), siendo el resultado del atributo shape la tupla (2,3), que es una tupla con 2 elementos (cantidad de ejes) y valores 2 y 3 (cantidad de valores en cada eje). Esto quedará mas claro cuando definamos matrices."
   ]
  },
  {
   "cell_type": "markdown",
   "id": "44538f9f",
   "metadata": {},
   "source": [
    "#### Creando arrays a partir de funciones arange y linspace\n",
    "\n",
    "Otra manera muy útil de definir arrays es a partir de las funciones de Numpy ```arange``` y ```linspace```\n",
    "Ambas funciones crean arrays de valores equiespaciados, a partir de 3 condiciones. Vamos a usar una u otra de acuerdo a la información que tengamos para el array que querramos formar. \n",
    "\n",
    "La función ```arange``` crea un vector a partir de los siguientes parámetros:\n",
    "```python\n",
    "np.arange(inicio, fin, paso)\n",
    "```\n",
    "- inicio : primer valor del array\n",
    "- fin : valor que no puede ser superado ni igualado por un elemento del array\n",
    "- paso : distancia entre cada valor\n",
    "\n",
    "Entonces, la función arange genera valores dentro del intervalo semi-abierto $[inicio,fin)$ con un espacio entre valores de $paso$. Por ejemplo:"
   ]
  },
  {
   "cell_type": "code",
   "execution_count": 35,
   "id": "7b0f063c",
   "metadata": {},
   "outputs": [
    {
     "data": {
      "text/plain": [
       "array([1. , 1.5, 2. , 2.5, 3. , 3.5])"
      ]
     },
     "execution_count": 35,
     "metadata": {},
     "output_type": "execute_result"
    }
   ],
   "source": [
    "np.arange(1, 4, 0.5)"
   ]
  },
  {
   "cell_type": "markdown",
   "id": "9f7a5547",
   "metadata": {},
   "source": [
    "En este caso *inicio* = 1, *fin* = 4 y *paso* = 0.5. Entonces, el array se genera partiendo de *inicio* y sumando *paso* hasta que el resultado supere o iguale el valor *fin*. Como es un intervalo semiabierto, si una suma da exactamente el valor de *fin*, este elemento no se incluye. Esto ocurre en el ejemplo, como el anteúltimo elemento es $3.5$ el siguiente seria $3.5 + paso$ es decir, $3.5 + 0.5 = 4$ y como esto coincide con el valor de *fin* ya no se encuentra dentro del intervalo $[inicio,fin)$ y por eso el array finaliza sin este elemento.\n",
    "Como podemos ver, con esta función controlamos de manera directa la distancia entre dos puntos consecutivos del array, lo que nos permite controlar de manera indirecta la cantidad de elementos que tendrá el array (para un mismo inicio y fin, un paso mas chico resultará en un array con mas elementos)"
   ]
  },
  {
   "cell_type": "markdown",
   "id": "8c84d2a8",
   "metadata": {},
   "source": [
    "Por otro lado, la función ```linspace``` crea un array a partir de los siguientes parámetros: \n",
    "\n",
    "- inicio : primer valor del array\n",
    "- fin : ultimo valor del array\n",
    "- num : cantidad de elementos del array\n",
    "\n",
    "Entonces, en este caso la función genera un array con $num$ muestras equiespaciadas dentro del intervalo $[inicio, fin]$"
   ]
  },
  {
   "cell_type": "code",
   "execution_count": 36,
   "id": "2a440c05",
   "metadata": {},
   "outputs": [
    {
     "data": {
      "text/plain": [
       "array([1. , 1.5, 2. , 2.5, 3. , 3.5, 4. ])"
      ]
     },
     "execution_count": 36,
     "metadata": {},
     "output_type": "execute_result"
    }
   ],
   "source": [
    "np.linspace(1,4,7)"
   ]
  },
  {
   "cell_type": "markdown",
   "id": "cb45886e",
   "metadata": {},
   "source": [
    "En esta función controlamos de manera directa la cantidad de puntos del array, lo que nos permite controlar de manera indirecta la distancia entre dos puntos consecutivos del array (para un mismo inicio y fin, mayor cantidad de puntos generar una distancia entre muestras menor). "
   ]
  },
  {
   "cell_type": "markdown",
   "id": "919aae86",
   "metadata": {},
   "source": [
    "#### Creando arrays de ceros y unos\n",
    "\n",
    "En la práctica muchas veces vamos a necesitar crear arrays con elementos de igual valor, y como caso particular, arrays de ceros y arrays de unos. Para conseguir esto, existen las funciones ```zeros``` y ```ones``` de numpy, las cuales reciben como argumento la dimensión del array que quiero generar. Por ejemplo:"
   ]
  },
  {
   "cell_type": "code",
   "execution_count": 37,
   "id": "ea7a6fe0",
   "metadata": {},
   "outputs": [
    {
     "data": {
      "text/plain": [
       "array([1., 1., 1., 1., 1.])"
      ]
     },
     "execution_count": 37,
     "metadata": {},
     "output_type": "execute_result"
    }
   ],
   "source": [
    "np.ones(5) # vector de 5 elementos"
   ]
  },
  {
   "cell_type": "code",
   "execution_count": 38,
   "id": "3e5112ae",
   "metadata": {},
   "outputs": [
    {
     "data": {
      "text/plain": [
       "array([0., 0.])"
      ]
     },
     "execution_count": 38,
     "metadata": {},
     "output_type": "execute_result"
    }
   ],
   "source": [
    "np.zeros(2) # vector de 2 elementos"
   ]
  },
  {
   "cell_type": "markdown",
   "id": "f1e86122",
   "metadata": {},
   "source": [
    "#### Creando arrays de mas de una dimensión\n",
    "\n",
    "Como dijimos, podemos pensar que los arrays son esencialmente matrices. Hasta ahora definimos siempre matrices de una dimensión, y los llamamos vectores. Este tipo de representación nos será muy util puesto que en Python **la representación de una señal de audio es vectorial**. Sin embargo, también nos será util definir arrays de mas de una dimensión. Para hacerlo, podemos recurrir a las mismas formas de creación de arrays anteriormente vistas, pero cambiando algunos argumentos.\n",
    "\n",
    "Por ejemplo, para crear un array de dos dimensiones a partir de una lista, tengo que pasar una *lista de listas*, lo que indica que hay 2 dimensiones. Si quisiera crear un array de 3 dimensiones, debería pasar como entrada una *lista de listas de listas* y asi sucesivamente. Veamos un ejemplo:"
   ]
  },
  {
   "cell_type": "code",
   "execution_count": 39,
   "id": "c8116835",
   "metadata": {},
   "outputs": [],
   "source": [
    "lista_de_listas = [[1,2,3], [4,5,6]]"
   ]
  },
  {
   "cell_type": "code",
   "execution_count": 40,
   "id": "69dab316",
   "metadata": {},
   "outputs": [
    {
     "data": {
      "text/plain": [
       "[[1, 2, 3], [4, 5, 6]]"
      ]
     },
     "execution_count": 40,
     "metadata": {},
     "output_type": "execute_result"
    }
   ],
   "source": [
    "lista_de_listas"
   ]
  },
  {
   "cell_type": "markdown",
   "id": "b9b5d036",
   "metadata": {},
   "source": [
    "la variable **lista_de_listas** es una lista de 2 elementos. Lo podemos comprobar haciendo"
   ]
  },
  {
   "cell_type": "code",
   "execution_count": 41,
   "id": "d62c20dc",
   "metadata": {},
   "outputs": [
    {
     "data": {
      "text/plain": [
       "2"
      ]
     },
     "execution_count": 41,
     "metadata": {},
     "output_type": "execute_result"
    }
   ],
   "source": [
    "len(lista_de_listas)"
   ]
  },
  {
   "cell_type": "markdown",
   "id": "996bc1fc",
   "metadata": {},
   "source": [
    "A su vez, cada elemento de la lista es otra lista, cada una conteniendo 3 elementos. Lo podemos comprobar haciendo"
   ]
  },
  {
   "cell_type": "code",
   "execution_count": 42,
   "id": "5d226b45",
   "metadata": {},
   "outputs": [
    {
     "data": {
      "text/plain": [
       "3"
      ]
     },
     "execution_count": 42,
     "metadata": {},
     "output_type": "execute_result"
    }
   ],
   "source": [
    "len(lista_de_listas[0]) #largo del primer elemento"
   ]
  },
  {
   "cell_type": "code",
   "execution_count": 43,
   "id": "af19684e",
   "metadata": {},
   "outputs": [
    {
     "data": {
      "text/plain": [
       "3"
      ]
     },
     "execution_count": 43,
     "metadata": {},
     "output_type": "execute_result"
    }
   ],
   "source": [
    "len(lista_de_listas[1]) #largo del segundo elemento"
   ]
  },
  {
   "cell_type": "markdown",
   "id": "a99ee0f8",
   "metadata": {},
   "source": [
    "Un detalle **muy importante** es que las sublistas tienen la misma cantidad de elementos. Entonces, pasemos esto como entrada de la función para crear arrays y veamos que sucede"
   ]
  },
  {
   "cell_type": "code",
   "execution_count": 44,
   "id": "718dbe6c",
   "metadata": {},
   "outputs": [
    {
     "data": {
      "text/plain": [
       "array([[1, 2, 3],\n",
       "       [4, 5, 6]])"
      ]
     },
     "execution_count": 44,
     "metadata": {},
     "output_type": "execute_result"
    }
   ],
   "source": [
    "mi_matriz = np.array(lista_de_listas)\n",
    "mi_matriz"
   ]
  },
  {
   "cell_type": "markdown",
   "id": "a24ed7d0",
   "metadata": {},
   "source": [
    "Como vemos, la representación se asemeja a una matriz de 2 filas y 3 columnas. Es decir, la cantidad de elementos de la lista que pasamos como argumento corresponde a la cantidad de elementos del primer eje del array, y la cantidad de elementos de las sublistas de la lista que pasamos como argumento corresponde a la cantidad de elementos del segundo eje del array. Usemos los atributos anteriormente vistos **size** y **shape** para inspeccionar este array"
   ]
  },
  {
   "cell_type": "code",
   "execution_count": 45,
   "id": "16bc0bd3",
   "metadata": {},
   "outputs": [
    {
     "data": {
      "text/plain": [
       "6"
      ]
     },
     "execution_count": 45,
     "metadata": {},
     "output_type": "execute_result"
    }
   ],
   "source": [
    "mi_matriz.size"
   ]
  },
  {
   "cell_type": "markdown",
   "id": "33fc9f6f",
   "metadata": {},
   "source": [
    "Tengo, en total, 6 elementos"
   ]
  },
  {
   "cell_type": "code",
   "execution_count": 46,
   "id": "a823ca88",
   "metadata": {},
   "outputs": [
    {
     "data": {
      "text/plain": [
       "(2, 3)"
      ]
     },
     "execution_count": 46,
     "metadata": {},
     "output_type": "execute_result"
    }
   ],
   "source": [
    "mi_matriz.shape"
   ]
  },
  {
   "cell_type": "markdown",
   "id": "1b4980d3",
   "metadata": {},
   "source": [
    "Tengo 2 dimensiones o ejes, con 2 elementos en el primer eje y 3 elementos en el segundo, acorde a una matriz de $2x3$"
   ]
  },
  {
   "cell_type": "markdown",
   "id": "0cb8554c",
   "metadata": {},
   "source": [
    "Para las funciones generadoras de arrays, por lo general vamos a tener la opción de indicar la dimensión del array que quiero generar. Por ejemplo:"
   ]
  },
  {
   "cell_type": "code",
   "execution_count": 47,
   "id": "0ae93e10",
   "metadata": {},
   "outputs": [
    {
     "data": {
      "text/plain": [
       "array([[0., 0.],\n",
       "       [0., 0.]])"
      ]
     },
     "execution_count": 47,
     "metadata": {},
     "output_type": "execute_result"
    }
   ],
   "source": [
    "np.zeros([2,2]) # matriz de ceros de 2x2"
   ]
  },
  {
   "cell_type": "code",
   "execution_count": 48,
   "id": "65f056e5",
   "metadata": {},
   "outputs": [
    {
     "data": {
      "text/plain": [
       "array([[1., 1., 1.],\n",
       "       [1., 1., 1.],\n",
       "       [1., 1., 1.],\n",
       "       [1., 1., 1.]])"
      ]
     },
     "execution_count": 48,
     "metadata": {},
     "output_type": "execute_result"
    }
   ],
   "source": [
    "np.ones([4,3]) # matriz de unos de 4x3"
   ]
  },
  {
   "cell_type": "markdown",
   "id": "1a797cc3",
   "metadata": {},
   "source": [
    "#### Operando con arrays\n",
    "Las operaciones de suma, resta, y producto por escalar funciona igual que para vectores algebraicos"
   ]
  },
  {
   "cell_type": "code",
   "execution_count": 7,
   "id": "77160373",
   "metadata": {},
   "outputs": [],
   "source": [
    "x = np.array([1,2,3])\n",
    "y = np.array([4,5,6])"
   ]
  },
  {
   "cell_type": "code",
   "execution_count": 50,
   "id": "54d0a191",
   "metadata": {},
   "outputs": [
    {
     "data": {
      "text/plain": [
       "array([5, 7, 9])"
      ]
     },
     "execution_count": 50,
     "metadata": {},
     "output_type": "execute_result"
    }
   ],
   "source": [
    "x+y"
   ]
  },
  {
   "cell_type": "code",
   "execution_count": 51,
   "id": "7f7b0c78",
   "metadata": {},
   "outputs": [
    {
     "data": {
      "text/plain": [
       "array([-3, -3, -3])"
      ]
     },
     "execution_count": 51,
     "metadata": {},
     "output_type": "execute_result"
    }
   ],
   "source": [
    "x-y"
   ]
  },
  {
   "cell_type": "code",
   "execution_count": 52,
   "id": "73825744",
   "metadata": {},
   "outputs": [
    {
     "data": {
      "text/plain": [
       "array([2, 4, 6])"
      ]
     },
     "execution_count": 52,
     "metadata": {},
     "output_type": "execute_result"
    }
   ],
   "source": [
    "2*x"
   ]
  },
  {
   "cell_type": "code",
   "execution_count": 53,
   "id": "637b2467",
   "metadata": {},
   "outputs": [
    {
     "data": {
      "text/plain": [
       "array([ 8, 10, 12])"
      ]
     },
     "execution_count": 53,
     "metadata": {},
     "output_type": "execute_result"
    }
   ],
   "source": [
    "2*y"
   ]
  },
  {
   "cell_type": "markdown",
   "id": "e578890d",
   "metadata": {},
   "source": [
    "El producto, la división y la potencia también se realizan elemento a elemento. Veremos mas adelante que existen maneras de calcular el producto interno entre arrays."
   ]
  },
  {
   "cell_type": "code",
   "execution_count": 54,
   "id": "f30d2850",
   "metadata": {},
   "outputs": [
    {
     "data": {
      "text/plain": [
       "array([ 4, 10, 18])"
      ]
     },
     "execution_count": 54,
     "metadata": {},
     "output_type": "execute_result"
    }
   ],
   "source": [
    "x*y"
   ]
  },
  {
   "cell_type": "code",
   "execution_count": 55,
   "id": "69eb51e8",
   "metadata": {},
   "outputs": [
    {
     "data": {
      "text/plain": [
       "array([0.25, 0.4 , 0.5 ])"
      ]
     },
     "execution_count": 55,
     "metadata": {},
     "output_type": "execute_result"
    }
   ],
   "source": [
    "x/y"
   ]
  },
  {
   "cell_type": "code",
   "execution_count": 56,
   "id": "53dc4ca7",
   "metadata": {},
   "outputs": [
    {
     "data": {
      "text/plain": [
       "array([  4,  25, 216])"
      ]
     },
     "execution_count": 56,
     "metadata": {},
     "output_type": "execute_result"
    }
   ],
   "source": [
    "y**x # operador de exponenciacion, \"y elevado a la x\""
   ]
  },
  {
   "cell_type": "markdown",
   "id": "6f887765",
   "metadata": {},
   "source": [
    "#### Funciones de numpy\n",
    "\n",
    "Como dijimos, ademas de introducir el tipo de dato ```ndarray```, la libreria Numpy tiene un conjunto de funciones muy utiles a la hora de desarrollar programas, desde funciones trigonométricas, transformadas, y funciones estadísticas. Veamos algunos ejemplos:"
   ]
  },
  {
   "cell_type": "code",
   "execution_count": 8,
   "id": "0a3f8ebb",
   "metadata": {},
   "outputs": [
    {
     "data": {
      "text/plain": [
       "array([0.84147098, 0.90929743, 0.14112001])"
      ]
     },
     "execution_count": 8,
     "metadata": {},
     "output_type": "execute_result"
    }
   ],
   "source": [
    "np.sin(x) # función senoidal"
   ]
  },
  {
   "cell_type": "code",
   "execution_count": 58,
   "id": "1384ba07",
   "metadata": {},
   "outputs": [
    {
     "data": {
      "text/plain": [
       "array([ 0.54030231, -0.41614684, -0.9899925 ])"
      ]
     },
     "execution_count": 58,
     "metadata": {},
     "output_type": "execute_result"
    }
   ],
   "source": [
    "np.cos(x)"
   ]
  },
  {
   "cell_type": "code",
   "execution_count": 59,
   "id": "5c7d42d2",
   "metadata": {},
   "outputs": [
    {
     "data": {
      "text/plain": [
       "3.141592653589793"
      ]
     },
     "execution_count": 59,
     "metadata": {},
     "output_type": "execute_result"
    }
   ],
   "source": [
    "np.pi # constante pi "
   ]
  },
  {
   "cell_type": "code",
   "execution_count": 60,
   "id": "9e9e6396",
   "metadata": {},
   "outputs": [
    {
     "data": {
      "text/plain": [
       "2.0"
      ]
     },
     "execution_count": 60,
     "metadata": {},
     "output_type": "execute_result"
    }
   ],
   "source": [
    "np.mean(x) # valor medio"
   ]
  },
  {
   "cell_type": "code",
   "execution_count": 61,
   "id": "dda73830",
   "metadata": {},
   "outputs": [
    {
     "data": {
      "text/plain": [
       "0.816496580927726"
      ]
     },
     "execution_count": 61,
     "metadata": {},
     "output_type": "execute_result"
    }
   ],
   "source": [
    "np.std(x) # desvio estándar"
   ]
  },
  {
   "cell_type": "code",
   "execution_count": 62,
   "id": "c4d56055",
   "metadata": {},
   "outputs": [
    {
     "data": {
      "text/plain": [
       "6"
      ]
     },
     "execution_count": 62,
     "metadata": {},
     "output_type": "execute_result"
    }
   ],
   "source": [
    "np.sum(x) # suma de todos los elementos"
   ]
  },
  {
   "cell_type": "markdown",
   "id": "1d86e373",
   "metadata": {},
   "source": [
    "# Gráficos y Matplotlib\n",
    "\n",
    "Existen numerosas bibliotecas en Python para graficar señales. Todas tienen sus pro y sus contras, y de acuerdo a la aplicación en la que estemos trabajando vamos a elegir una por sobre otra. En esta cátedra utilizamos la libreria Matplotlib, particularmente el modulo PyPlot. Esta es una biblióteca que fue creada con la intención de replicar la herramienta de graficos que ofrece MATLAB. \n",
    "Como en toda biblioteca nueva, lo mas recomendable para aprender y empezar a usarla es darle un vistazo a la [documentación oficial](https://matplotlib.org/3.5.1/tutorials/introductory/usage.html), que en este caso es muy amena y clara, con numerosos ejemplos y comentarios que son de mucha utilidad. Es clave darle importancia al uso y manejo de los gráficos, ya que por lo general son las herramientas que más utilizamos para comunicar nuestros resultados o para realizar análisis.\n",
    "\n",
    "Existen dos maneras principales de utilizar Matplotlib para graficar:\n",
    "\n",
    "   - A traves de la [API de pyplot](https://matplotlib.org/3.5.1/tutorials/introductory/pyplot.html)\n",
    "   - A traves de la [API orientada a objetos](https://matplotlib.org/3.5.1/api/index.html)\n",
    "    \n",
    "*(Nota: API --> Interfaz de Programación de Aplicaciones. Cuando hablamos de API nos referimos a la forma de comunicarnos con una determinada herramienta, en este caso la biblioteca Matplotlib)*\n",
    "\n",
    "\n",
    "La API de pyplot es mas sencilla de utilizar, pero en general es menos flexible que la API orientada a objetos, ademas de que la mayoría de los ejemplos de la documentación utilizan esta última, a exepcion de la [documentación de pyplot](https://matplotlib.org/3.5.1/tutorials/introductory/pyplot.html) (que recomiendo fuertemente revisar antes de comenzar a plotear!). En general, todas las acciones y opciones para graficar que vamos a necesitar se pueden conseguir de las dos maneras, pero sus implementaciones no son iguales. \n",
    "**La recomendacion en este punto es empezar por utilizar la API de pyplot para comprender las bases de la biblioteca, y luego pasar de a poco a la utilización de la API orientada a objetos a medida que se van incorporando conceptos.**"
   ]
  },
  {
   "cell_type": "markdown",
   "id": "da0f72f6",
   "metadata": {},
   "source": [
    "## API de pyplot\n",
    "\n",
    "Empecemos con la API de pyplot para ver la forma más sencilla e intuitiva de visualizar datos. Como primer paso, importamos el módulo pyplot de la biblioteca Matplotlib y generamos una serie de datos para graficar utilizando la biblioteca Numpy."
   ]
  },
  {
   "cell_type": "code",
   "execution_count": 63,
   "id": "16987ddd",
   "metadata": {},
   "outputs": [],
   "source": [
    "import numpy as np\n",
    "import matplotlib.pyplot as plt # alias que abrevia el nombre del módulo\n",
    "\n",
    "t = np.linspace(0,1, 16000)\n",
    "\n",
    "seno = np.sin(2*np.pi*3*t)\n",
    "coseno = np.cos(2*np.pi*3*t)"
   ]
  },
  {
   "cell_type": "markdown",
   "id": "7d6a7ebe",
   "metadata": {},
   "source": [
    "La función básica que utilizamos para graficar es **plot()**, que recibe como mínimo un argumento de entrada correspondiente a los valores del eje Y que queremos respresentar. Si bien en jupyter notebook los gráficos se visualizan automaticamente, en cualquier IDE de archivos .py se debe definir explicitamente mediante el comando **plt.show()** al final del código."
   ]
  },
  {
   "cell_type": "code",
   "execution_count": 64,
   "id": "68ed5902",
   "metadata": {},
   "outputs": [
    {
     "data": {
      "image/png": "[encoded data removed]",
      "text/plain": [
       "<Figure size 432x288 with 1 Axes>"
      ]
     },
     "metadata": {
      "needs_background": "light"
     },
     "output_type": "display_data"
    }
   ],
   "source": [
    "plt.plot(seno)\n",
    "plt.show()"
   ]
  },
  {
   "cell_type": "markdown",
   "id": "98546a2a",
   "metadata": {},
   "source": [
    "Si se quiere ubicar esos valores de amplitud en un determinado lugar del eje X, se debe proporcionar otro argumento de entrada correspondiente a los valores de eje X para cada elemento del eje Y. El orden de los argumentos que matplotlib interpreta es (X, Y)."
   ]
  },
  {
   "cell_type": "code",
   "execution_count": 65,
   "id": "5b23be3f",
   "metadata": {},
   "outputs": [
    {
     "data": {
      "image/png": "[encoded data removed]",
      "text/plain": [
       "<Figure size 432x288 with 1 Axes>"
      ]
     },
     "metadata": {
      "needs_background": "light"
     },
     "output_type": "display_data"
    }
   ],
   "source": [
    "plt.plot(t, seno)\n",
    "plt.show()"
   ]
  },
  {
   "cell_type": "markdown",
   "id": "88b0fd41",
   "metadata": {},
   "source": [
    "Se puede ver que los valores del eje X ya no van de 0 a 16000 (que es la cantidad total de elementos de la variable *seno*) sinó que se le asignaron valores entre 0 y 1 mediante la variable *t*.\n",
    "\n",
    "Podemos alterar las características de la curva graficada modificando distintos parámetros de la función **plot()**. La lista completa de parámetros se puede encontrar en la documentación de la función."
   ]
  },
  {
   "cell_type": "code",
   "execution_count": 66,
   "id": "59adbe2d",
   "metadata": {},
   "outputs": [
    {
     "data": {
      "image/png": "[encoded data removed]",
      "text/plain": [
       "<Figure size 432x288 with 1 Axes>"
      ]
     },
     "metadata": {
      "needs_background": "light"
     },
     "output_type": "display_data"
    }
   ],
   "source": [
    "plt.plot(t, seno, color=\"black\", linewidth=2.5, linestyle=\"--\")\n",
    "plt.show()"
   ]
  },
  {
   "cell_type": "markdown",
   "id": "967809ef",
   "metadata": {},
   "source": [
    "*color*, *linewidth* y *linestyle* son solo algunas de las características personalizables. \n",
    "\n",
    "A su vez, podemos modificar la apariencia global del gráfico agregando títulos, nombres de eje, una grilla o cambiando los límites de representación de cada eje. Como son características del gráfico y no de la curva en si, estas modificaciones se llevan a cabo a partir de distintas funciones del módulo **pyplot**."
   ]
  },
  {
   "cell_type": "code",
   "execution_count": 67,
   "id": "b20c58ba",
   "metadata": {},
   "outputs": [
    {
     "data": {
      "image/png": "[encoded data removed]",
      "text/plain": [
       "<Figure size 432x288 with 1 Axes>"
      ]
     },
     "metadata": {
      "needs_background": "light"
     },
     "output_type": "display_data"
    }
   ],
   "source": [
    "plt.plot(t, seno)\n",
    "\n",
    "plt.title(\"Título de gráfico\", fontsize=15)\n",
    "plt.xlabel(\"Título de eje X\")\n",
    "plt.ylabel(\"Título de eje Y\")\n",
    "\n",
    "plt.xlim(-0.5,1.5)\n",
    "plt.ylim(-2,2)\n",
    "plt.grid()\n",
    "\n",
    "plt.show()"
   ]
  },
  {
   "cell_type": "markdown",
   "id": "8a340d0e",
   "metadata": {},
   "source": [
    "Tal como sucede con las características personalizables de las curvas, el gráfico dispone de una amplia variedad parámetros modificables definidos en la documentación de pyplot.\n",
    "\n",
    "Si queremos graficar más de una señal en un mismo gráfico, basta con volver a utilizar la función **plot()** con los argumentos de entrada correspondientes a los vectores X e Y de la nueva señal (siempre antes de la función **show()**, de lo contrario no veremos dicha señal). La función **legend()** agrega un cuadro de leyenda en donde se especifica lo que representa cada curva. Dicho nombre se asigna mediante el parámetro *label* como una característica propia de cada señal."
   ]
  },
  {
   "cell_type": "code",
   "execution_count": 68,
   "id": "c61833c2",
   "metadata": {},
   "outputs": [
    {
     "data": {
      "image/png": "[encoded data removed]",
      "text/plain": [
       "<Figure size 432x288 with 1 Axes>"
      ]
     },
     "metadata": {
      "needs_background": "light"
     },
     "output_type": "display_data"
    }
   ],
   "source": [
    "plt.plot(t, seno, label=\"Señal seno\")\n",
    "plt.plot(t, coseno, label=\"Señal coseno\")\n",
    "\n",
    "plt.title(\"Título de gráfico\", fontsize=15)\n",
    "plt.xlabel(\"Título de eje X\")\n",
    "plt.ylabel(\"Título de eje Y\")\n",
    "plt.legend()\n",
    "\n",
    "plt.ylim(-2,2)\n",
    "plt.grid()\n",
    "\n",
    "plt.show()"
   ]
  },
  {
   "cell_type": "markdown",
   "id": "e5085456",
   "metadata": {},
   "source": [
    "### Subplots\n",
    "\n",
    "Se puede dar el caso en el que querramos generar más de un gráfico en una misma figura o lienzo. Para esto utilizamos la función subplot(), la cual nos permite generar una matriz o grilla de gráficos definibles de forma individual. Los argumentos de entrada de la función **subplot()** son los siguientes:\n",
    "\n",
    "- 1°: Cantidad de filas de la matriz de gráficos.\n",
    "- 2°: Cantidad de columnas de la matriz de gráficos.\n",
    "- 3°: Gráfico que se define a continuación.\n",
    "\n",
    "También podemos asignar propiedades a la figura o lienzo a través de la función **figure()**. Los parámetros más interesantes de controlar son las dimensiones de la figura, pero existen muchos más."
   ]
  },
  {
   "cell_type": "code",
   "execution_count": 69,
   "id": "e8376634",
   "metadata": {},
   "outputs": [
    {
     "data": {
      "image/png": "[encoded data removed]",
      "text/plain": [
       "<Figure size 1080x360 with 2 Axes>"
      ]
     },
     "metadata": {
      "needs_background": "light"
     },
     "output_type": "display_data"
    }
   ],
   "source": [
    "plt.figure(1,figsize=(15,5))\n",
    "\n",
    "plt.subplot(1,2,1)\n",
    "plt.title('Seno')\n",
    "plt.plot(t,seno)\n",
    "plt.xlabel('Tiempo [s]')\n",
    "plt.ylabel('Amplitud')\n",
    "plt.grid()\n",
    "\n",
    "plt.subplot(1,2,2)\n",
    "plt.plot(t,coseno, \"r\")\n",
    "plt.title('Coseno')\n",
    "plt.xlabel('Tiempo [s]')\n",
    "plt.ylabel('Amplitud')\n",
    "plt.grid()"
   ]
  },
  {
   "cell_type": "markdown",
   "id": "0a791352",
   "metadata": {},
   "source": [
    "## API orientada a objetos\n",
    "\n",
    "Esta manera de comunicarnos con matplotlib implica la creación de dos objetos, que de momento diremos que es un elemento con funciones propias. El primer objeto es una figura (*fig*), es decir el lienzo donde plasmamos los gráficos, y el segundo objeto corresponde a los ejes dentro de los que se grafican las distintas señales (*ax*).\n",
    "\n",
    "Utilizando las funciones propias del objeto *ax*, definimos la o las señales a representar y modificamos las características visuales del gráfico.\n",
    "\n",
    "NOTA: Para definir los objetos *fig* y *ax* utilizamos la función **subplots()**, que genera un solo gráfico si no se le brindan argumentos de entrada."
   ]
  },
  {
   "cell_type": "code",
   "execution_count": 70,
   "id": "6967c10c",
   "metadata": {},
   "outputs": [
    {
     "data": {
      "image/png": "[encoded data removed]",
      "text/plain": [
       "<Figure size 432x288 with 1 Axes>"
      ]
     },
     "metadata": {
      "needs_background": "light"
     },
     "output_type": "display_data"
    }
   ],
   "source": [
    "fig, ax = plt.subplots() \n",
    "\n",
    "ax.plot(t, seno)\n",
    "ax.plot(t, coseno)\n",
    "ax.set_title(\"Ejemplo API orientada a objetos\", fontsize=15)\n",
    "ax.set_xlabel(\"Tiempo [s]\", fontsize=13)\n",
    "ax.set_ylabel(\"Amplitud\", fontsize=13)\n",
    "ax.grid()\n",
    "ax.set_xlim(0,1)\n",
    "ax.set_ylim(-2,2)\n",
    "\n",
    "#IMPORTANTE en scripts:\n",
    "plt.show()"
   ]
  },
  {
   "cell_type": "markdown",
   "id": "643f3e25",
   "metadata": {},
   "source": [
    "### Subplots\n",
    "\n",
    "Ahora generemos subplots empleando la API orientada a objetos. En primera instancia generamos una lista con 4 señales distintas, junto con otras dos listas que contienen el nombre y un determinado color de línea para cada señal.\n",
    "\n",
    "En este caso, si definimos argumentos de entrada para la función **subplots()**, que corresponden al numero de filas y al número de columnas de la matriz de gráficos. Si generamos un subplot de *n* elementos, el objeto correspondiente a los ejes tendrá *n* elementos indexables que utilizaremos para definir que se visualiza en cada uno de los gráficos.\n",
    "\n",
    "Veamos el ejemplo:\n",
    "\n"
   ]
  },
  {
   "cell_type": "code",
   "execution_count": 71,
   "id": "3cf9e502",
   "metadata": {},
   "outputs": [
    {
     "data": {
      "image/png": "[encoded data removed]",
      "text/plain": [
       "<Figure size 576x720 with 4 Axes>"
      ]
     },
     "metadata": {
      "needs_background": "light"
     },
     "output_type": "display_data"
    }
   ],
   "source": [
    "funciones = [seno, coseno, seno**3, np.abs(seno)]\n",
    "nombres = [\"Seno\", \"Coseno\", \"Seno al cubo\", \"Valor absouto del seno\"]\n",
    "colores = [\"b\", \"r\", \"black\", \"orange\"]\n",
    "\n",
    "# Ejemplo de simplificacion\n",
    "fig, axs = plt.subplots(len(funciones),1,figsize=(8,10))\n",
    "\n",
    "\n",
    "for i in range(len(funciones)):\n",
    "    axs[i].set_title(nombres[i], fontsize=15)\n",
    "    axs[i].plot(t, funciones[i], colores[i])\n",
    "    axs[i].set_xlabel('Tiempo [s]', fontsize=13)\n",
    "    axs[i].set_ylabel('Amplitud', fontsize=13)\n",
    "    axs[i].grid()\n",
    "\n",
    "fig.tight_layout()"
   ]
  },
  {
   "cell_type": "markdown",
   "id": "2fd62c53",
   "metadata": {},
   "source": [
    "Lo interesante de esta API es que nos permite generar configuraciones de visualización más complejas con menor esfuerzo. En este caso, empleamos un bucle *for* para configurar cada uno de los 4 gráficos iterando sobre el objeto **axs[i]** y utilizando las listas previamente creadas con las señales, sus nombres y sus colores de línea. Obtener este mismo resultado mediante la API de pyplot nos llevaría muchas más líneas de código."
   ]
  }
 ],
 "metadata": {
  "kernelspec": {
   "display_name": "Python 3 (ipykernel)",
   "language": "python",
   "name": "python3"
  },
  "language_info": {
   "codemirror_mode": {
    "name": "ipython",
    "version": 3
   },
   "file_extension": ".py",
   "mimetype": "text/x-python",
   "name": "python",
   "nbconvert_exporter": "python",
   "pygments_lexer": "ipython3",
   "version": "3.9.16"
  }
 },
 "nbformat": 4,
 "nbformat_minor": 5
}
