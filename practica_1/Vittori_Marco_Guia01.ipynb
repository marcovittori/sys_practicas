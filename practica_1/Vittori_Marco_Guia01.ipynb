{
 "cells": [
  {
   "cell_type": "markdown",
   "id": "daily-relations",
   "metadata": {},
   "source": [
    "# Practica 1 - Introducción a Python"
   ]
  },
  {
   "cell_type": "markdown",
   "id": "1f8f6ea2",
   "metadata": {},
   "source": [
    "Esta primera práctica tiene como objetivo principal asegurar que se cuenta con las herramientas necesarias para poder llevar adelante las actividades propuestas por el curso. Esto incluye poder ejecutar la IDE Spyder, utilizando sus diferentes módulos para edición y ejecución de scripts, asi como también el uso de Notebooks, no solo para la ejecución de código en python sino también para incluir celdas que contengan texto con formato (HTML, Markdown, etc), imagenes, y otros elementos útiles a la hora de hacer presentaciones o de exponer material con información de código. \n",
    "\n",
    "Como objetivo secundario, se pretende familiarizar a los lectores con algunos conceptos generales propios de las ciencias de la computación, como las definiciones formales (o no tan informales) de computadora, programa, algoritmo, etc. Si bien este curso esta centrado en temas de Señales y Sistemas para estudiantes de Ingeniería de Sonido, internalizarse con estos conceptos es una pieza fundamental para el entendimiento y explotación de herramientas muy potentes como lo es el lenguaje Python para tareas de procesamiento de señales de audio. \n",
    "\n",
    "\n",
    "Por ello, los recursos principales recomendados para seguir esta práctica son:\n",
    "\n",
    "- [Documentación oficial de Spyder](https://docs.spyder-ide.org/current/index.html)\n",
    "- [Documentación oficial de Jupyter](https://jupyter-notebook.readthedocs.io/en/latest/)\n",
    "- [Python Programming: An Introduction to Computer Science (Capitulo 1: \"Computers and Programs\")](https://drive.google.com/file/d/1IN8tP5Fy81D3CzsNS57QaZKTJqCVdHCU/view?usp=sharing)"
   ]
  },
  {
   "cell_type": "markdown",
   "id": "revised-evidence",
   "metadata": {},
   "source": [
    "★☆☆☆☆ - 1.01) Dependiendo de que sistema operativo posea (Linux, PC o MAC) liste cuales son los comandos por terminal para realizar las siguientes operaciones:\n",
    "\n",
    "    - abrir una terminal nueva\n",
    "    - navegar dentro de una carpeta existente llamada \"mi_carpeta\"\n",
    "    - crear un archivo llamado \"mi_archivo.py\"\n",
    "    - borrar una carpeta llamada \"mi_carpeta\"\n",
    "    - borrar un archivo llamado \"mi_archivo.py\""
   ]
  },
  {
   "cell_type": "markdown",
   "id": "d444f6cc",
   "metadata": {},
   "source": [
    "    - abrir una terminal nueva\n",
    "\n",
    "En Windows hay que ejecutar el programa Anaconda Prompt en el menú de inicio\n",
    "\n",
    "    - navegar dentro de una carpeta existente llamada \"mi_carpeta\"\n",
    "\n",
    "Para navegar a una carpeta específica se usa el comando cd. Para hacer este ejemplo yo creé una carpeta dentro de mi usuario en el disco C. Entonces la dirección quedaría \n",
    "\n",
    "    - crear un archivo llamado \"mi_archivo.py\"\n",
    "    \n",
    "Primero hay que estar dentro de la carpeta deseada. Luego hay que ingresar \"notepad mi_archivo.py\" y se crea un bloc de notas con el dominio .py. Se toca enter y windows pregunta si se desea generar dicho archivo. Seleccionás la opción \"Si\" y luego te abre el nuevo bloc de notas.\n",
    "\n",
    "    - borrar una carpeta llamada \"mi_carpeta\"\n",
    "    \n",
    "Hay que estar en la dirección que contiene a la carpeta. Luego hay que ingresar \"rmdir /S mi_carpeta\", tocar enter y aceptar cuando te pregunta si estás seguro que querés borrar la carpeta.\n",
    "\n",
    "    - borrar un archivo llamado \"mi_archivo.py\"\n",
    "    \n",
    "Estando en la dirección donde está guardado el archivo hay que ingresar \"del mi_archivo.py\""
   ]
  },
  {
   "cell_type": "markdown",
   "id": "f58f3d33",
   "metadata": {},
   "source": [
    "Adjunto una imagen de una terminal en la que voy a una dirección, creo una carpeta, creo un archivo .py, borro el archivo y borro la carpeta\n",
    "\n",
    "<img src=\"Terminal_ej1.png\" alt=\"no me estaría cargando la imagen :p\">"
   ]
  },
  {
   "cell_type": "markdown",
   "id": "e3e28062",
   "metadata": {},
   "source": [
    "★☆☆☆☆ - 1.02) En una celda de notebook, escriba los siguientes elementos:\n",
    "\n",
    "    - Un título a partir de etiquetas HTML, que diga \"Resolución de la práctica N° 1\"\n",
    "    - La identidad de Euler, como fórmula de LaTeX\n",
    "    - Los numeros del 1 al 10, donde los pares estén en negrita y los impares en itálica\n",
    "    - Una tabla de dos entradas para \"base\" y \"altura\" de un triángulo, completando con el area correspondiente. Considerar areas: 10, 15, y 20 cm; y alturas: 9, 12, y 18 cm. "
   ]
  },
  {
   "cell_type": "markdown",
   "id": "2f829cfc",
   "metadata": {},
   "source": [
    "# Resolución de la práctica N°1\n",
    "\n",
    "    - La identidad de Euler, como fórmula de LaTeX\n",
    "$$e^{i\\pi} + 1 = 0$$\n",
    "\n",
    "    - Los numeros del 1 al 10, donde los pares estén en negrita y los impares en itálica\n",
    "<center> <em>1</em> <strong>2</strong> <em>3</em> <strong>4</strong> <em>5</em> <strong>6</strong> <em>7</em> <strong>8</strong> <em>9</em> <strong>10</strong>  </center> \n",
    "\n",
    "    - Una tabla de dos entradas para \"base\" y \"altura\" de un triángulo, completando con el area correspondiente. Considerar areas: 10, 15, y 20 cm; y alturas: 9, 12, y 18 cm.\n",
    "| Base / Height | 9 cm | 12 cm | 18 cm |\n",
    "|---------------|------|-------|-------|\n",
    "| 10 cm         | 45  | 60    | 90    |\n",
    "| 15 cm         | 67.5 | 90    | 135   |\n",
    "| 20 cm         | 90   | 120   | 180   |\n"
   ]
  },
  {
   "cell_type": "markdown",
   "id": "c546ac75",
   "metadata": {},
   "source": [
    "★☆☆☆☆ - 1.03) Defina, con sus palabras, los siguientes términos\n",
    "\n",
    "    - Computadora\n",
    "    - Algoritmo\n",
    "    - Lenguaje de programación"
   ]
  },
  {
   "cell_type": "markdown",
   "id": "ff56e935",
   "metadata": {},
   "source": [
    "Una computadora es una máquina que puede almacenar información y manipularla usando distintos programas. Estos programas tienen que poder cambiar. Por ejemplo, una calculadora puede almacenar información y manipularla, pero no se pueden instalar distintos programas.\n",
    "\n",
    "Algoritmo es una serie de pasos o instrucciones para lograr un objetivo\n",
    "\n",
    "Los lenguajes de programación son necesarios para poder traducir el lenguaje de la máquina a un lenguaje que se pueda escribir por personas de una manera más cercana a la coloquial que con formato binario. Es necesario crear ciertas reglas lógicas para evitar contradicciones o dualidades propias del lenguaje humano para que las instrucciones o comandos sean facilmente entendidos por la computadora "
   ]
  },
  {
   "cell_type": "markdown",
   "id": "a9197dca",
   "metadata": {},
   "source": [
    "★☆☆☆☆ - 1.04) Escribir un algoritmo para determinar la nota final de un estudiante de Señales y Sistemas en base a sus notas de TP1, TP2, y parcialitos de clase"
   ]
  },
  {
   "cell_type": "markdown",
   "id": "f82b2088",
   "metadata": {},
   "source": [
    "1) Promediar la nota de los parcialitos.\n",
    "2) Ver si alguna guía supera el umbral de 10 puntos.\n",
    "3) Restar un punto del promedio de parcialitos por cada guía que supera el umbral.\n",
    "4) Sumar la nota del TP1, TP2 y el promedio de parcialitos y dividir todo por tres."
   ]
  },
  {
   "cell_type": "markdown",
   "id": "97e46e80",
   "metadata": {},
   "source": [
    "★☆☆☆☆ - 1.05) Escribir un algoritmo para determinar si un numero es par o impar"
   ]
  },
  {
   "cell_type": "markdown",
   "id": "e4ae0a00",
   "metadata": {},
   "source": [
    "1) Definir un número de entero n.\n",
    "2) Si n/2 es otro número entero, entonces n es par\n",
    "3) Si el n/2 no es un número entero, entonces n es impar"
   ]
  },
  {
   "cell_type": "markdown",
   "id": "70317a00",
   "metadata": {},
   "source": [
    "★★☆☆☆ - 1.06) Escribir un algoritmo para determinar si un numero es primo o no"
   ]
  },
  {
   "cell_type": "markdown",
   "id": "6cbd7ef2",
   "metadata": {},
   "source": [
    "1. Definir el número de entrada n.\n",
    "2. Si n es menor que 2, no es primo.\n",
    "3. Si n es igual a 2 o 3, es primo.\n",
    "4. Si n es par, no es primo.\n",
    "5. Para cada número impar i desde 3 hasta la raíz cuadrada de n, hacer lo siguiente:\n",
    "    a. Si n es divisible por i, no es primo.\n",
    "6. Si no se ha determinado que n es compuesto en el paso 5, es primo."
   ]
  },
  {
   "cell_type": "markdown",
   "id": "53106eb2",
   "metadata": {},
   "source": [
    "★☆☆☆☆ - 1.07) Abra la IDE Spyder que instaló. Alli mismo:\n",
    "1. Cree un archivo nuevo llamado \"hola_mundo.py\"\n",
    "2. Escriba el codigo necesario para imprimir \"Hola Mundo!\" por pantalla\n",
    "3. Guarde los cambios que realizo en el archivo \n",
    "4. Ejecute el archivo desde Spyder (F5 o boton run)\n",
    "5. Tome una captura de pantalla del estado de la IDE luego de ejecutar el código\n",
    "6. Incluya esa captura de pantalla en este notebook. Nota: revisar que formatos de imágenes son aceptados por los Jupyter Notebooks. "
   ]
  },
  {
   "cell_type": "markdown",
   "id": "d90e9d04",
   "metadata": {},
   "source": [
    "<img src=\"hola_mundo.png\" alt=\"no me estaría cargando la imagen :p\">"
   ]
  }
 ],
 "metadata": {
  "kernelspec": {
   "display_name": "Python 3 (ipykernel)",
   "language": "python",
   "name": "python3"
  },
  "language_info": {
   "codemirror_mode": {
    "name": "ipython",
    "version": 3
   },
   "file_extension": ".py",
   "mimetype": "text/x-python",
   "name": "python",
   "nbconvert_exporter": "python",
   "pygments_lexer": "ipython3",
   "version": "3.9.16"
  }
 },
 "nbformat": 4,
 "nbformat_minor": 5
}
