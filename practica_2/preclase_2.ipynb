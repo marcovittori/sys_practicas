{
 "cells": [
  {
   "cell_type": "markdown",
   "id": "0b1f45ac",
   "metadata": {},
   "source": [
    "# Material pre clase 2 - Datos y variables\n",
    "\n",
    "El objetivo de esta clase es ver la sintaxis básica del lenguaje Python aplicado a la creación y manejo de variables. Los temas específicos que vamos a desarrollar son\n",
    "\n",
    "- Tipos de datos básicos en Python\n",
    "- Variables. Definición y uso.\n",
    "- Operadores\n"
   ]
  },
  {
   "cell_type": "markdown",
   "id": "10f0a95b",
   "metadata": {},
   "source": [
    "## Tipos de Datos\n",
    "\n",
    "Los programas trabajan manipulando información. Esta información es a lo que nos referimos cuando hablamos de *datos*. De acuerdo al *tipo de dato* que queramos representar, un lenguaje nos ofrece maneras de hacerlo."
   ]
  },
  {
   "cell_type": "markdown",
   "id": "31627440",
   "metadata": {},
   "source": [
    "### int\n",
    "Este tipo de dato lo usamos para representar números enteros. Por ahora, el único límite de representación que tenemos está definido por la memoria disponible en nuestra computadora. Esto es una simplificación, luego veremos que existen distintos tipos de \"enteros\" de acuerdo al rango de números que buscamos representar.\n",
    "\n",
    "Ejemplos datos tipo **int** pueden ser:"
   ]
  },
  {
   "cell_type": "code",
   "execution_count": 29,
   "id": "18dc8967",
   "metadata": {},
   "outputs": [
    {
     "data": {
      "text/plain": [
       "100"
      ]
     },
     "execution_count": 29,
     "metadata": {},
     "output_type": "execute_result"
    }
   ],
   "source": [
    "100"
   ]
  },
  {
   "cell_type": "code",
   "execution_count": 30,
   "id": "6804bd3d",
   "metadata": {},
   "outputs": [
    {
     "data": {
      "text/plain": [
       "-2"
      ]
     },
     "execution_count": 30,
     "metadata": {},
     "output_type": "execute_result"
    }
   ],
   "source": [
    "-2"
   ]
  },
  {
   "cell_type": "markdown",
   "id": "03ee5cec",
   "metadata": {},
   "source": [
    "### float\n",
    "El nombre hace referencia a la representación de [punto flotante](https://en.wikipedia.org/wiki/Floating-point_arithmetic) mediante la cual podemos representar números decimales a partir de una cantidad fija de bits. Por ahora, nos basta con entender que este tipo de dato lo usamos para representar números reales (con decimales). Se cumple lo mismo que antes con el límite de representación.\n",
    "\n",
    "Ejemplos de datos tipo **float** pueden ser:"
   ]
  },
  {
   "cell_type": "code",
   "execution_count": 9,
   "id": "f12f9433",
   "metadata": {},
   "outputs": [
    {
     "data": {
      "text/plain": [
       "1.5"
      ]
     },
     "execution_count": 9,
     "metadata": {},
     "output_type": "execute_result"
    }
   ],
   "source": [
    "1.5"
   ]
  },
  {
   "cell_type": "code",
   "execution_count": 10,
   "id": "45ddd039",
   "metadata": {},
   "outputs": [
    {
     "data": {
      "text/plain": [
       "-45.32"
      ]
     },
     "execution_count": 10,
     "metadata": {},
     "output_type": "execute_result"
    }
   ],
   "source": [
    "-45.32"
   ]
  },
  {
   "cell_type": "code",
   "execution_count": 11,
   "id": "f3282783",
   "metadata": {},
   "outputs": [
    {
     "data": {
      "text/plain": [
       "1.0"
      ]
     },
     "execution_count": 11,
     "metadata": {},
     "output_type": "execute_result"
    }
   ],
   "source": [
    "1.0"
   ]
  },
  {
   "cell_type": "markdown",
   "id": "8362e3e7",
   "metadata": {},
   "source": [
    "### str\n",
    "Viene de *string* que es \"cadena\" en inglés. Este tipo de dato lo usamos para representar texto, o más específicamente, cadena de caracteres. Para definirlo, podemos usar tanto las comillas simples ('Mi cadena') como las comillas dobles (\"Mi cadena\"). Sin embargo, es una **buena práctica de programación** ser consistentes con el uso de estos marcadores. Es decir, para la misma situación o contexto, decidir usar siempre comillas simples o siempre comillas dobles. En algunas ocasiones, será necesario utilizar ambas, donde habrá que tener mucho cuidado en el orden en que se utilicen. \n",
    "\n",
    "Ejemplos de datos tipo **str** pueden ser:"
   ]
  },
  {
   "cell_type": "code",
   "execution_count": 31,
   "id": "b89b5d48",
   "metadata": {},
   "outputs": [
    {
     "data": {
      "text/plain": [
       "'Mi cadena'"
      ]
     },
     "execution_count": 31,
     "metadata": {},
     "output_type": "execute_result"
    }
   ],
   "source": [
    "\"Mi cadena\""
   ]
  },
  {
   "cell_type": "code",
   "execution_count": 32,
   "id": "7ff68444",
   "metadata": {},
   "outputs": [
    {
     "data": {
      "text/plain": [
       "'Mi cadena!!'"
      ]
     },
     "execution_count": 32,
     "metadata": {},
     "output_type": "execute_result"
    }
   ],
   "source": [
    "'Mi cadena!!'"
   ]
  },
  {
   "cell_type": "code",
   "execution_count": 33,
   "id": "e0680050",
   "metadata": {},
   "outputs": [
    {
     "data": {
      "text/plain": [
       "'19.3'"
      ]
     },
     "execution_count": 33,
     "metadata": {},
     "output_type": "execute_result"
    }
   ],
   "source": [
    "\"19.3\""
   ]
  },
  {
   "cell_type": "code",
   "execution_count": 34,
   "id": "f0e25fe7",
   "metadata": {},
   "outputs": [
    {
     "data": {
      "text/plain": [
       "'1'"
      ]
     },
     "execution_count": 34,
     "metadata": {},
     "output_type": "execute_result"
    }
   ],
   "source": [
    "'1'"
   ]
  },
  {
   "cell_type": "code",
   "execution_count": 35,
   "id": "6bf51139",
   "metadata": {},
   "outputs": [
    {
     "data": {
      "text/plain": [
       "'9/12/18'"
      ]
     },
     "execution_count": 35,
     "metadata": {},
     "output_type": "execute_result"
    }
   ],
   "source": [
    "'9/12/18'"
   ]
  },
  {
   "cell_type": "code",
   "execution_count": 36,
   "id": "c2fabef5",
   "metadata": {},
   "outputs": [
    {
     "data": {
      "text/plain": [
       "'23:59 hs'"
      ]
     },
     "execution_count": 36,
     "metadata": {},
     "output_type": "execute_result"
    }
   ],
   "source": [
    "'23:59 hs'"
   ]
  },
  {
   "cell_type": "markdown",
   "id": "f01ff016",
   "metadata": {},
   "source": [
    "### bool\n",
    "Este es un tipo de dato que proviene del **álgebra booleana** y solo puede representar dos estados lógicos, usualmente denotados como \"Verdadero\" y \"Falso\", los cuales se pueden interpretar también como \"Encendido\" y \"Apagado\" o directamente 1 y 0. \n",
    "\n",
    "En este caso solo tenemos dos valores posibles:"
   ]
  },
  {
   "cell_type": "code",
   "execution_count": 37,
   "id": "363dabf7",
   "metadata": {},
   "outputs": [
    {
     "data": {
      "text/plain": [
       "True"
      ]
     },
     "execution_count": 37,
     "metadata": {},
     "output_type": "execute_result"
    }
   ],
   "source": [
    "True"
   ]
  },
  {
   "cell_type": "code",
   "execution_count": 38,
   "id": "ebcc65d6",
   "metadata": {},
   "outputs": [
    {
     "data": {
      "text/plain": [
       "False"
      ]
     },
     "execution_count": 38,
     "metadata": {},
     "output_type": "execute_result"
    }
   ],
   "source": [
    "False"
   ]
  },
  {
   "cell_type": "markdown",
   "id": "f97cad72",
   "metadata": {},
   "source": [
    "*NOTA: para que el intérprete de Python interprete estas palabras como tipos de datos booleanos tiene que comenzar con mayúscula y continuar con minúsculas. Observemos que ocurre si no cumplimos con esto"
   ]
  },
  {
   "cell_type": "code",
   "execution_count": 39,
   "id": "519a7ed1",
   "metadata": {},
   "outputs": [
    {
     "ename": "NameError",
     "evalue": "name 'true' is not defined",
     "output_type": "error",
     "traceback": [
      "\u001b[0;31m---------------------------------------------------------------------------\u001b[0m",
      "\u001b[0;31mNameError\u001b[0m                                 Traceback (most recent call last)",
      "\u001b[0;32m<ipython-input-39-724ba28f4a9a>\u001b[0m in \u001b[0;36m<module>\u001b[0;34m\u001b[0m\n\u001b[0;32m----> 1\u001b[0;31m \u001b[0mtrue\u001b[0m\u001b[0;34m\u001b[0m\u001b[0;34m\u001b[0m\u001b[0m\n\u001b[0m",
      "\u001b[0;31mNameError\u001b[0m: name 'true' is not defined"
     ]
    }
   ],
   "source": [
    "true"
   ]
  },
  {
   "cell_type": "code",
   "execution_count": 40,
   "id": "7f67b867",
   "metadata": {},
   "outputs": [
    {
     "ename": "NameError",
     "evalue": "name 'false' is not defined",
     "output_type": "error",
     "traceback": [
      "\u001b[0;31m---------------------------------------------------------------------------\u001b[0m",
      "\u001b[0;31mNameError\u001b[0m                                 Traceback (most recent call last)",
      "\u001b[0;32m<ipython-input-40-b73d74fcede9>\u001b[0m in \u001b[0;36m<module>\u001b[0;34m\u001b[0m\n\u001b[0;32m----> 1\u001b[0;31m \u001b[0mfalse\u001b[0m\u001b[0;34m\u001b[0m\u001b[0;34m\u001b[0m\u001b[0m\n\u001b[0m",
      "\u001b[0;31mNameError\u001b[0m: name 'false' is not defined"
     ]
    }
   ],
   "source": [
    "false"
   ]
  },
  {
   "cell_type": "code",
   "execution_count": 41,
   "id": "74ff2e8a",
   "metadata": {},
   "outputs": [
    {
     "ename": "NameError",
     "evalue": "name 'TRUE' is not defined",
     "output_type": "error",
     "traceback": [
      "\u001b[0;31m---------------------------------------------------------------------------\u001b[0m",
      "\u001b[0;31mNameError\u001b[0m                                 Traceback (most recent call last)",
      "\u001b[0;32m<ipython-input-41-425fdcbd1209>\u001b[0m in \u001b[0;36m<module>\u001b[0;34m\u001b[0m\n\u001b[0;32m----> 1\u001b[0;31m \u001b[0mTRUE\u001b[0m\u001b[0;34m\u001b[0m\u001b[0;34m\u001b[0m\u001b[0m\n\u001b[0m",
      "\u001b[0;31mNameError\u001b[0m: name 'TRUE' is not defined"
     ]
    }
   ],
   "source": [
    "TRUE"
   ]
  },
  {
   "cell_type": "code",
   "execution_count": 42,
   "id": "0eca9783",
   "metadata": {},
   "outputs": [
    {
     "ename": "NameError",
     "evalue": "name 'FALSE' is not defined",
     "output_type": "error",
     "traceback": [
      "\u001b[0;31m---------------------------------------------------------------------------\u001b[0m",
      "\u001b[0;31mNameError\u001b[0m                                 Traceback (most recent call last)",
      "\u001b[0;32m<ipython-input-42-d5612866378f>\u001b[0m in \u001b[0;36m<module>\u001b[0;34m\u001b[0m\n\u001b[0;32m----> 1\u001b[0;31m \u001b[0mFALSE\u001b[0m\u001b[0;34m\u001b[0m\u001b[0;34m\u001b[0m\u001b[0m\n\u001b[0m",
      "\u001b[0;31mNameError\u001b[0m: name 'FALSE' is not defined"
     ]
    }
   ],
   "source": [
    "FALSE"
   ]
  },
  {
   "cell_type": "markdown",
   "id": "404f27bc",
   "metadata": {},
   "source": [
    "Tenemos un error, nos dice que esos nombres no están definidos. Más adelante vamos a entender mejor a que nos referimos con \"estar definido\". Por ahora, lo importante es entender que si no respetamos el formato, el intérprete no es capaz de reconocer esas palabras como datos booleanos."
   ]
  },
  {
   "cell_type": "markdown",
   "id": "5b14ab2d",
   "metadata": {},
   "source": [
    "### NoneType\n",
    "\n",
    "Este tipo de dato nos indica que tenemos un valor nulo o vacío. Tenemos un solo valor posible:"
   ]
  },
  {
   "cell_type": "code",
   "execution_count": 43,
   "id": "8d74fe49",
   "metadata": {},
   "outputs": [],
   "source": [
    "None"
   ]
  },
  {
   "cell_type": "markdown",
   "id": "0741e73c",
   "metadata": {},
   "source": [
    "Nótese que anteriormente, cuando ejecutábamos la celda de código con un tipo de dato, teníamos como respuesta del intérprete el valor de esa variable impreso en pantalla, similar a cuando usábamos la sentencia print. Ya vimos que para imprimir una cadena puedo usar print como en:"
   ]
  },
  {
   "cell_type": "code",
   "execution_count": 27,
   "id": "5ac052fc",
   "metadata": {},
   "outputs": [
    {
     "name": "stdout",
     "output_type": "stream",
     "text": [
      "Hola, mundo!\n"
     ]
    }
   ],
   "source": [
    "print(\"Hola, mundo!\")"
   ]
  },
  {
   "cell_type": "markdown",
   "id": "23114ce9",
   "metadata": {},
   "source": [
    "Vemos que lo que ocurre por defecto en Jupyter es similar a hacerle un print a la variable que dejamos en la celda cuando la ejecutamos. La salida anterior se ve muy similar a la salida de la ejecución de:"
   ]
  },
  {
   "cell_type": "code",
   "execution_count": 44,
   "id": "9e24c3ad",
   "metadata": {},
   "outputs": [
    {
     "data": {
      "text/plain": [
       "'Hola, mundo!'"
      ]
     },
     "execution_count": 44,
     "metadata": {},
     "output_type": "execute_result"
    }
   ],
   "source": [
    "\"Hola, mundo!\""
   ]
  },
  {
   "cell_type": "markdown",
   "id": "65cc19fc",
   "metadata": {},
   "source": [
    "Ahora, cuando ejecuto una celda con una variable tipo NoneType, no tengo ninguna salida. ¿Qué pasa si hago print(None)?"
   ]
  },
  {
   "cell_type": "code",
   "execution_count": 45,
   "id": "c7d210f3",
   "metadata": {},
   "outputs": [
    {
     "name": "stdout",
     "output_type": "stream",
     "text": [
      "None\n"
     ]
    }
   ],
   "source": [
    "print(None)"
   ]
  },
  {
   "cell_type": "markdown",
   "id": "bc42d52b",
   "metadata": {},
   "source": [
    "Como vemos, ejecutar la celda con la variable me muestra el valor de la misma, pero hacer print no realiza exactamente lo mismo. Por ahora, usar print resulta más informativo, por lo que recomendamos utilizarlo cada vez que se quiera imprimir un resultado por pantalla para evitar confusiones."
   ]
  },
  {
   "cell_type": "markdown",
   "id": "71b9108b",
   "metadata": {},
   "source": [
    "## Variables\n",
    "\n",
    "Las variables surgen de la necesidad de **guardar un dato en memoria**, para poder utilizarlo más adelante dentro del programa. \n",
    "\n",
    "Para guardar algo en memoria, primero tenemos que entender como funciona una memoria en términos generales. Podemos pensar a una unidad de memoria como un armario con muchos cajones, donde cada cajón está identificado con un número al cual llamamos *dirección de memoria*. Por ahora, imaginemos que dentro de cada cajón puede almacenar cualquier objeto de cualquier tamaño, ✨ cajones mágicos ✨.\n",
    "\n",
    "Entonces, imaginemos que tengo el siguiente bloque de memoria, vacío.\n",
    "\n",
    "<img src=\"imagenes/cajones_1.png\"  />\n",
    "\n",
    "Ahora, supongamos que tengo un dato, una cadena que dice **Hola!**, la cual voy a querer usar cada vez que quiera que mi programa se inicie. Entonces, quiero guardar este dato en un lugar en mi memoria, es decir, es un cajón que esté vacío, o disponible. \n",
    "\n",
    "<img src=\"imagenes/cajones_2.png\"  />\n",
    "\n",
    "Imaginemos que guardamos este dato en el cajón 3. Mientras nuestra memoria perdure (mientras el armario exista) podemos abrir el cajón 3 y encontrar ahí nuestra cadena con el mensaje. \n",
    "\n",
    "<img src=\"imagenes/cajones_3.png\"  />\n",
    "\n",
    "Teniendo esto, podemos pensar a una **variable** como cada uno de estos cajones que tenemos disponible en el armario que vendría a ser la memoria de nuestro sistema. De esta forma, la variable es capaz de almacenar dentro un **dato**, y podemos acceder a ese dato si sabemos en qué cajón lo guardamos, es decir, en que dirección de memoria lo guardamos. Acá surge un primer problema. Si salimos un poco de la analogía, en la realidad los nombres de los espacios disponibles para variables no son \"cajón 1, cajón 2, etc.\". Usualmente, son números en formato hexadecimal, y tienen esta pinta\n",
    "\n",
    "<img src=\"imagenes/cajones_4.png\"  />\n",
    "\n",
    "Entonces, como recordar estos nombres sería muy tedioso, lo que hacemos es asignarle un **nombre** a cada variable, para poder ubicarla más fácilmente. Usualmente, es una buena práctica de programación elegir un **nombre de variable** que tenga relación con el dato que almacena esa variable. En nuestro ejemplo, un nombre de variable válido podría ser \"mensaje\", ya que esta variable almacena una cadena que se convertirá en un mensaje mostrado al usuario. Entonces, cuando definimos una variable, en nuestra analogía tendríamos lo siguiente\n",
    "\n",
    "<img src=\"imagenes/cajones_5.png\"  />\n",
    "\n",
    "De esta forma, tenemos una **variable** que se llama *mensaje* la cual almacena un *dato* que tiene como valor un *tipo de dato* **str** igual a la cadena \"Hola!\". Cuando quiera tener acceso a este dato, puedo acceder a él yendo al armario y buscando adentro del cajón que se llama \"mensaje\", lo que equivale a decir que puedo acceder al dato yendo a la variable \"mensaje\".\n",
    "\n",
    "Ahora, pasemos de la analogía al código. Hasta ahora vimos como trabajar con datos. Por ejemplo, el dato del ejemplo lo sabemos definir de la siguiente manera"
   ]
  },
  {
   "cell_type": "code",
   "execution_count": 36,
   "id": "b11ffc13",
   "metadata": {},
   "outputs": [
    {
     "data": {
      "text/plain": [
       "'Hola!'"
      ]
     },
     "execution_count": 36,
     "metadata": {},
     "output_type": "execute_result"
    }
   ],
   "source": [
    "\"Hola!\""
   ]
  },
  {
   "cell_type": "markdown",
   "id": "d7dfe358",
   "metadata": {},
   "source": [
    "Ahora, lo que necesito es **asignar** este dato a una variable. Es decir, necesito guardar este dato dentro de un cajón. Para hacer esto usamos el operador =. El mismo nos permite, del lado izquierdo, definir una variable, y del lado derecho asignarle un valor a esa variable, es decir, guardar algo dentro de ese cajón. \n",
    "\n",
    "Las sentencias de asignación se ejecutan en el siguiente orden:\n",
    "    - Primero, se ejecuta lo que se encuentra del lado derecho del signo = \n",
    "    - Luego, el resultado de esa ejecución se almacena en la variable del lado izquierdo.\n",
    "\n",
    "Siguiendo nuestro ejemplo, la asignación en código sería:"
   ]
  },
  {
   "cell_type": "code",
   "execution_count": 46,
   "id": "921eb311",
   "metadata": {},
   "outputs": [],
   "source": [
    "mensaje = \"Hola!\""
   ]
  },
  {
   "cell_type": "markdown",
   "id": "a254a4d7",
   "metadata": {},
   "source": [
    "Con esa sentencia, creamos un cajón llamado **mensaje** y guardamos en él el dato \"Hola!\". En Python, las variables se crean al definirlas por primera vez. De ahora en más, vamos a llamar **variables** a estos \"cajones\". Entonces, podemos ver que una variable tiene algunas características importantes. En un primer lugar tiene un *nombre* el cual podemos usar para acceder al valor que guarda. Luego, como bien dijimos, contiene un dato o valor, el cual tiene asociado un tipo de dato. Cuando hablamos de \"tipo de variable\" en Python, nos referimos a qué tipo de dato se almacena dentro de una variable. En nuestro ejemplo, la variable **mensaje** es de tipo **str**.\n",
    "\n",
    "Entonces, ya sabemos crear variables. Ahora, ¿Cómo uso el nombre de variable para acceder al dato que esta almacena?"
   ]
  },
  {
   "cell_type": "code",
   "execution_count": 47,
   "id": "b818a8b4",
   "metadata": {},
   "outputs": [
    {
     "data": {
      "text/plain": [
       "'Hola!'"
      ]
     },
     "execution_count": 47,
     "metadata": {},
     "output_type": "execute_result"
    }
   ],
   "source": [
    "mensaje"
   ]
  },
  {
   "cell_type": "markdown",
   "id": "45e56ea4",
   "metadata": {},
   "source": [
    "Podemos usar este acceso dentro de otra utilidad, como dentro de un print"
   ]
  },
  {
   "cell_type": "code",
   "execution_count": 48,
   "id": "a24edbe9",
   "metadata": {},
   "outputs": [
    {
     "name": "stdout",
     "output_type": "stream",
     "text": [
      "Hola!\n"
     ]
    }
   ],
   "source": [
    "print(mensaje)"
   ]
  },
  {
   "cell_type": "markdown",
   "id": "bffa219c",
   "metadata": {},
   "source": [
    "Como podemos ver, cada vez que uso el nombre de variable **mensaje** el intérprete de Python, a la hora de ejecutar el código, **reemplaza el nombre de variable por el valor que esta variable almacena**\n",
    "\n",
    "Probemos definir otras variables, por ejemplos, números que correspondan a notas de TP1 y TP2 de un alumno de SYS. "
   ]
  },
  {
   "cell_type": "code",
   "execution_count": 49,
   "id": "fa9b7822",
   "metadata": {},
   "outputs": [],
   "source": [
    "nota_tp1 = 9.2\n",
    "nota_tp2 = 8"
   ]
  },
  {
   "cell_type": "markdown",
   "id": "3f606081",
   "metadata": {},
   "source": [
    "Si quiero ver la nota que se sacó en el TP1"
   ]
  },
  {
   "cell_type": "code",
   "execution_count": 50,
   "id": "ebf3c88a",
   "metadata": {},
   "outputs": [
    {
     "name": "stdout",
     "output_type": "stream",
     "text": [
      "9.2\n"
     ]
    }
   ],
   "source": [
    "print(nota_tp1)"
   ]
  },
  {
   "cell_type": "markdown",
   "id": "3393a2ba",
   "metadata": {},
   "source": [
    "Si quiero ver la nota que se sacó en el TP2 "
   ]
  },
  {
   "cell_type": "code",
   "execution_count": 44,
   "id": "46f869da",
   "metadata": {},
   "outputs": [
    {
     "name": "stdout",
     "output_type": "stream",
     "text": [
      "8\n"
     ]
    }
   ],
   "source": [
    "print(nota_tp2)"
   ]
  },
  {
   "cell_type": "markdown",
   "id": "b2e8f230",
   "metadata": {},
   "source": [
    "Si quiero saber el promedio entre las notas de los TPs"
   ]
  },
  {
   "cell_type": "code",
   "execution_count": 45,
   "id": "8a8a3f49",
   "metadata": {},
   "outputs": [
    {
     "name": "stdout",
     "output_type": "stream",
     "text": [
      "8.6\n"
     ]
    }
   ],
   "source": [
    "print((nota_tp1+nota_tp2)/2)"
   ]
  },
  {
   "cell_type": "markdown",
   "id": "b14d5ba8",
   "metadata": {},
   "source": [
    "¿Qué pasa si más adelante quiero volver a acceder al promedio? En lugar de hacer el cálculo dentro del print, puedo definir una nueva variable que contenga la información del promedio. De esta forma, cuando quiera ver el promedio de las notas, simplemente llamo a esa variable en lugar de tener que hacer la cuenta. Veámoslo en código"
   ]
  },
  {
   "cell_type": "code",
   "execution_count": 46,
   "id": "0cb6ae63",
   "metadata": {},
   "outputs": [
    {
     "name": "stdout",
     "output_type": "stream",
     "text": [
      "8.6\n"
     ]
    }
   ],
   "source": [
    "nota_tp1 = 9.2\n",
    "nota_tp2 = 8\n",
    "promedio = (nota_tp1 + nota_tp2)/2\n",
    "print(promedio)"
   ]
  },
  {
   "cell_type": "markdown",
   "id": "d4cbb9d6",
   "metadata": {},
   "source": [
    "Cuando creo la variable **promedio**, podemos ver como primero se ejecuta el lado izquierdo del signo \"=\", calculándose el promedio de las notas, y luego el resultado de esa operación se guarda en la variable \"promedio\".\n",
    "\n",
    "De esta forma, las variables nos sirven para escribir código entendible. Si elegimos adecuadamente el nombre de las variables, estas pueden ir en cierta forma contando lo que va sucediendo a medida que se avanza en el código.\n",
    "\n",
    "También, nos permite escribir programas generalizables, que puedan re-computar con distintos datos de entrada."
   ]
  },
  {
   "cell_type": "markdown",
   "id": "3f8e70be",
   "metadata": {},
   "source": [
    "### Propiedades de las variables\n",
    "Las propiedades de una variable son: \n",
    "\n",
    "- Nombre: palabra que usamos para acceder a la variable. En el ejemplo anterior, el nombre de la variable es \"promedio\".\n",
    "- Tipo de dato: representación del dato que se guarda dentro del espacio de memoria de la variable.\n",
    "- Valor: datos que se guardan dentro del espacio de memoria de la variable\n",
    "- Ubicación: sección de la memoria ocupada por la variable. Como usamos un nombre de variable para acceder, y como en la asignación (creación) de la variable solo tenemos que indicar el nombre y el dato y asignar, dejando que Python se encargue del resto, por ahora podemos abstraernos y no preocuparnos de esta propiedad. En aplicaciones más complejas, esto nos puede llegar a interesar más.\n",
    "- Alcance: Es la región del programa desde la cual se puede acceder a la variable. Vamos a ver esto más en profundidad cuando trabajemos con funciones. Por ahora, podemos pensarlo como el hecho de que si yo defino una variable en mi computadora, otra persona desde otra computadora no puede ejecutar Python y acceder a esa variable. Es decir, la variable puede ser accedida solo desde mi computadora. Este es un ejemplo exagerado, más adelante vamos a estudiar mejor cuáles son los límites desde donde una variable puede o no ser accedida."
   ]
  },
  {
   "cell_type": "markdown",
   "id": "3e798791",
   "metadata": {},
   "source": [
    "### Nombre de las variables\n",
    "\n",
    "Anteriormente, dijimos que tenemos que elegir el nombre de las variables de manera estratégica, para que nos faciliten el desarrollo del código. Sin embargo, no tenemos completa libertad a la hora de elegir los nombres. En primer lugar, el nombre de una variable debe cumplir los siguientes ítems: \n",
    "\n",
    "- Debe empezar con una letra\n",
    "- No puede tener espacios\n",
    "- No puede tener símbolos especiales\n",
    "- No puede coincidir con ningún [nombre reservado](https://realpython.com/python-keywords/) por Python\n",
    "\n",
    "Podemos pensar a los nombres reservados como variables que ya vienen predefinidas por el intérprete, pues las utiliza para su funcionamiento. Usar estos nombres puede interferir con el correcto funcionamiento del intérprete, por lo cual nos niega la capacidad de definir variables con este nombre. Un ejemplo es la palabra reservada def, o for."
   ]
  },
  {
   "cell_type": "code",
   "execution_count": 51,
   "id": "7fb47718",
   "metadata": {},
   "outputs": [
    {
     "ename": "SyntaxError",
     "evalue": "invalid syntax (<ipython-input-51-d3c086301e2d>, line 1)",
     "output_type": "error",
     "traceback": [
      "\u001b[0;36m  File \u001b[0;32m\"<ipython-input-51-d3c086301e2d>\"\u001b[0;36m, line \u001b[0;32m1\u001b[0m\n\u001b[0;31m    def = \"Hola!\u001b[0m\n\u001b[0m        ^\u001b[0m\n\u001b[0;31mSyntaxError\u001b[0m\u001b[0;31m:\u001b[0m invalid syntax\n"
     ]
    }
   ],
   "source": [
    "def = \"Hola!"
   ]
  },
  {
   "cell_type": "code",
   "execution_count": 52,
   "id": "f9bd6795",
   "metadata": {},
   "outputs": [
    {
     "ename": "SyntaxError",
     "evalue": "invalid syntax (<ipython-input-52-aff2641060a5>, line 1)",
     "output_type": "error",
     "traceback": [
      "\u001b[0;36m  File \u001b[0;32m\"<ipython-input-52-aff2641060a5>\"\u001b[0;36m, line \u001b[0;32m1\u001b[0m\n\u001b[0;31m    for = \"Hola!\"\u001b[0m\n\u001b[0m        ^\u001b[0m\n\u001b[0;31mSyntaxError\u001b[0m\u001b[0;31m:\u001b[0m invalid syntax\n"
     ]
    }
   ],
   "source": [
    "for = \"Hola!\""
   ]
  },
  {
   "cell_type": "markdown",
   "id": "8a7009a2",
   "metadata": {},
   "source": [
    "Como vemos, los editores de texto pensados para trabajar con Python, nos indican que una palabra es una palabra reservada, resaltándola con algún color especial o poniéndolo en negrita. "
   ]
  },
  {
   "cell_type": "markdown",
   "id": "a460f5b9",
   "metadata": {},
   "source": [
    "## Expresiones y Operadores\n",
    "\n",
    "Una expresión es una porción de código que produce o calcula un valor, es decir, que genera un resultado. Un valor es una expresión (de hecho es la expresión más sencilla). \n",
    "\n",
    "Por ejemplo:"
   ]
  },
  {
   "cell_type": "code",
   "execution_count": 53,
   "id": "34294db2",
   "metadata": {},
   "outputs": [
    {
     "data": {
      "text/plain": [
       "5"
      ]
     },
     "execution_count": 53,
     "metadata": {},
     "output_type": "execute_result"
    }
   ],
   "source": [
    "5"
   ]
  },
  {
   "cell_type": "markdown",
   "id": "e7d44051",
   "metadata": {},
   "source": [
    "... es una expresión que genera el resultado 5. "
   ]
  },
  {
   "cell_type": "code",
   "execution_count": 57,
   "id": "3ceecafb",
   "metadata": {},
   "outputs": [
    {
     "data": {
      "text/plain": [
       "6.0"
      ]
     },
     "execution_count": 57,
     "metadata": {},
     "output_type": "execute_result"
    }
   ],
   "source": [
    "5+5/5"
   ]
  },
  {
   "cell_type": "markdown",
   "id": "38e8adef",
   "metadata": {},
   "source": [
    "... es una expresión que genera el resultado 6, y así."
   ]
  },
  {
   "cell_type": "markdown",
   "id": "33cdb358",
   "metadata": {},
   "source": [
    "Luego, los operadores son símbolos reservados por el sistema que se utilizan para llevar a cabo operaciones sobre uno, dos, o más elementos. Estuvimos usando ya varios operadores aritméticos para hacer ejemplos. Estos son intuitivos, pues se desprenden de la matemática analítica. Sin embargo, existen muchos otros operadores para realizar acciones más particulares de la programación. \n",
    "- Comparación\n",
    "|   Operation  |          Meaning         |\n",
    "|:------------:|:------------------------:|\n",
    "| <            | strictly less than       |\n",
    "| <=           | less than or equal       |\n",
    "| >            | strictly greater than    |\n",
    "| >=           | greater than or equal    |\n",
    "| ==           | equal                    |\n",
    "| !=           | not equal                |\n",
    "| in           | in iterable          |\n",
    "\n",
    "Estos sirven para comparar dos expresiones, y nos dan como resultado un booleano, (True o False)\n",
    "El operador int, lo veremos en breve."
   ]
  },
  {
   "cell_type": "code",
   "execution_count": 54,
   "id": "16db502e",
   "metadata": {},
   "outputs": [
    {
     "data": {
      "text/plain": [
       "False"
      ]
     },
     "execution_count": 54,
     "metadata": {},
     "output_type": "execute_result"
    }
   ],
   "source": [
    "1>1"
   ]
  },
  {
   "cell_type": "code",
   "execution_count": 55,
   "id": "e592fefd",
   "metadata": {},
   "outputs": [
    {
     "data": {
      "text/plain": [
       "True"
      ]
     },
     "execution_count": 55,
     "metadata": {},
     "output_type": "execute_result"
    }
   ],
   "source": [
    "1 >= 1"
   ]
  },
  {
   "cell_type": "code",
   "execution_count": 56,
   "id": "8ea8124f",
   "metadata": {},
   "outputs": [
    {
     "data": {
      "text/plain": [
       "True"
      ]
     },
     "execution_count": 56,
     "metadata": {},
     "output_type": "execute_result"
    }
   ],
   "source": [
    "1.0 == 1"
   ]
  },
  {
   "cell_type": "code",
   "execution_count": 57,
   "id": "2b78313d",
   "metadata": {},
   "outputs": [
    {
     "data": {
      "text/plain": [
       "True"
      ]
     },
     "execution_count": 57,
     "metadata": {},
     "output_type": "execute_result"
    }
   ],
   "source": [
    "23 != 22"
   ]
  },
  {
   "cell_type": "code",
   "execution_count": 58,
   "id": "04021f5b",
   "metadata": {},
   "outputs": [
    {
     "data": {
      "text/plain": [
       "False"
      ]
     },
     "execution_count": 58,
     "metadata": {},
     "output_type": "execute_result"
    }
   ],
   "source": [
    "True == False"
   ]
  },
  {
   "cell_type": "markdown",
   "id": "cd469203",
   "metadata": {},
   "source": [
    "Vemos que hay algunos comportamientos particulares, como el hecho de que True evalúa como verdadero para la igualdad con 1, y lo mismo ocurre entre False y 0."
   ]
  },
  {
   "cell_type": "code",
   "execution_count": 69,
   "id": "3be1d061",
   "metadata": {},
   "outputs": [
    {
     "data": {
      "text/plain": [
       "True"
      ]
     },
     "execution_count": 69,
     "metadata": {},
     "output_type": "execute_result"
    }
   ],
   "source": [
    "1 == True"
   ]
  },
  {
   "cell_type": "code",
   "execution_count": 70,
   "id": "2de1fdae",
   "metadata": {},
   "outputs": [
    {
     "data": {
      "text/plain": [
       "True"
      ]
     },
     "execution_count": 70,
     "metadata": {},
     "output_type": "execute_result"
    }
   ],
   "source": [
    "0 == False"
   ]
  },
  {
   "cell_type": "markdown",
   "id": "b1bba6ee",
   "metadata": {},
   "source": [
    "- Lógica\n",
    "\n",
    "| Operation |                Result                |\n",
    "|:---------:|:------------------------------------:|\n",
    "|   x or y  |     if x is false, then y, else x    |\n",
    "|  x and y  |     if x is false, then x, else y    |\n",
    "|   not x   | if x is false, then True, else False |\n",
    "\n",
    "Estas operaciones devienen del álgebra booleana, y son útiles para generar condiciones complejas a partir de varias condiciones simples. "
   ]
  },
  {
   "cell_type": "code",
   "execution_count": 59,
   "id": "12788b54",
   "metadata": {},
   "outputs": [
    {
     "data": {
      "text/plain": [
       "False"
      ]
     },
     "execution_count": 59,
     "metadata": {},
     "output_type": "execute_result"
    }
   ],
   "source": [
    "(2 > 2) and (2 >= 2)"
   ]
  },
  {
   "cell_type": "code",
   "execution_count": 60,
   "id": "6cd6438e",
   "metadata": {},
   "outputs": [
    {
     "data": {
      "text/plain": [
       "True"
      ]
     },
     "execution_count": 60,
     "metadata": {},
     "output_type": "execute_result"
    }
   ],
   "source": [
    "(2 > 2) or (2 >= 2)"
   ]
  },
  {
   "cell_type": "code",
   "execution_count": 61,
   "id": "4adf54df",
   "metadata": {},
   "outputs": [
    {
     "data": {
      "text/plain": [
       "True"
      ]
     },
     "execution_count": 61,
     "metadata": {},
     "output_type": "execute_result"
    }
   ],
   "source": [
    "(not (2 > 2)) and (2 >= 2)"
   ]
  },
  {
   "cell_type": "markdown",
   "id": "3531f5b7",
   "metadata": {},
   "source": [
    "- Numéricas\n",
    "\n",
    "|    Operation    |                                    Result                                   |\n",
    "|:---------------:|:---------------------------------------------------------------------------:|\n",
    "|      x + y      |                                sum of x and y                               |\n",
    "|      x - y      |                            difference of x and y                            |\n",
    "|      x * y      |                              product of x and y                             |\n",
    "|      x / y      |                             quotient of x and y                             |\n",
    "|      x // y     |                         floored quotient of x and y                         |\n",
    "|      x % y      |                              remainder of x / y                             |\n",
    "|        -x       |                                  x negated                                  |\n",
    "|        +x       |                                 x unchanged                                 |\n",
    "|      abs(x)     |                       absolute value or magnitude of x                      |\n",
    "|      int(x)     |                            x converted to integer                           |\n",
    "|     float(x)    |                        x converted to floating point                        |\n",
    "| complex(re, im) | a complex number with real part re, imaginary part im. im defaults to zero. |\n",
    "|  c.conjugate()  |                      conjugate of the complex number c                      |\n",
    "|   divmod(x, y)  |                           the pair (x // y, x % y)                          |\n",
    "|    pow(x, y)    |                               x to the power y                              |\n",
    "|      x ** y     |                               x to the power y                              |"
   ]
  },
  {
   "cell_type": "markdown",
   "id": "1c1e00d0",
   "metadata": {},
   "source": [
    "## Estructura de datos\n",
    "\n",
    "Por el momento, solo podemos almacenar datos individualmente. Un número, una cadena, un booleano. En muchas ocasiones nos sería útil poder organizar estos datos en estructuras, haciendo que los datos se relacionen de alguna u otra manera. Para esto, inicialmente tenemos 3 estructuras: las listas, las túplas y los diccionarios.\n",
    "\n",
    "\n",
    "### Listas (list)\n",
    "\n",
    "- Nos permiten almacenar una lista de datos **ordenados**.\n",
    "- Se puede guardar **cualquier tipo de dato** dentro de una lista. Incluso se puede guardar una lista dentro de otra lista.\n",
    "- La sintaxis consiste en ordenar los datos dentro de corchetes \"[]\", separando los datos con comas. \n",
    "- Cada dato dentro una lista recibe el nombre de *elemento*.\n",
    "- Los elementos de una lista están asociados a un índice, que indican el lugar del elemento dentro de la lista. Estos deben ser siempre números enteros. \n",
    "- Se pueden usar los índices para acceder a los elementos de una lista.\n",
    "- Son estructuras *mutables*, es decir, podemos cambiar el  valor de sus elementos.\n",
    "\n",
    "Definamos una lista que contenga cadenas indicando dias de la semana"
   ]
  },
  {
   "cell_type": "code",
   "execution_count": 67,
   "id": "d6c85a91",
   "metadata": {},
   "outputs": [
    {
     "data": {
      "text/plain": [
       "['Lunes', 'Martes', 'Miercoles', 'Jueves', 'Viernes']"
      ]
     },
     "execution_count": 67,
     "metadata": {},
     "output_type": "execute_result"
    }
   ],
   "source": [
    "[\"Lunes\", \"Martes\", \"Miercoles\", \"Jueves\", \"Viernes\"]"
   ]
  },
  {
   "cell_type": "markdown",
   "id": "d5d89c66",
   "metadata": {},
   "source": [
    "Como haremos de ahora en adelante, guardémoslo dentro de una variable."
   ]
  },
  {
   "cell_type": "code",
   "execution_count": 68,
   "id": "021e41e8",
   "metadata": {},
   "outputs": [],
   "source": [
    "dias = [\"Lunes\", \"Martes\", \"Miercoles\", \"Jueves\", \"Viernes\"]"
   ]
  },
  {
   "cell_type": "markdown",
   "id": "34ff9d93",
   "metadata": {},
   "source": [
    "Entonces, como mencionamos antes, cada elemento tiene un índice asociado. Los índices **siempre** comienzan en 0 y van hasta la cantidad de elementos de la lista menos uno. También, se pueden contar los índices hacia atrás, usando valores negativos. Al principio, esto puede ser confuso. Para aclararlo, veamos el esquema siguiente\n",
    "\n",
    "<img src=\"imagenes/listas_1.png\"  />\n",
    "\n",
    "La sintaxis para acceder a un elemento consiste en tomar la lista y poner inmediatamente después una notación con corchetes dentro de la cual deberemos indicar el índice del elemento al que queremos acceder. Si la variable días contiene una lista, entonces para acceder al primer elemento hago:"
   ]
  },
  {
   "cell_type": "code",
   "execution_count": 69,
   "id": "4a1b5232",
   "metadata": {},
   "outputs": [
    {
     "data": {
      "text/plain": [
       "'Lunes'"
      ]
     },
     "execution_count": 69,
     "metadata": {},
     "output_type": "execute_result"
    }
   ],
   "source": [
    "dias[0]"
   ]
  },
  {
   "cell_type": "markdown",
   "id": "f644f64e",
   "metadata": {},
   "source": [
    "o bien "
   ]
  },
  {
   "cell_type": "code",
   "execution_count": 70,
   "id": "99536ead",
   "metadata": {},
   "outputs": [
    {
     "name": "stdout",
     "output_type": "stream",
     "text": [
      "Lunes\n"
     ]
    }
   ],
   "source": [
    "print(dias[0])"
   ]
  },
  {
   "cell_type": "markdown",
   "id": "741fcf9f",
   "metadata": {},
   "source": [
    "para acceder al último elemento"
   ]
  },
  {
   "cell_type": "code",
   "execution_count": 71,
   "id": "6cb31161",
   "metadata": {},
   "outputs": [
    {
     "data": {
      "text/plain": [
       "'Viernes'"
      ]
     },
     "execution_count": 71,
     "metadata": {},
     "output_type": "execute_result"
    }
   ],
   "source": [
    "dias[4]"
   ]
  },
  {
   "cell_type": "markdown",
   "id": "aeab9fa7",
   "metadata": {},
   "source": [
    "o bien"
   ]
  },
  {
   "cell_type": "code",
   "execution_count": 72,
   "id": "45fec048",
   "metadata": {},
   "outputs": [
    {
     "data": {
      "text/plain": [
       "'Viernes'"
      ]
     },
     "execution_count": 72,
     "metadata": {},
     "output_type": "execute_result"
    }
   ],
   "source": [
    "dias[-1]"
   ]
  },
  {
   "cell_type": "markdown",
   "id": "ec85e224",
   "metadata": {},
   "source": [
    "Esta notación me puede servir además para reemplazar alguno de los elementos de la lista. Por ejemplo"
   ]
  },
  {
   "cell_type": "code",
   "execution_count": 73,
   "id": "85bb82ca",
   "metadata": {},
   "outputs": [],
   "source": [
    "dias[-1] = \"Sabado\""
   ]
  },
  {
   "cell_type": "markdown",
   "id": "5c1cea39",
   "metadata": {},
   "source": [
    "Con esto, coloco la expresión de acceso por índice del lado izquierdo del operador asignación. Recordemos que este se ejecuta de izquierda a derecha. Entonces, primero resuelve el lado derecho, donde tengo como resultado la cadena \"Sabado\". Luego guarda este dato dentro de la variable que está a la izquierda, que en este caso es el último lugar de la lista llamada dias. De esta forma, estoy cambiando el elemento de la lista a partir de indicar el orden del elemento de la lista que quiero cambiar. Esto funciona porque los índices son únicos para cada elemento de la lista, y se asignan automáticamente en orden creciente. Observemos la lista modificada:"
   ]
  },
  {
   "cell_type": "code",
   "execution_count": 74,
   "id": "afb072ed",
   "metadata": {},
   "outputs": [
    {
     "data": {
      "text/plain": [
       "['Lunes', 'Martes', 'Miercoles', 'Jueves', 'Sabado']"
      ]
     },
     "execution_count": 74,
     "metadata": {},
     "output_type": "execute_result"
    }
   ],
   "source": [
    "dias"
   ]
  },
  {
   "cell_type": "markdown",
   "id": "f807b14f",
   "metadata": {},
   "source": [
    "¿Qué pasa si quiero acceder al elemento 6 de una lista que solo tiene 5 elementos (de 0 a 4)?"
   ]
  },
  {
   "cell_type": "code",
   "execution_count": 75,
   "id": "d72b179f",
   "metadata": {},
   "outputs": [
    {
     "ename": "IndexError",
     "evalue": "list index out of range",
     "output_type": "error",
     "traceback": [
      "\u001b[0;31m---------------------------------------------------------------------------\u001b[0m",
      "\u001b[0;31mIndexError\u001b[0m                                Traceback (most recent call last)",
      "\u001b[0;32m<ipython-input-75-593c9855f1a8>\u001b[0m in \u001b[0;36m<module>\u001b[0;34m\u001b[0m\n\u001b[0;32m----> 1\u001b[0;31m \u001b[0mdias\u001b[0m\u001b[0;34m[\u001b[0m\u001b[0;36m6\u001b[0m\u001b[0;34m]\u001b[0m\u001b[0;34m\u001b[0m\u001b[0;34m\u001b[0m\u001b[0m\n\u001b[0m",
      "\u001b[0;31mIndexError\u001b[0m: list index out of range"
     ]
    }
   ],
   "source": [
    "dias[6]"
   ]
  },
  {
   "cell_type": "markdown",
   "id": "53b9b092",
   "metadata": {},
   "source": [
    "Es una buena práctica comenzar a leer los mensajes de error para aprender a identificar problemas en el código. Como vemos, este error genera un mensaje de error bastante claro. Primero, nos dice que tenemos un *IndexError*, lo cual nos indica que el problema está en el indexado que intentamos hacer, y luego nos dice exactamente cuál es el problema, el índice que pedimos acceder está fuera de rango, es decir, es mayor que el índice más grande de la lista (en este ejemplo, los índices van de 0 a 4 como vimos en la imagen).\n",
    "\n",
    "Podemos probar crear listas con varios tipos de datos, y comprobar que estos lineamientos se siguen cumpliendo."
   ]
  },
  {
   "cell_type": "markdown",
   "id": "da126c79",
   "metadata": {},
   "source": [
    "### Tuplas (tuple)\n",
    "\n",
    "Son muy similares a las listas, pero tienen dos diferencias fundamentales\n",
    "\n",
    "- La sintaxis utiliza paréntesis \"()\" en lugar de corchetes. En realidad, podemos omitir los paréntesis, pero esto es una mala práctica de programación, ya que empeora notoriamente la legibilidad del código.\n",
    "- Son estructuras inmutables, es decir, una vez definida no podemos cambiar el valor de sus elementos.\n",
    "\n",
    "Si bien no podemos cambiar sus datos, nada nos impide reasignar la variable a otra tupla con datos distintos. Veamos un ejemplo similar al anterior, pero usando tuplas:"
   ]
  },
  {
   "cell_type": "code",
   "execution_count": 76,
   "id": "40d4bd8b",
   "metadata": {},
   "outputs": [],
   "source": [
    "dias = (\"Lunes\", \"Martes\", \"Miercoles\", \"Jueves\", \"Viernes\")"
   ]
  },
  {
   "cell_type": "markdown",
   "id": "168a548c",
   "metadata": {},
   "source": [
    "Podemos comprobar que se cumplen todos los ítems mencionados, como el acceso por índices"
   ]
  },
  {
   "cell_type": "code",
   "execution_count": 77,
   "id": "20a0e7cb",
   "metadata": {},
   "outputs": [
    {
     "data": {
      "text/plain": [
       "'Martes'"
      ]
     },
     "execution_count": 77,
     "metadata": {},
     "output_type": "execute_result"
    }
   ],
   "source": [
    "dias[1]"
   ]
  },
  {
   "cell_type": "code",
   "execution_count": 78,
   "id": "a59b3432",
   "metadata": {},
   "outputs": [
    {
     "data": {
      "text/plain": [
       "'Viernes'"
      ]
     },
     "execution_count": 78,
     "metadata": {},
     "output_type": "execute_result"
    }
   ],
   "source": [
    "dias[-1]"
   ]
  },
  {
   "cell_type": "markdown",
   "id": "6445a658",
   "metadata": {},
   "source": [
    "Veamos que pasa si, como antes, quiero cambiar el valor de un elemento"
   ]
  },
  {
   "cell_type": "code",
   "execution_count": 79,
   "id": "fbae19d1",
   "metadata": {},
   "outputs": [
    {
     "ename": "TypeError",
     "evalue": "'tuple' object does not support item assignment",
     "output_type": "error",
     "traceback": [
      "\u001b[0;31m---------------------------------------------------------------------------\u001b[0m",
      "\u001b[0;31mTypeError\u001b[0m                                 Traceback (most recent call last)",
      "\u001b[0;32m<ipython-input-79-fabe3c6cc7ed>\u001b[0m in \u001b[0;36m<module>\u001b[0;34m\u001b[0m\n\u001b[0;32m----> 1\u001b[0;31m \u001b[0mdias\u001b[0m\u001b[0;34m[\u001b[0m\u001b[0;34m-\u001b[0m\u001b[0;36m1\u001b[0m\u001b[0;34m]\u001b[0m \u001b[0;34m=\u001b[0m \u001b[0;34m\"Sabado\"\u001b[0m\u001b[0;34m\u001b[0m\u001b[0;34m\u001b[0m\u001b[0m\n\u001b[0m",
      "\u001b[0;31mTypeError\u001b[0m: 'tuple' object does not support item assignment"
     ]
    }
   ],
   "source": [
    "dias[-1] = \"Sabado\""
   ]
  },
  {
   "cell_type": "markdown",
   "id": "1e93b507",
   "metadata": {},
   "source": [
    "Nuevamente, el mensaje de error es bastante claro y conciso. Es una **MUY BUENA** práctica pensar variantes de las sintaxis que generen errores, y generarlos a propósito para ver que pinta tienen los mensajes de error. De este modo, vamos a aprender a asociar ciertos mensajes de errores a ciertas fallas en el desarrollo. Por ahora, esto puede parecer innecesario porque nos encontramos con mensajes de error que son bastante claros e interpretables. Más adelante, veremos que esto no es siempre así.\n",
    "\n",
    "Es válido preguntarse cuando nos conviene usar tuplas por sobre listas. Según la definición, deberíamos usar tuplas cuando tenemos una estructura de datos que sabemos que no debe cambiar, y la queremos mantener sin que se corrompa. En general, en la práctica no vamos a definir tuplas, sino que vamos a trabajar con procesos que nos devuelvan tuplas. Pero esto también es algo que se va a esclarecer con las siguientes clases. \n",
    "\n",
    "Como dijimos, si bien no podemos cambiar el valor de un elemento de la tupla, podemos redefinir la variable sin problemas para generar ese cambio"
   ]
  },
  {
   "cell_type": "code",
   "execution_count": 80,
   "id": "0e11d9ce",
   "metadata": {},
   "outputs": [],
   "source": [
    "dias = (\"Lunes\", \"Martes\", \"Miercoles\", \"Jueves\", \"Sabado\")"
   ]
  },
  {
   "cell_type": "code",
   "execution_count": 81,
   "id": "7d0cab31",
   "metadata": {},
   "outputs": [
    {
     "data": {
      "text/plain": [
       "'Sabado'"
      ]
     },
     "execution_count": 81,
     "metadata": {},
     "output_type": "execute_result"
    }
   ],
   "source": [
    "dias[-1]"
   ]
  },
  {
   "cell_type": "markdown",
   "id": "6ec0cd7e",
   "metadata": {},
   "source": [
    "### Desempaquetado de listas y tuplas\n",
    "\n",
    "Una característica muy útil de estas estructuras es que mediante una sentencia podemos asignar todos sus elementos a diferentes variables, a lo que llamamos **desempaquetar**.\n",
    "\n",
    "Por ejemplo, si tengo la siguiente tupla"
   ]
  },
  {
   "cell_type": "code",
   "execution_count": 82,
   "id": "5bcae4b2",
   "metadata": {},
   "outputs": [
    {
     "data": {
      "text/plain": [
       "('Martes', 1, 9.8)"
      ]
     },
     "execution_count": 82,
     "metadata": {},
     "output_type": "execute_result"
    }
   ],
   "source": [
    "(\"Martes\", 1, 9.8)"
   ]
  },
  {
   "cell_type": "markdown",
   "id": "4cf38cdd",
   "metadata": {},
   "source": [
    "podemos desempaquetar los elementos en tres variables de la siguiente forma"
   ]
  },
  {
   "cell_type": "code",
   "execution_count": 83,
   "id": "22ba3030",
   "metadata": {},
   "outputs": [],
   "source": [
    "dia, numero, promedio = (\"Martes\", 1, 9.8)"
   ]
  },
  {
   "cell_type": "code",
   "execution_count": 84,
   "id": "39010aef",
   "metadata": {},
   "outputs": [
    {
     "data": {
      "text/plain": [
       "'Martes'"
      ]
     },
     "execution_count": 84,
     "metadata": {},
     "output_type": "execute_result"
    }
   ],
   "source": [
    "dia"
   ]
  },
  {
   "cell_type": "code",
   "execution_count": 85,
   "id": "3862b7c8",
   "metadata": {},
   "outputs": [
    {
     "data": {
      "text/plain": [
       "1"
      ]
     },
     "execution_count": 85,
     "metadata": {},
     "output_type": "execute_result"
    }
   ],
   "source": [
    "numero"
   ]
  },
  {
   "cell_type": "code",
   "execution_count": 86,
   "id": "cddf2189",
   "metadata": {},
   "outputs": [
    {
     "data": {
      "text/plain": [
       "9.8"
      ]
     },
     "execution_count": 86,
     "metadata": {},
     "output_type": "execute_result"
    }
   ],
   "source": [
    "promedio"
   ]
  },
  {
   "cell_type": "markdown",
   "id": "e3284fe0",
   "metadata": {},
   "source": [
    "Como es de imaginar, la cantidad de variables del lado izquierdo del signo \"=\" debe ser igual al número de elementos a desempaquetar, de lo contrario tenemos un error. Están invitados a experimentar con ese error para ver como luce."
   ]
  },
  {
   "cell_type": "markdown",
   "id": "8684de58",
   "metadata": {},
   "source": [
    "#### Particularidad de las cadenas\n",
    "\n",
    "Las cadenas comparten las definiciones de índices que vimos para listas y tuplas. Tiene sentido si pensamos que en realidad el tipo de dato es el carácter, y la cadena es una estructura que ordena una secuencia de caracteres. No lo definimos de esa forma en un principio porque el concepto de estructura de datos era algo más lejano. Además, las cadenas también resultan en estructuras inmutables. Veamos un ejemplo: "
   ]
  },
  {
   "cell_type": "code",
   "execution_count": 87,
   "id": "7b08e4d4",
   "metadata": {},
   "outputs": [],
   "source": [
    "mensaje = \"Hola!\""
   ]
  },
  {
   "cell_type": "code",
   "execution_count": 88,
   "id": "f1ca2f47",
   "metadata": {},
   "outputs": [
    {
     "data": {
      "text/plain": [
       "'H'"
      ]
     },
     "execution_count": 88,
     "metadata": {},
     "output_type": "execute_result"
    }
   ],
   "source": [
    "mensaje[0]"
   ]
  },
  {
   "cell_type": "code",
   "execution_count": 89,
   "id": "44618dad",
   "metadata": {},
   "outputs": [
    {
     "data": {
      "text/plain": [
       "'!'"
      ]
     },
     "execution_count": 89,
     "metadata": {},
     "output_type": "execute_result"
    }
   ],
   "source": [
    "mensaje[-1]"
   ]
  },
  {
   "cell_type": "code",
   "execution_count": 90,
   "id": "25848a1c",
   "metadata": {},
   "outputs": [
    {
     "ename": "TypeError",
     "evalue": "'str' object does not support item assignment",
     "output_type": "error",
     "traceback": [
      "\u001b[0;31m---------------------------------------------------------------------------\u001b[0m",
      "\u001b[0;31mTypeError\u001b[0m                                 Traceback (most recent call last)",
      "\u001b[0;32m<ipython-input-90-18905c8715cf>\u001b[0m in \u001b[0;36m<module>\u001b[0;34m\u001b[0m\n\u001b[0;32m----> 1\u001b[0;31m \u001b[0mmensaje\u001b[0m\u001b[0;34m[\u001b[0m\u001b[0;34m-\u001b[0m\u001b[0;36m1\u001b[0m\u001b[0;34m]\u001b[0m \u001b[0;34m=\u001b[0m \u001b[0;34m'?'\u001b[0m\u001b[0;34m\u001b[0m\u001b[0;34m\u001b[0m\u001b[0m\n\u001b[0m",
      "\u001b[0;31mTypeError\u001b[0m: 'str' object does not support item assignment"
     ]
    }
   ],
   "source": [
    "mensaje[-1] = '?'"
   ]
  },
  {
   "cell_type": "markdown",
   "id": "1babd7ee",
   "metadata": {},
   "source": [
    "### Diccionarios\n",
    "\n",
    "Esta estructura rompe un poco con la similitud de las anteriores. Como vimos, para listas y tuplas, tenemos a cada elemento asociado a un índice. Ahora bien, no tenemos control sobre ese índice. Por ejemplo, es siempre un número entero, y siempre comienza desde cero. No podemos cambiar un índice, ni de lugar, ni de tipo de dato. Este es el precio que tenemos que pagar para tener una estructura de datos ordenados. Por contraparte, los diccionarios constituyen una estructura de datos en donde sus elementos no están ordenados. Además, cada elemento no se conforma únicamente de un valor como en las listas y tuplas, sino que ahora se componen de **pares de valores**, en donde dentro de un par, un valor es la *llave* o *key* y el otro es el *valor* o *value*. Aquí, en lugar de tener el sistema de índices para distinguir a los elementos, usamos las llaves para este fin. En resumen, los diccionarios:\n",
    "\n",
    "- Almacenan pares de valores de forma **no ordenada**, con el formato \"llave:valor\" o \"key:value\".\n",
    "- El valor puede ser **cualquier tipo de dato**\n",
    "- Las llaves son únicas, y deben ser de un tipo de dato no mutable. Es decir, listas y diccionarios no pueden ser llaves.\n",
    "- La sintaxis consiste en ordenar los pares de valores dentro de llaves \"{}\", separando los pares de valores con comas, y separando las llaves y valores con dos puntos \":\". Siempre se especifica primero la llave y luego el valor. \n",
    "- Son estructuras *mutables*, es decir, podemos cambiar el valor de sus elementos.\n",
    "\n",
    "Veamos un ejemplo para entender la sintaxis:"
   ]
  },
  {
   "cell_type": "code",
   "execution_count": 22,
   "id": "52f46a9e",
   "metadata": {},
   "outputs": [
    {
     "data": {
      "text/plain": [
       "{'nombre': 'Juan', 'edad': 42, 'peso': 68.5}"
      ]
     },
     "execution_count": 22,
     "metadata": {},
     "output_type": "execute_result"
    }
   ],
   "source": [
    "{\"nombre\" : \"Juan\", \"edad\" : 42, \"peso\" : 68.5}"
   ]
  },
  {
   "cell_type": "markdown",
   "id": "9391ba3c",
   "metadata": {},
   "source": [
    "Repasando, las comas separan los elementos que componen el diccionario. Cada elemento, a su vez, se compone de pares llaves:valor, es decir, las llaves de este diccionario son \"nombre\", \"edad\" y \"peso\", mientras que los valores son \"Juan\", 42, y 68.5, respectivamente. En este ejemplo, todas las llaves son de tipo *str* y entre los valores hay tipos de datos *str*, *int* y *float*\n",
    "\n",
    "Como siempre, lo usual es guardarlo en una variable."
   ]
  },
  {
   "cell_type": "code",
   "execution_count": 21,
   "id": "6f99ebaf",
   "metadata": {},
   "outputs": [],
   "source": [
    "diccionario = {\"nombre\" : \"Juan\", \"edad\" : 42, \"peso\" : 68.5}"
   ]
  },
  {
   "cell_type": "markdown",
   "id": "feaeb505",
   "metadata": {},
   "source": [
    "Para acceder a un valor de un diccionario, se utiliza una sintaxis similar al acceso por índices que vimos para listas, cadenas y tuplas, con la diferencia de que en este caso en lugar de usar índices podemos usar explícitamente el valor de las llaves. Por ejemplo, para acceder al elemento con la llave \"nombre\":"
   ]
  },
  {
   "cell_type": "code",
   "execution_count": 24,
   "id": "8e584cc9",
   "metadata": {},
   "outputs": [
    {
     "data": {
      "text/plain": [
       "'Juan'"
      ]
     },
     "execution_count": 24,
     "metadata": {},
     "output_type": "execute_result"
    }
   ],
   "source": [
    "diccionario[\"nombre\"]"
   ]
  },
  {
   "cell_type": "markdown",
   "id": "f9aea187",
   "metadata": {},
   "source": [
    "o al valor asociado a la llave \"peso\""
   ]
  },
  {
   "cell_type": "code",
   "execution_count": 91,
   "id": "6501bb97",
   "metadata": {},
   "outputs": [
    {
     "data": {
      "text/plain": [
       "68.5"
      ]
     },
     "execution_count": 91,
     "metadata": {},
     "output_type": "execute_result"
    }
   ],
   "source": [
    "diccionario[\"peso\"]"
   ]
  },
  {
   "cell_type": "markdown",
   "id": "cdf7d601",
   "metadata": {},
   "source": [
    "Hay varias formas de definir un diccionario, pero la anterior es en general la más utilizada. Luego, si uno quiere sumar un nuevo elemento a un diccionario que ya definió, no hace falta repetir el proceso de creación de la variable, sino que se puede sumar el elemento simplemente a partir de definir el par llave:valor. Esto se puede conseguir a partir de varias maneras, pero la más intuitiva es usar una sintaxis similar a la que usamos para redefinir el valor de una lista. Por ejemplo, si al diccionario anterior quiero sumarle un elemento que tenga como llave \"DNI\" y como valor 17757760, lo puedo sumar de la siguiente manera:"
   ]
  },
  {
   "cell_type": "code",
   "execution_count": 93,
   "id": "60ae97a6",
   "metadata": {},
   "outputs": [],
   "source": [
    "diccionario[\"DNI\"] = 17757760"
   ]
  },
  {
   "cell_type": "code",
   "execution_count": 94,
   "id": "e5a102d4",
   "metadata": {},
   "outputs": [
    {
     "name": "stdout",
     "output_type": "stream",
     "text": [
      "{'nombre': 'Juan', 'edad': 42, 'peso': 68.5, 'DNI': 17757760}\n"
     ]
    }
   ],
   "source": [
    "print(diccionario)"
   ]
  },
  {
   "cell_type": "markdown",
   "id": "8815d13d",
   "metadata": {},
   "source": [
    "Del uso de esta sintaxis, y de la propia definición de la estructura, surgen varias preguntas. Por ejemplo, ¿Qué ocurre si intento acceder a un elemento cuya llave no existe? ¿Qué ocurre si intento definir dos elementos con la misma llave? Invitamos a los lectores a investigar por su cuenta, a partir de prueba y análisis, que ocurre en estas situaciones y otras que se puedan imaginar, intentando interpretar los mensajes de error cuando estos aparezcan."
   ]
  },
  {
   "cell_type": "code",
   "execution_count": null,
   "id": "f85c18c0",
   "metadata": {},
   "outputs": [],
   "source": []
  }
 ],
 "metadata": {
  "kernelspec": {
   "display_name": "Python 3 (ipykernel)",
   "language": "python",
   "name": "python3"
  },
  "language_info": {
   "codemirror_mode": {
    "name": "ipython",
    "version": 3
   },
   "file_extension": ".py",
   "mimetype": "text/x-python",
   "name": "python",
   "nbconvert_exporter": "python",
   "pygments_lexer": "ipython3",
   "version": "3.9.16"
  }
 },
 "nbformat": 4,
 "nbformat_minor": 5
}
