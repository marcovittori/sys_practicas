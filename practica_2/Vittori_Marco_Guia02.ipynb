{
 "cells": [
  {
   "cell_type": "markdown",
   "id": "989c07bc",
   "metadata": {},
   "source": [
    "# Guia 2 - Datos y Variables"
   ]
  },
  {
   "cell_type": "markdown",
   "id": "787cb6f8",
   "metadata": {},
   "source": [
    "★☆☆☆☆ - 2.01) Completar la siguiente tabla"
   ]
  },
  {
   "cell_type": "markdown",
   "id": "76fcdbb9",
   "metadata": {},
   "source": [
    "Dato | Tipo de dato \n",
    "--- | --- \n",
    "10 |int\n",
    "1.1 |float\n",
    "1.0 |float\n",
    "1 |int\n",
    "\"1.1\" |str\n",
    "\"1\" |str\n",
    "\"Hola!\" |str\n",
    "true |not defined\n",
    "\"False\" |str\n",
    "none |not defined\n",
    "True |bool\n",
    "\"NoneType\" |str"
   ]
  },
  {
   "cell_type": "markdown",
   "id": "34f25989",
   "metadata": {},
   "source": [
    "★☆☆☆☆ - 2.02) \n",
    "- Explique con sus palabras que hace el operador \"%\".\n",
    "- Defina una variable llamada **numeritos** que contenga la siguiente tupla \n",
    "```python\n",
    "(0, 3, 0, 3, 4, 5, 6)\n",
    "```\n",
    "- Escriba un bucle que recorra los valores de la variable **numerito** y para cada elemento imprima un mensaje indicando si el número es par o impar, utilizando para esto el operador *%*"
   ]
  },
  {
   "cell_type": "markdown",
   "id": "7715a3ca",
   "metadata": {},
   "source": [
    "Si tenemos a%b, el operador \"%\" determina cuántas veces entra b dentro de a y devuelve el resto. Para utilizarlo para definir números pares e impares hay que ver si el número 2 entra con resto 0 o 1 en el número a definir. "
   ]
  },
  {
   "cell_type": "markdown",
   "id": "420a1128",
   "metadata": {},
   "source": [
    "Si tengo la sentencia **a%b**, lo que hace el operador es ver cuántas veces entra b dentro de a y devuelve el resto. Es decir, se busca el número natural \"n\", tal que $b*n<a; b*(n+1)>a$, y se devuelve la diferencia $a-(b*n)$\n",
    "Este operador se puede utilizar para determinar si un número es par o impar. Se reemplaza a por el número que queremos averiguar y b por 2. Si la devolución del operador es 0, entonces eso quiere decir que el número ingresado es par, dado que es divisible por 2. Existe un número n, tal que $n*2=a$.\n",
    "Por otro lado, si el operador devuelve 1, entonces el número es impar."
   ]
  },
  {
   "cell_type": "code",
   "execution_count": 52,
   "id": "f1c4fadc",
   "metadata": {},
   "outputs": [
    {
     "name": "stdout",
     "output_type": "stream",
     "text": [
      "0 : es par\n",
      "\n",
      "3 : es impar\n",
      "\n",
      "0 : es par\n",
      "\n",
      "3 : es impar\n",
      "\n",
      "4 : es par\n",
      "\n",
      "5 : es impar\n",
      "\n",
      "6 : es par\n",
      "\n"
     ]
    }
   ],
   "source": [
    "numeritos = (0, 3, 0, 3, 4, 5, 6)\n",
    "\n",
    "for a in numeritos:\n",
    "    if a%2 == 0:\n",
    "        print(a, \": es par\")\n",
    "        print()\n",
    "    else:\n",
    "        print(a, \": es impar\")\n",
    "        print()"
   ]
  },
  {
   "cell_type": "markdown",
   "id": "bf437b15",
   "metadata": {},
   "source": [
    "★☆☆☆☆ - 2.03)\n",
    "- Defina la siguiente lista y guardela en una variable llamada **mi_lista**\n",
    "\n",
    "\n",
    "```python\n",
    "[3.14, \"Hola!\", 123456, '22:22', True, \"True\"]\n",
    "```\n",
    "\n",
    "- Escriba un bucle for que recorra todos los elementos de la variable creada anteriormente, imprimiendo el tipo de dato de cada elemento"
   ]
  },
  {
   "cell_type": "code",
   "execution_count": 53,
   "id": "f9564055",
   "metadata": {},
   "outputs": [
    {
     "name": "stdout",
     "output_type": "stream",
     "text": [
      "3.14 <class 'float'>\n",
      "Hola! <class 'str'>\n",
      "123456 <class 'int'>\n",
      "22:22 <class 'str'>\n",
      "True <class 'bool'>\n",
      "True <class 'str'>\n"
     ]
    }
   ],
   "source": [
    "mi_lista=[3.14, \"Hola!\", 123456, '22:22', True, \"True\"]\n",
    "\n",
    "for i in mi_lista:\n",
    "    print(i, type(i))"
   ]
  },
  {
   "cell_type": "markdown",
   "id": "11d64e93",
   "metadata": {},
   "source": [
    "★☆☆☆☆ - 2.04) Copiar el siguiente código y corregir el error\n",
    "\n",
    "```python\n",
    "if 4>6\n",
    "    print(\"4 es mayor a 6\")\n",
    "```"
   ]
  },
  {
   "cell_type": "markdown",
   "id": "853d94bc",
   "metadata": {},
   "source": [
    "Este código tiene dos errores. Primero no están los dos puntos \":\" después de la expresión. Además, no tenía la sentencia negativa del condicional. En este caso la expresión no se cumplía entonces el ciclo no devolvía nada."
   ]
  },
  {
   "cell_type": "code",
   "execution_count": 51,
   "id": "6e6b36f2",
   "metadata": {},
   "outputs": [
    {
     "name": "stdout",
     "output_type": "stream",
     "text": [
      "4 es menor a 6\n"
     ]
    }
   ],
   "source": [
    "if 4>6:\n",
    "    print(\"4 es mayor a 6\")\n",
    "else:\n",
    "    print(\"4 es menor a 6\")"
   ]
  },
  {
   "cell_type": "markdown",
   "id": "92953ee7",
   "metadata": {},
   "source": [
    "★☆☆☆☆ - 2.05) Copiar el siguiente código y corregir el error\n",
    "\n",
    "```python\n",
    "for i in range(5)\n",
    "    print(i)\n",
    "    if i>2:\n",
    "    print(\"es mayor a 2\")\n",
    "    else\n",
    "    print(\"no es mayor a 2\")\n",
    "```"
   ]
  },
  {
   "cell_type": "markdown",
   "id": "b38878ea",
   "metadata": {},
   "source": [
    "Faltaban los \":\" después del rango del ciclo for y de else. Las sentencias del if no estaban con la identación correcta. Además, cambié la línea donde imprime i para que quede en la misma línea que \"es mayor/menor a 2\""
   ]
  },
  {
   "cell_type": "code",
   "execution_count": 59,
   "id": "3d0e5f91",
   "metadata": {},
   "outputs": [
    {
     "name": "stdout",
     "output_type": "stream",
     "text": [
      "0 no es mayor a 2\n",
      "1 no es mayor a 2\n",
      "2 no es mayor a 2\n",
      "3 es mayor a 2\n",
      "4 es mayor a 2\n"
     ]
    }
   ],
   "source": [
    "for i in range(5):\n",
    "    if i>2:\n",
    "        print(i, \"es mayor a 2\")\n",
    "    else:\n",
    "        print(i, \"no es mayor a 2\")"
   ]
  },
  {
   "cell_type": "markdown",
   "id": "8a93d4d1",
   "metadata": {},
   "source": [
    "★★☆☆☆ - 2.06) \n",
    "- Averigue si hay una manera de recorrer solo los valores de un diccionario\n",
    "- Avergue si hay una manera de recorrer solo las llaves de un diccionario"
   ]
  },
  {
   "cell_type": "markdown",
   "id": "1dec4c75",
   "metadata": {},
   "source": [
    "Se pueden hacer las dos cosas. Con un ciclo for y los métodos \"values()\" y \"keys()\". Estos métodos se usan para obtener una vista iterable de los valores y las claves del diccionario"
   ]
  },
  {
   "cell_type": "code",
   "execution_count": 66,
   "id": "38aaeaf4",
   "metadata": {},
   "outputs": [
    {
     "name": "stdout",
     "output_type": "stream",
     "text": [
      "k_0\n",
      "k_1\n",
      "k_2\n",
      "k_3\n",
      "\n",
      "v_0\n",
      "v_1\n",
      "v_2\n",
      "v_3\n"
     ]
    }
   ],
   "source": [
    "mi_diccionario = {\"k_0\":\"v_0\", \"k_1\":\"v_1\", \"k_2\":\"v_2\", \"k_3\":\"v_3\"}\n",
    "for k in mi_diccionario.keys(): #recorro las llaves\n",
    "    print(k)\n",
    "\n",
    "print()\n",
    "for v in mi_diccionario.values(): #recorro los valores\n",
    "    print(v)"
   ]
  },
  {
   "cell_type": "markdown",
   "id": "0d8f3411",
   "metadata": {},
   "source": [
    "★★☆☆☆ - 2.07) Defina una variable que consista en una lista que contenga todos los dias de la semana. Escoja el tipo de dato y nombre de variable que considere adecuado. Luego, escriba un bucle que imprima solamente los dias de la semana que comienzan con la letra \"m\"."
   ]
  },
  {
   "cell_type": "code",
   "execution_count": 73,
   "id": "6c981369",
   "metadata": {},
   "outputs": [
    {
     "name": "stdout",
     "output_type": "stream",
     "text": [
      "mar\n",
      "mier\n"
     ]
    }
   ],
   "source": [
    "dias = [\"lun\", \"mar\", \"mier\", \"jue\", \"vie\", \"sab\", \"dom\"]\n",
    "for i in dias:\n",
    "    if i==\"mar\" or i==\"mier\":\n",
    "        print(i)"
   ]
  },
  {
   "cell_type": "markdown",
   "id": "2e97ae9c",
   "metadata": {},
   "source": [
    "★★☆☆☆ - 2.08)Defina una variable que consista en una lista que contenga los números del 1 al 10 en orden creciente. Escriba un bucle que sea capaz de imprimir los números en orden decreciente."
   ]
  },
  {
   "cell_type": "code",
   "execution_count": 95,
   "id": "5ae13258",
   "metadata": {},
   "outputs": [
    {
     "name": "stdout",
     "output_type": "stream",
     "text": [
      "[10, 9, 8, 7, 6, 5, 4, 3, 2, 1]\n",
      "\n",
      "10\n",
      "9\n",
      "8\n",
      "7\n",
      "6\n",
      "5\n",
      "4\n",
      "3\n",
      "2\n",
      "1\n"
     ]
    }
   ],
   "source": [
    "my_list = list(range(1, 11)) #changing the domain to start at 1\n",
    "\n",
    "my_list.reverse() #reversing the list with .reverse() method\n",
    "print(my_list)\n",
    "print()\n",
    "\n",
    "for i in my_list:\n",
    "    print(i)"
   ]
  },
  {
   "cell_type": "markdown",
   "id": "e4c5aa39",
   "metadata": {},
   "source": [
    "★★★☆☆ - 2.09) Defina una variable de tipo lista, con elementos de tipo int, que consista en los números enteros del 1 al 10000"
   ]
  },
  {
   "cell_type": "code",
   "execution_count": null,
   "id": "d7802fdb",
   "metadata": {},
   "outputs": [],
   "source": [
    "my_list = list(range(1, 10001))\n",
    "#print(my_list) too big...... that's what s.."
   ]
  },
  {
   "cell_type": "markdown",
   "id": "7665cbbf",
   "metadata": {},
   "source": [
    "★★★☆☆ - 2.10) defina un bucle que escriba la serie de fibonacci hasta el elemento numero 100. "
   ]
  },
  {
   "cell_type": "markdown",
   "id": "08eb55e8",
   "metadata": {},
   "source": [
    "La serie de fibonacci se puede generar de varias maneras. Voy a hacer una que definiento un par ordenado y usando un ciclo for y otra definiendo una función recursiva."
   ]
  },
  {
   "cell_type": "code",
   "execution_count": 3,
   "id": "98d835a4",
   "metadata": {},
   "outputs": [
    {
     "name": "stdout",
     "output_type": "stream",
     "text": [
      "1\n",
      "1\n",
      "2\n",
      "3\n",
      "5\n",
      "8\n",
      "13\n",
      "21\n",
      "34\n",
      "55\n"
     ]
    }
   ],
   "source": [
    "a, b = 0, 1 #set the first two terms of the series\n",
    "\n",
    "for i in range(10): #generate the series. change range to 100\n",
    "    print(b)\n",
    "    a, b = b, a + b #opperating with the pairs to get the fibonacci serie"
   ]
  },
  {
   "cell_type": "code",
   "execution_count": 5,
   "id": "1cb35283",
   "metadata": {},
   "outputs": [
    {
     "name": "stdout",
     "output_type": "stream",
     "text": [
      "1\n",
      "1\n",
      "2\n",
      "3\n",
      "5\n",
      "8\n",
      "13\n",
      "21\n",
      "34\n",
      "55\n"
     ]
    }
   ],
   "source": [
    "#recursive function\n",
    "def fibonacci(n):#define the recursive function\n",
    "    if n == 0:#set the first\n",
    "        return 0\n",
    "    elif n == 1:#and the second terms of the series\n",
    "        return 1\n",
    "    else:\n",
    "        return fibonacci(n-1) + fibonacci(n-2) #define the following terms with the recursive function\n",
    "\n",
    "for i in range(10): #generate the series. change to 100\n",
    "    print(fibonacci(i+1))"
   ]
  },
  {
   "cell_type": "markdown",
   "id": "b16ec4c7",
   "metadata": {},
   "source": [
    "Si se quiere generar la serie, pero en vez de tener un umbral de cantidad de elementos se quiere tener uno de valor del número (los primeros terminos de la serie de fibonacci menores a 100 por ejemplo), se puede usar un ciclo while."
   ]
  },
  {
   "cell_type": "code",
   "execution_count": 2,
   "id": "23b80d5a",
   "metadata": {},
   "outputs": [
    {
     "name": "stdout",
     "output_type": "stream",
     "text": [
      "1\n",
      "1\n",
      "2\n",
      "3\n",
      "5\n",
      "8\n",
      "13\n",
      "21\n",
      "34\n",
      "55\n",
      "89\n"
     ]
    }
   ],
   "source": [
    "a, b = 0, 1 #set the first two terms of the series\n",
    "\n",
    "while b <= 100: #generate untill the last number of the serie is less or equal 100\n",
    "    print(b)\n",
    "    a, b = b, a + b\n"
   ]
  },
  {
   "cell_type": "markdown",
   "id": "51f4cc56",
   "metadata": {},
   "source": [
    "★★★☆☆ - 2.11) Defina un bucle que recorra los números del 1 al 1000 e imprima todos los números que sean primos."
   ]
  },
  {
   "cell_type": "markdown",
   "id": "24596628",
   "metadata": {},
   "source": [
    "Primero hay que hacer una función que chequee si un número es primo o no. Se comienza por decir que el número primo más chico es 2. Después se chequea si el número es divisible por todos los números entre 2 y su raíz cuadrada, lo que es la condición mínima para determinar si un número es primo o no.\n",
    "Luego se imprimen todos los números que cumplen con las condiciones de la función."
   ]
  },
  {
   "cell_type": "code",
   "execution_count": 29,
   "id": "9d060bac",
   "metadata": {},
   "outputs": [
    {
     "name": "stdout",
     "output_type": "stream",
     "text": [
      "2\n",
      "3\n",
      "5\n",
      "7\n",
      "11\n",
      "13\n",
      "17\n",
      "19\n",
      "23\n",
      "29\n",
      "31\n",
      "37\n",
      "41\n",
      "43\n",
      "47\n",
      "53\n",
      "59\n",
      "61\n",
      "67\n",
      "71\n",
      "73\n",
      "79\n",
      "83\n",
      "89\n",
      "97\n",
      "101\n",
      "103\n",
      "107\n",
      "109\n",
      "113\n",
      "127\n",
      "131\n",
      "137\n",
      "139\n",
      "149\n",
      "151\n",
      "157\n",
      "163\n",
      "167\n",
      "173\n",
      "179\n",
      "181\n",
      "191\n",
      "193\n",
      "197\n",
      "199\n",
      "211\n",
      "223\n",
      "227\n",
      "229\n",
      "233\n",
      "239\n",
      "241\n",
      "251\n",
      "257\n",
      "263\n",
      "269\n",
      "271\n",
      "277\n",
      "281\n",
      "283\n",
      "293\n",
      "307\n",
      "311\n",
      "313\n",
      "317\n",
      "331\n",
      "337\n",
      "347\n",
      "349\n",
      "353\n",
      "359\n",
      "367\n",
      "373\n",
      "379\n",
      "383\n",
      "389\n",
      "397\n",
      "401\n",
      "409\n",
      "419\n",
      "421\n",
      "431\n",
      "433\n",
      "439\n",
      "443\n",
      "449\n",
      "457\n",
      "461\n",
      "463\n",
      "467\n",
      "479\n",
      "487\n",
      "491\n",
      "499\n",
      "503\n",
      "509\n",
      "521\n",
      "523\n",
      "541\n",
      "547\n",
      "557\n",
      "563\n",
      "569\n",
      "571\n",
      "577\n",
      "587\n",
      "593\n",
      "599\n",
      "601\n",
      "607\n",
      "613\n",
      "617\n",
      "619\n",
      "631\n",
      "641\n",
      "643\n",
      "647\n",
      "653\n",
      "659\n",
      "661\n",
      "673\n",
      "677\n",
      "683\n",
      "691\n",
      "701\n",
      "709\n",
      "719\n",
      "727\n",
      "733\n",
      "739\n",
      "743\n",
      "751\n",
      "757\n",
      "761\n",
      "769\n",
      "773\n",
      "787\n",
      "797\n",
      "809\n",
      "811\n",
      "821\n",
      "823\n",
      "827\n",
      "829\n",
      "839\n",
      "853\n",
      "857\n",
      "859\n",
      "863\n",
      "877\n",
      "881\n",
      "883\n",
      "887\n",
      "907\n",
      "911\n",
      "919\n",
      "929\n",
      "937\n",
      "941\n",
      "947\n",
      "953\n",
      "967\n",
      "971\n",
      "977\n",
      "983\n",
      "991\n",
      "997\n"
     ]
    }
   ],
   "source": [
    "def is_prime(n): #function to check if a number is prime\n",
    "    if n < 2:\n",
    "        return False #create a false bool if the number is less than 2\n",
    "    for i in range(2, int(n**0.5)+1):\n",
    "        if n % i == 0: #checks if it's divisible by any number between 2 and greater than the square root\n",
    "            return False\n",
    "    return True\n",
    "\n",
    "for n in range(1, 1001): #prints all the numbers checked by the function and prints them\n",
    "    if is_prime(n):\n",
    "        print(n)"
   ]
  },
  {
   "cell_type": "markdown",
   "id": "16489564",
   "metadata": {},
   "source": [
    "★★★☆☆ - 2.12) Se requiere usar la función integrada **input**. A diferencia de las otras funciones integradas, no vamos a explicar como funciona, sino que lo van a tener que averiguar por su cuenta. Busquen la documentación oficial de la función, o ejemplos en blogs de programación. Pueden hacer pruebas hasta estar seguros de entender su funcionamiento. Usen las herramientas de exploración que vimos en la clase, como por ejemplo las funciones integradas print y type. Una vez que comprendan como funciona, usen esta función para definir dos varibales llamadas **jugador_1** y **jugador_2**. Los valores que pueden tomar estas variables son \"piedra\", \"papel\" o \"tijera\". En base a estas variables, imprima un mensaje diciendo que jugador ganó."
   ]
  },
  {
   "cell_type": "code",
   "execution_count": 3,
   "id": "83ffb4ad",
   "metadata": {},
   "outputs": [
    {
     "name": "stdout",
     "output_type": "stream",
     "text": [
      "Player 1, choose rock, paper or scissors: rock\n",
      "Player 2, choose rock, paper or scissors: rock\n",
      "Tie\n"
     ]
    }
   ],
   "source": [
    "player_1 = input(\"Player 1, choose rock, paper or scissors: \") #set the inputs to read the answers of both players\n",
    "player_2 = input(\"Player 2, choose rock, paper or scissors: \")\n",
    "\n",
    "if player_1 == player_2: #conditional chain to determine which player wins or if it's a tie\n",
    "    print(\"Tie\")\n",
    "elif player_1 == \"rock\":\n",
    "    if player_2 == \"paper\":\n",
    "        print(\"Player 2 wins\")\n",
    "    else:\n",
    "        print(\"Player 1 wins\")\n",
    "elif player_1 == \"paper\":\n",
    "    if player_2 == \"scissors\":\n",
    "        print(\"Player 2 wins\")\n",
    "    else:\n",
    "        print(\"Player 1 wins\")\n",
    "elif player_1 == \"scissors\":\n",
    "    if player_2 == \"rock\":\n",
    "        print(\"Player 2 wins\")\n",
    "    else:\n",
    "        print(\"Player 1 wins\")\n",
    "else:\n",
    "    print(\"Invalid input. Please choose rock, paper, or scissors.\")"
   ]
  },
  {
   "cell_type": "code",
   "execution_count": 7,
   "id": "ada59cc2",
   "metadata": {},
   "outputs": [
    {
     "name": "stdout",
     "output_type": "stream",
     "text": [
      "Player 1, choose rock, paper, or scissors: rock\n",
      "PC chooses rock.\n",
      "Tie\n"
     ]
    }
   ],
   "source": [
    "import random #randomize the player 2 choice\n",
    "\n",
    "player_1 = input(\"Player 1, choose rock, paper, or scissors: \")\n",
    "player_2 = random.choice([\"rock\", \"paper\", \"scissors\"]) \n",
    "\n",
    "print(f\"PC chooses {player_2}.\") #f before a string replaces the expression between \"{}\" to the current runtime value. In this case it's the random choise \n",
    "\n",
    "if player_1 == player_2:\n",
    "    print(\"Tie\")\n",
    "elif player_1 == \"rock\":\n",
    "    if player_2 == \"paper\":\n",
    "        print(\"PC wins\")\n",
    "    else:\n",
    "        print(\"Player 1 wins\")\n",
    "elif player_1 == \"paper\":\n",
    "    if player_2 == \"scissors\":\n",
    "        print(\"PC wins\")\n",
    "    else:\n",
    "        print(\"Player 1 wins\")\n",
    "elif player_1 == \"scissors\":\n",
    "    if player_2 == \"rock\":\n",
    "        print(\"PC 2 wins\")\n",
    "    else:\n",
    "        print(\"Player 1 wins\")\n",
    "else:\n",
    "    print(\"Invalid input. Please choose rock, paper, or scissors.\")\n"
   ]
  },
  {
   "cell_type": "code",
   "execution_count": 13,
   "id": "1c35c255",
   "metadata": {},
   "outputs": [
    {
     "name": "stdout",
     "output_type": "stream",
     "text": [
      "Player 1, choose rock, paper, or scissors: rock\n",
      "PC choose rock\n",
      "Tie\n",
      "Player 1, choose rock, paper, or scissors: exit\n",
      "PC choose rock\n"
     ]
    }
   ],
   "source": [
    "import random #randomize the player 2 choice\n",
    "n = True\n",
    "\n",
    "while n:\n",
    "    player_1 = input(\"Player 1, choose rock, paper, or scissors: \")\n",
    "    player_2 = random.choice([\"rock\", \"paper\", \"scissors\"]) \n",
    "        \n",
    "    if player_1 == \"exit\":\n",
    "        n = False\n",
    "    elif player_1 == player_2:\n",
    "        print(\"Tie\")\n",
    "    elif player_1 == \"rock\":\n",
    "        if player_2 == \"paper\":\n",
    "            print(\"PC wins\")\n",
    "        else:\n",
    "            print(\"Player 1 wins\")\n",
    "    elif player_1 == \"paper\":\n",
    "        if player_2 == \"scissors\":\n",
    "            print(\"PC wins\")\n",
    "        else:\n",
    "            print(\"Player 1 wins\")\n",
    "    elif player_1 == \"scissors\":\n",
    "        if player_2 == \"rock\":\n",
    "            print(\"PC 2 wins\")\n",
    "        else:\n",
    "            print(\"Player 1 wins\")\n",
    "    else:\n",
    "        print(\"Invalid input. Please choose rock, paper, or scissors.\")\n"
   ]
  }
 ],
 "metadata": {
  "kernelspec": {
   "display_name": "Python 3 (ipykernel)",
   "language": "python",
   "name": "python3"
  },
  "language_info": {
   "codemirror_mode": {
    "name": "ipython",
    "version": 3
   },
   "file_extension": ".py",
   "mimetype": "text/x-python",
   "name": "python",
   "nbconvert_exporter": "python",
   "pygments_lexer": "ipython3",
   "version": "3.9.16"
  }
 },
 "nbformat": 4,
 "nbformat_minor": 5
}
